{
 "cells": [
  {
   "cell_type": "code",
   "execution_count": 3,
   "metadata": {},
   "outputs": [],
   "source": [
    "import pandas as pd\n",
    "from torch.utils.data import DataLoader,Dataset\n",
    "from transformers import  MT5ForConditionalGeneration,T5Tokenizer\n",
    "from transformers import DataCollatorForSeq2Seq\n",
    "from sklearn.model_selection import train_test_split"
   ]
  },
  {
   "cell_type": "code",
   "execution_count": 4,
   "metadata": {},
   "outputs": [],
   "source": [
    "class TranslationDataset(Dataset):\n",
    "\n",
    "    def __init__(self,data_frame,tokenizer_name='google/mt5-base') -> None:\n",
    "        super().__init__()\n",
    "        self.dataframe = data_frame\n",
    "        self.tokenizer = T5Tokenizer.from_pretrained(tokenizer_name)\n",
    "\n",
    "    def __len__(self):\n",
    "        return self.dataframe.shape[0]\n",
    "    def __getitem__(self, index):\n",
    "        tokenized_data = self.tokenizer(self.dataframe.iloc[index,0],text_target=self.dataframe.iloc[index,1], return_tensors=\"pt\")\n",
    "        \n",
    "        tokenized_data['input_ids'] = tokenized_data['input_ids'].squeeze(0)\n",
    "        tokenized_data['attention_mask'] = tokenized_data['attention_mask'].squeeze(0)\n",
    "        tokenized_data['labels'] = tokenized_data['labels'].squeeze(0)\n",
    "        return tokenized_data\n"
   ]
  },
  {
   "cell_type": "code",
   "execution_count": 5,
   "metadata": {},
   "outputs": [],
   "source": [
    "\n",
    "tokenizer_name = \"google/mt5-base\"\n",
    "translation_model = MT5ForConditionalGeneration.from_pretrained(\"google/mt5-base\")\n",
    "t5_tokenizer =  T5Tokenizer.from_pretrained(tokenizer_name)\n",
    "\n",
    "data_collator = DataCollatorForSeq2Seq(t5_tokenizer, model=translation_model, return_tensors=\"pt\")"
   ]
  },
  {
   "cell_type": "code",
   "execution_count": 6,
   "metadata": {},
   "outputs": [],
   "source": [
    "def collate_fn(batch_data):\n",
    "    return data_collator(batch_data)"
   ]
  },
  {
   "cell_type": "code",
   "execution_count": 7,
   "metadata": {},
   "outputs": [],
   "source": [
    "data_frame = pd.read_csv(\"./data/EN-DE.txt\", sep='\\t',header=0, names=['src', 'trg', 'c1','c2','c3','c4','c5','c6'])[:100]\n",
    "train_df , valid_df = train_test_split(data_frame,test_size=0.07)"
   ]
  },
  {
   "cell_type": "code",
   "execution_count": 8,
   "metadata": {},
   "outputs": [],
   "source": [
    "train_dataset = TranslationDataset(train_df)\n",
    "valid_dataset = TranslationDataset(valid_df)\n",
    "\n",
    "BATCH_SIZE = 6\n",
    "train_dataloader = DataLoader(train_dataset,BATCH_SIZE,collate_fn=collate_fn,shuffle=True)\n",
    "valid_dataloader = DataLoader(valid_dataset,BATCH_SIZE,collate_fn=collate_fn,shuffle=False)\n"
   ]
  },
  {
   "cell_type": "code",
   "execution_count": 15,
   "metadata": {},
   "outputs": [],
   "source": [
    "batch_data = next(iter(train_dataloader))\n",
    "outs = translation_model(**batch_data)"
   ]
  },
  {
   "cell_type": "code",
   "execution_count": null,
   "metadata": {},
   "outputs": [],
   "source": []
  }
 ],
 "metadata": {
  "kernelspec": {
   "display_name": "Python 3.9.13 ('gymenv')",
   "language": "python",
   "name": "python3"
  },
  "language_info": {
   "codemirror_mode": {
    "name": "ipython",
    "version": 3
   },
   "file_extension": ".py",
   "mimetype": "text/x-python",
   "name": "python",
   "nbconvert_exporter": "python",
   "pygments_lexer": "ipython3",
   "version": "3.9.13"
  },
  "orig_nbformat": 4,
  "vscode": {
   "interpreter": {
    "hash": "d1b0110cf1cb03549be737c5657a86ea4daeeb81469a7991ed915d907f3e629c"
   }
  }
 },
 "nbformat": 4,
 "nbformat_minor": 2
}
