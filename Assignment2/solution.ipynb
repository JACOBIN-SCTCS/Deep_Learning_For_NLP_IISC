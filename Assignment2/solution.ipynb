{
 "cells": [
  {
   "cell_type": "code",
   "execution_count": 38,
   "metadata": {},
   "outputs": [],
   "source": [
    "import csv\n",
    "from torch.utils.data import Dataset\n",
    "import torch\n",
    "from sklearn.model_selection import train_test_split\n",
    "import numpy as np\n",
    "from bs4 import BeautifulSoup\n",
    "import string\n",
    "import spacy\n",
    "import re\n",
    "import torch.nn as nn\n",
    "from torch.nn.utils.rnn import pad_packed_sequence,pack_padded_sequence,pad_sequence\n",
    "import torch.nn.functional as F\n",
    "import torch.optim as optim\n",
    "from torch.utils.tensorboard import SummaryWriter\n",
    "writer = SummaryWriter()\n",
    "import fasttext\n",
    "from torch.utils.data import SubsetRandomSampler,DataLoader\n",
    "from torchtext.vocab import GloVe\n",
    "\n",
    "EMBED_DIM = 5\n",
    "HIDDEN_DIM = 2\n",
    "\n",
    "PATIENCE_PARAMETER = 4\n",
    "VALIDATION_LOSS_COMPUTE_STEP = 2\n",
    "\n",
    "\n",
    "device_cpu = torch.device('cpu')\n",
    "\n",
    "device_fast = torch.device('cpu')\n",
    "\n",
    "if torch.has_mps:\n",
    "    device_fast = torch.device('mps')\n",
    "elif torch.has_cuda:\n",
    "    device_fast = torch.device('cuda')\n",
    "\n",
    "\n",
    "torch.manual_seed(0)\n",
    "np.random.seed(0)\n",
    "nlp = spacy.load('en_core_web_sm')"
   ]
  },
  {
   "cell_type": "code",
   "execution_count": 7,
   "metadata": {},
   "outputs": [
    {
     "name": "stderr",
     "output_type": "stream",
     "text": [
      "Warning : `load_model` does not return WordVectorModel or SupervisedModel any more, but a `FastText` object which is very similar.\n"
     ]
    }
   ],
   "source": [
    "fasttext_model = fasttext.load_model('./crawl-300d-2M-subword/crawl-300d-2M-subword.bin')"
   ]
  },
  {
   "cell_type": "code",
   "execution_count": 39,
   "metadata": {},
   "outputs": [],
   "source": [
    "glove =   GloVe()"
   ]
  },
  {
   "cell_type": "code",
   "execution_count": 25,
   "metadata": {},
   "outputs": [
    {
     "name": "stderr",
     "output_type": "stream",
     "text": [
      "/Users/depressedcoder/environments/gymenv/lib/python3.9/site-packages/bs4/__init__.py:435: MarkupResemblesLocatorWarning: The input looks more like a filename than markup. You may want to open this file and pass the filehandle into Beautiful Soup.\n",
      "  warnings.warn(\n"
     ]
    }
   ],
   "source": [
    "file = open('processed_text.txt','w')\n",
    "punctuation_words = open('punct.txt','w')\n",
    "break_file = open('break.txt','w')\n",
    "\n",
    "punctuations = set(list(string.punctuation))\n",
    "\n",
    "\n",
    "def preprocess_text(text):\n",
    "    \n",
    "\n",
    "    text = re.sub(r'<br /><br />',\"\",text)\n",
    "    text = BeautifulSoup(text,'lxml').get_text().strip()\n",
    "    text = text.lower()\n",
    "\n",
    "    #text = re.sub(r'^https?:\\/\\/.*[\\r\\n]*', '', text, flags=re.MULTILINE)\n",
    "    text = re.sub(r\"http\\S+\", \"\", text)\n",
    "    new_text = []\n",
    "    for word in text.split(' '):\n",
    "        if word == '':\n",
    "            continue\n",
    "        if '.' in word and len(word)>1:\n",
    "            #if 'http' in word:\n",
    "            #    words = word.split('.')\n",
    "            #    words[1] = ''.join(words[1:])\n",
    "            #    words = [words[0],words[1]]\n",
    "            #else:\n",
    "            #    words = word.split('.')\n",
    "           \n",
    "            words = word.split('.')\n",
    "            for w in words:\n",
    "                new_text.append(w)\n",
    "        else:\n",
    "            new_text.append(word)\n",
    "    \n",
    "    text = ' '.join(new_text)\n",
    "\n",
    "    words = nlp(text)\n",
    "    review =  ' '.join(token.text for token in words)\n",
    "    #review =  \" \".join([re.sub(r'^https?:\\/\\/.*[\\r\\n]*', '', token.text, flags=re.MULTILINE) for token in words])\n",
    "    for word in review.split(' '):\n",
    "        if any([punct in word for punct in punctuations]):\n",
    "            punctuation_words.write(word + \"\\n\")\n",
    "\n",
    "\n",
    "    file.write(text + '\\n')\n",
    "    return text\n",
    "\n",
    "\n",
    "preprocessed_dataset = []\n",
    "train_dataset_labels = []\n",
    "\n",
    "\n",
    "with open(\"./Train dataset.csv\") as csvfile:\n",
    "    csvFile = csv.reader(csvfile)\n",
    "    next(csvFile)\n",
    "\n",
    "    for line in csvFile:\n",
    "        processed_text = preprocess_text(line[0])\n",
    "        label = 1 if line[1] == 'positive' else 0\n",
    "        train_dataset_labels.append(label)\n",
    "        preprocessed_dataset.append({\"text\":processed_text,\"label\":label})\n",
    "\n",
    "train_dataset_labels = np.array(train_dataset_labels)\n",
    "file.close()\n",
    "punctuation_words.close()\n",
    "break_file.close()\n",
    "\n"
   ]
  },
  {
   "cell_type": "code",
   "execution_count": 28,
   "metadata": {},
   "outputs": [],
   "source": [
    "class ReviewDataSet(Dataset):\n",
    "    def __init__(self,data):\n",
    "        super().__init__()\n",
    "        self.data = data\n",
    "\n",
    "    def __len__(self):\n",
    "        return len(self.data)\n",
    "    \n",
    "    def __getitem__(self, index):\n",
    "        return self.data[index]\n",
    "\n",
    "dataset = ReviewDataSet(preprocessed_dataset)"
   ]
  },
  {
   "cell_type": "code",
   "execution_count": 32,
   "metadata": {},
   "outputs": [],
   "source": [
    "# Train and Validation split and an equal distriubition of classes\n",
    "train_idx,valid_idx = train_test_split(np.arange(train_dataset_labels.shape[0]), \n",
    "    test_size=0.2,\n",
    "    shuffle= True,\n",
    "    stratify= train_dataset_labels,\n",
    "    random_state=0\n",
    ")\n",
    "\n",
    "train_sampler = SubsetRandomSampler(train_idx)\n",
    "valid_sampler = SubsetRandomSampler(valid_idx)\n",
    "\n",
    "train_dataloader = DataLoader(dataset,32,sampler=train_sampler)\n",
    "valid_dataloader = DataLoader(dataset,32,sampler=valid_sampler)\n"
   ]
  },
  {
   "cell_type": "code",
   "execution_count": 37,
   "metadata": {},
   "outputs": [
    {
     "data": {
      "text/plain": [
       "{'text': ['it\\'s not hard to imagine what the main problem for a screenwriter is who wants to have 18 equally well written characters with about the same amount of screen time in a movie that last around 90 minutes  it\\'s almost impossible not to fall back on stereotypes and that is also what writer-director ralf westhoff does here  very few of the characters can be recognized as people that you and me know in real life, many of them are just characterized with two or three attributes and stay vague  i am aware of that but still think that \"shoppen\" is successful, namely that it accomplishes just what it wants to  it is a film with very well written dialogue, extremely good acting and a film that made me laugh out loud really often  i don\\'t think that this film wants to make a deep going analysis of loneliness in our modern society, or that it wants to be moral commentary on speed-dating  it\\'s a movie about something that exists and people and their motivation to use it  funny and entertaining ',\n",
       "  'julien hernandez is certainly an attractive and likable on screen persona  in fact, his character pretty much carries this whole film, or what\\'s worthwhile about it  the problem is, with the exception of his gal pal (played by marisa petroro) and paul lekakis (as a trick/date/ boyfriend for some of the characters) no one else even comes close  hernandez plays a 30- something director of cuban heritage, and unknown sexuality, who comes to l a  and gets a job making a gay documentary  in the process of meeting a group of gay people while finding subjects, he comes out   but very s l o w l y  even at 88 minutes, the film has obviously been stretched out and padded with various film-school devices, most of which only end up pointlessly interrupting the narrative (which ain\\'t much to begin with) or pointing out the overall amateurish-ness of the film-making  which is a shame, because there\\'s a love story in here somewhere, and the final three minutes, when hernandez\\'s sebastien finally clicks with a wealthy west hollywood party- thrower (nicely underplayed by lonnie henderson) and they share some sexy soulful kisses, it works despite all that came before  but we don\\'t really care about any of the other characters or their situations: why would handsome dante have a eurotrash priss for a boyfriend? he wouldn\\'t  and don\\'t even get me started on sebastien\\'s friend paulie\\'s \"rules\" for dating -- no gay man i know, hell no sane person, period, would put such constrictions on himself or others  and please tell me how sebastien gets a peeled banana (which is normally fairly shmushy, right?) stuck up his butt and has to go to a doctor to get it removed? i noticed hernandez won an award for this film as a \"short\" -- it probably should have stayed that way  all this said -- i\\'d look forward to seeing hernandez on screen again, in a better scripted comedy with more assured direction ',\n",
       "  \"tiny toons is the first cartoon i remember watching as a child and i loved every minute of it  when i was four or five my parents purchased the video how i spent my vacation  i watched it over and over again until i new every word  well a few days ago my three year old cousin came over and i had to entertain him  i decided to show him this old relic of my childhood  i new he would laugh but i was surprised how much i laughed  like every tiny toons film and episode the humor is based more on wackiness and slapstick humor and succeeds tremendously  bugs, babs, plucky duck, maton pig, and fifi all endure amazing adventures from bugs and babs white-water rafting with a little help from superman, plucky duck and maton pig travel to the greatest amusement park only to ride the monorail, and elmyra goes on an odd quest to find cute kittens in a safari land some of the classic humor stands in this tiny toon adventure and is some of the best wacky comedy i've ever seen  my favorite gag had to be the monorail thing when hamton and plucky arrive, ride the monorail, and leave )much to plucky's dismay)  no matter what your age you'll laugh yourself to tears while not having to deal with language and nudity tiny toons adventures: how i spent my vacation  starring the voices of: charles adler, tress macneille, joe alaskey, and don messick 5 out of 5 stars \",\n",
       "  'two films are useful for scaring people to god, this and \\'event horizon\\'  one has a significant and poignant message, the other is as one-dimensional as a religious movie can get  too bad paul anderson went on to the accursed resident evil movies, he really had something going thief in the night is hampered by many obvious independent film attributes (acting, storytelling, dialog, and persuasion) and it\\'s obvious what the film\\'s intentions are from the start  the christian film industry hasn\\'t learned from the failures of this, so we are stuck with the omega code, left behind, and the other tribulation movies  their underlying element is that they are so concerned with selling their message: \"get saved, folks!\" that everything else becomes second to whacking the audience over the head with a bible overall, i can\\'t believe i\\'m even writing this much about a movie this ineffective  skip it entirely and go back to sam neil gouging out his eyeballs  1 out of 5 ',\n",
       "  'i think if you were to ask most jw\\'s whether they expect a miracle cure because of their faith, you will find they do not  i know i do not  what you will find instead is that they believe the promises christ made of a resurrection  so, even even if the worst were to happen and we die while holding onto our integrity, jehovah can, and will correct this it really gets down to a simple question: is god real to you or is this all just make believe? if he is real, and you trust him, you will follow his directions no matter what the short term outcome may be i had a heart attack about a year and a half ago  one in my family was horrified when she saw the words \"no blood\" written in large letters over my chart  i reasoned with her that if i were in a position that only a blood transfusion would save my life, would that be a good time to anger the only one could return me to life when the time came? she didn\\'t get it -- god just isn\\'t real enough to her  too bad  i wish she could have the comfort a strong faith gives ',\n",
       "  'being a giant monster fan, me seeing \"yeti\" was an absolute must, especially after hearing so much about it  thanks to the good \\'ol bootleg market i was able to find a copy pretty easily, and was happily surprised upon watching that this flick was actually, dare i say, decent decent for what it is, actually, namely a cheesy giant-monster flick  it kicks in pretty quickly as yeti is found pretty much immediately, and we get introduced to various characters  they consist of some sleazy ones, some good ones, and a girl who is pretty much one of the most downright strikingly beautiful girls in any cheesy sci-fi film, by far yeti looks like a long-haired guy straight out of the original woodstock concert, and really, he\\'s not that bad of a dude, especially after being introduced to the world in some kind of funky cage-like thing  godzilla he is not - despite his rude awakening, he doesn\\'t even rampage (actually he rarely destroys anything in the whole picture), but kinda just looks puzzled while trying to figure things out  yeti seems to understand english pretty nicely (my copy was dubbed in english) and he knows who the good guys and bad guys are however, we want to see the giant yeti do his thing, and he\\'s pretty much in the whole movie, and in typical low-budget fashion, he seems to change size a lot depending on the scene and there\\'s even a bunch of the \"fake legs\" shots of him just standing there yes, the special effects aren\\'t the greatest, but there are definitely some good ones here  a scene where yeti smashes through a warehouse is done very well, and in another, he uses the windows of a building as \"ladder steps\" to climb down from the top of it - shattering each window with his foot and often shocking the occupants inside - in one sequence that really looks much, much better than it should in such a \"bad\" movie \"yeti\" never stoops as low as say, \"a p e \" does  actually the only time it even comes close to genuine silliness is when the beautiful girl causes yeti\\'s nipple to become erect and he lifts his eyebrow in an \"oh yeah baby\" manner  but even this isn\\'t that bad, and kinda even gets a laugh out of the viewer the movie is pretty long for this kind of thing, but surprisingly enough it doesn\\'t get boring - the story is actually good, and just watching this utterly gorgeous actress on screen will make any male viewer happy \"yeti\" may not be in the upper echelon of giant monster flicks, but it is definitely better than other king kong \\'76 rip-offs like \"a p e \" and \"queen kong\" by very far ',\n",
       "  \"cross-eyed is a very original and funny movie  i think adam jones brings a refreshing new set of eyes to the comedy genre and really reinvents it in a good way  this film is smart, concise, and consistently entertaining and funny  as a writer/director, jones exhibits complete control over his characters who are both absurd and lovable  the story is definitely something you haven't seen before which is good  it's unique and fun, and manages to work in visually fantastic elements as well as the long lost slapstick genre together to form a hearty comedy a very promising first film \",\n",
       "  \"this is certainly the worst movie i ever saw? the beginning is somewhat good, but the end? i still don't even get it! magical power, 300 years later, goddess, dancing what the f*** is that about??? the acting is somewhat not so bad   but some place i could do better for sure!\",\n",
       "  \"there are some wonderful things about this movie  marion davies could act, given the right property; she is wonderful in comedic roles  william haines could act, and you can see why he was one of the screen's most popular leading men  (until a potential scandal forced him from the business) the story is a bit trite, but handled so beautifully that you don't notice  king vidor's direction is one of the principle reasons for this  the producer? the boy genius, irving thalberg it's about movie making, and you get to see the process as it was done in 1928, the cameras, sets, directors directing and actors emoting  you get to see (briefly) some of the major stars of the day; even charlie chaplin does a turn as himself, seeking an autograph  you also catch glimpses of eleanor boardman, elinor glyn, claire windsor, king vidor, and many others who are otherwise just names and old photographs please, even if you're not a fan of the silents, take the time to catch this film when you can  it's really a terrific trip back in time \",\n",
       "  'i think i\\'ve finally seen the worst movie ever made, and it hurts me to say that  as a big fan of indie cinema, gay or otherwise, i had high hopes  several minutes into the film, however, the sheriff appeared and has my vote for the worst actor of this or any other century  his performance, and the dialog he was forced to perform, caused me the unusual step of stopping the dvd in its track  hours later when i screwed up enough courage to press the play button again, it was no better aside from the sheriff and his cartoon-racist deputies, the film has an attractive cast for whom i felt genuine sympathy since they had such a miserable script  the idea behind the film is fine - using lynching of gay men in the \"new south\" the same way it was used on black men in the old south, leaving \"strange fruit\" hanging from the trees with an accomplished writer and director, we might have had a movie  instead we get fake detective work, platitudes about homosexuality, and a cliché with a the one good white man trying to save the day i have no doubt that racism still flourishes  the fbi is currently investigating a white school bus driver in the back woods of louisana who forced the black kids to get to the back of the bus  but this town is a cartoon, and it is hard to believe anything you see or hear there a few subplots in a weak attempt to try to make the main character more three-dimensional, but for the most part, they also fail miserably for the truly masochistic, the dvd contains some deleted scenes that will leave you running for cover the is probably the first movie that makes me believe that writer/directors should have to pass a test and get licensed before they can make a film  although i would look forward to seeing several of the cast members in better films, i would be hard-pressed to witness anything else from this director ',\n",
       "  \"please, future writers, producers, directors - learn from this movie!never before have i seen such a bold and original tale created for the big movie screen  bold, because the script constantly made a step so many fantasy movies safely avoided - a step to something new, creative and daring  just when you think 'oh, i've seen this before' or 'i am sure this is what will happen now' - stardust would make an unexpected twist and involve you more and more into the story the actors are great - even the smallest part is performed with such talent it fills me with awe for the creators of this movie  robert de niro is gorgeous and performs with such energy that he simply steals the show in each scene he's in  michelle pfeiffer is the perfect witch, and claire danes a wonderful choice for the innocent and loving 'star', yvaine  other big names make outstanding roles  i had the filling everyone is trying to give his best for this movie  but once again, the story by neil gaiman, all the little things he 'invented' for this universe - simply outstanding i watched this movie at a pre-screening today, a day before the official release, and do hope it will have huge success  there is so much humor, but also tense moments as well as lovely tender scenes  the look in the eyes of yvaine, the 'frivolities' of captain shakespeare, the passion of lamia the witch - impressive, unforgettablefor me this is the number one entertaining movie of 2007, watch it and enjoy it11/10 - outstandingpeace and love\",\n",
       "  'this is the most pitiful excuse for a comedy show i\\'ve ever seen  i\\'m confounded that this guy was given his own show  it smells of complete and utter desperation on the part of comedy central, trying to fill the void left by the talented and incomparable dave chapelle  he\\'s a tip from ned\\'s bag of comedy gold: is a punchline not funny? need to give it that extra push into hilarity? f***ing yell it at the top of your lungs  simple, no? and as an added bonus    finish half your jokes with   then you\\'re re-tah-ded!! or duh-du-duuuuhhhh! oh man  so    funny  beaner   hilarious  wetback    does the laughter ever stop?to illustrate my point in a more cerebral way, i\\'ll cite an example  mencia jokes about how \"retarded\" it is to rebuild new orleans, because it\\'s so close to the water  genius  the line of distinction between a great comedian and a hack has never been drawn so clearly  while a good comedian would find hidden humor in the tragedy, finding subtle ways of weaving a joke into something that we can all laugh at and take solace in, ned goes for the obvious  move the city  great  wait, is that funny? ned doesn\\'t have the intellectual capacity to find the deepest meaning of things  the hurricane didn\\'t flood the city, ned  the levee project was underfunded and in serious need of federal dollars   and behold! they broke  i guess that\\'s god\\'s way of telling us we shouldn\\'t be there  after all, he\\'s got a seat in congress  what a fool chapelle was a master of turning a tired racial comedic spin on its head  he was effortless at it, and at all points, we were laughing with him  while mencia talks about black people not being able to swim *yawn,* chapelle took it 300 yards further with the black and blind white supremesist  you don\\'t have to be scathing to be edgy  you have to be original  mencia and his legions of fans are like that closeted gay dude who laughs all too emphatically at gay jokes, thinking it somehow masks his own insecurities  except of course, with ned, he\\'s laughing all too emphatically at the \"retards \" du-du-duuuuh ',\n",
       "  \"no, this is nothing about that fairy tale with the pumpkin coach, fairy godmother and the glass slippers, but if i were to elaborate, i would have to spoil it for you, which i won't  but don't let curiosity get the better of you, as this movie is not fantastic  it's one of those movies that start off promisingly, before betraying its audience with cheap scare tactics and an incoherent storyline  and that's real horror yoon-hee (to ji-won) and hyun-soo (shin se-kyeong) are your ideal mother and daughter  one's a successful plastic surgeon, while the other your dutiful, obedient, and beautiful teenage daughter  their relationship is like hand in glove, so close you'd think of them more as siblings rather than parent-child  but things start to go wrong (don't they always) when hyun-soo's friends, whom yoon-hee has operated on, start to go berserk perhaps it's a warning to audiences, and for those koreans ladies who don't bat an eyelid when going under the knife, if news reports are to be believed  the only truly scary moments are those scenes in plastic surgery, though somehow, i thought kim ki-duk's time actually had more gore when featuring and describing what goes on during the surgery itself it's a tale of two halves, the fist being an attempt to shock audiences with standard scare tactics, which, i admit, did get to me now and then  however, the second half degenerated the movie into mindless mumbo-jumbo melodramatics, and was quite contrived into its forcing its ideas down your throat  some things begin not to make sense, and while attempts are always presented to explain, you probably won't buy it, not that horror movies are logical to begin with the leads are all beautiful, and there is a distinct lack of male presence besides the negligible cop role  but hey, i'm not complaining, though the storyline could have been improved tremendously  i'd recommend you to watch this, only if you're a fan of mediocre korean horror, on vcd  watch out for those face off-ish moments!\",\n",
       "  \"i can't remember many films where a bumbling idiot of a hero was so funny throughout  leslie cheung is such the antithesis of a hero that he's too dense to be seduced by a gorgeous vampire    i had the good luck to see it on a big screen, and to find a video to watch again and again  9/10\",\n",
       "  'the movie starts in mexico where a girl has been cursed, she spits on snakes thru green jello and her friend tries all these crazy spells to lift the curse  he does nothing but chant horrible language that does nothing, so they decide to cross the border get on the train to make their way to l a  to see his uncle to lift the curse  comic hilarity ensues  this movie has the same snakes over and over! it has garden snakes and pythons that will never bite  they all make the sound of rattlesnakes which makes no sense  the whole movie has some funny lines, some weak effects, but most important a great ending that leaves you like wham bam what the heck just happened!!!!! the whole movie is about a 1, but the ending is a 10, so by my crazy math it gets a 3 overall  when blockbuster has nothing else you want, grab this for mindless entertainment!',\n",
       "  \"if we really want to get serious and find osama bin laden, then we should take this stinker down to gitmo and force the detainees to watch it  they'll be singing within minutes  of course, i'm sure that making them watch this god-awful dreck violates the geneva convention in several ways  look, my 5 year old daughter isn't allowed to watch tv at home  so take her to her grandparents or cousins and she's a little tv zombie  she got up and walked away after about ten minutes  that's how bad this is  you know, when the person responsible for this garbage was a young writer, i bet he or she had dreams of the great american novel  now they have to look in the mirror every morning with the realization that they wrote what is possibly the worst hour of television in the history of the medium and we wonder why the rest of the world hates us   \",\n",
       "  'isabel allende\\'s magical, lyrical novel about three generations of an aristocratic south american family was vandalized  the lumbering oaf of a movie that resulted--largely due to a magnificent cast of anglo actors completely unable to carry off the evasive latin mellifluousness of allende\\'s characters, and a plodding scandinavian directorial hand--was so uncomfortable in its own skin that i returned to the theater a second time to make certain i had not missed something vital that might change my opinion  to my disappointment, i had not missed a thing  none among meryl streep, jeremy irons, glenn close and vanessa redgrave could wiggle free of the trap set for them by director bille august  all of them looked perfectly stiff and resigned, as if, by putting forth as little effort as possible, they expected to fade unnoticed into lovely period sets  (yes, the film was art directed within an inch of its life ) curious that the production designer was permitted the gaffe of placing kfc products prominently in a scene that occurs circa 1970--years before kfc came into being  back then, it was known by its original name: kentucky fried chicken  even pardoning that, what on earth is kentucky fried chicken doing in a military dictatorship in south america in 1970? american fast food chains did not hit south america until the early 1980s  \"the house of the spirits\" should have been the motion picture event of 1993  because it was so club-footed and slavishly faithful to its vague idea of what the novel represented, miramax had to market it as an art film  as a result, it was neither event nor art  and for that, isabel allende should have pressed charges for rape ',\n",
       "  \"dragon hunters has to be the best-looking animated film i've ever seen  it was jaw-dropping  the film is about a couple rogues in search for some cash, their weird furry blue dog that pees fire, and a girl who dreams about becoming a knight, and they are sent on a quest to go to the ends of the earth to kill the world gobbler, an impossibly immense dragon  but honestly, it doesn't even matter what the film is about  because, it is jaw-droppingly gorgeous  the gravity in this fantasy world is different, so blocks of architecture and spheres of land float around amidst cathedrals and castles and villages alike, and there are forests of floating lily pads  the world is so creative, so uniquely beautiful, with a sort of muted storybook look to it  the world looks like a set of gorgeous paintings  the monsters are visually stunning as well, like a fire dragon comprised of a swarm of evil red bats  some of the plot isn't too original, like the main protagonists wanting their farm a la of mice and men and never seem to be able to make it in the world; but the gorgeous graphics, some seriously sinister scenes, and emotion-evoking dialog makes this film spectacular \",\n",
       "  \"this is by far the worst movie i have ever seen in the cinema!! could not wait for it to end  to make matters worse it is given a 12a certificate so you do not see anyone getting shot, just bodies slumping to the ground, even babban getting killed was cut out!!! too many scenes were cut to bring in the younger viewers as i think the makers knew it would flop disastrously!! amitabhs acting was great but that 'basanti' wannabe and the other idiot who plays devgans mate can't even act  devgan was wasted!!i would not watch this for free again and i advise all others who read this to do just the same you have been warned!!\",\n",
       "  \"horses on mars is a wonderful journey taken by very small creatures  it doesn't have to work hard to hold your attention and the characters are truly memorable  most of the credit must go to eric anderson for his choice of visual style and for writing an interesting story, but credit is also deserved by anuj majumdar for the narration and the wonderful music score  these choices were obviously not an accident  if you can, see it in 35mm scope for the most impact  it is quite a beautiful film!\",\n",
       "  'spoilers aheadthis is one of the worst movies ever made - it\\'s that simple  there is not one redeeming quality about this movie  the first 10 minutes are quite tricky - they actually lead you to believe that this film will be shocking and will have you on the edge of your seat  instead, you will spend 83 minutes punching yourself while watching stolen and poorly made scenes run without any organization  the lake was ridiculous, looked like an aquarium, and had the same plant in different parts of the lake bed  characters show their advanced teleportation powers, for example alex thomas who falls into the lake (drunk), and then ends up on his boat in an impossible position  angie harmon put up a pitiful performance as kate, made worse by the space-time continuum rupturing dialog that appears to have been written at the last minute by a fifth grader  an example of this would be when she said, \"flashlight!\" in such a stupid manner that it shows the threshold of how much a human body can cringe before it snaps in half  finally, the editing of this movie was by far the most bizarre and horrific that i have ever seen  it was like the cameramen were a bunch of chimps who had been given camcorders by scientists  an example of this would be when we suddenly get a closeup of the headlight on alex\\'s car  i would bet that there was little to no time spent editing this movie  the ending was absolutely pathetic  the writers were obviously trying to create some sort of mysterious plot line that made the viewer say, \"oh yeah!\" instead, we\\'re left to view some dumb painting of a spider that somehow fits into the story line  unfortunately, there is not one perspective in the millions out there that could save this movie from being a festering piece of crap i give this a  5 out of 10, the  5 being from the fact that this movie was recorded on film instead of becoming a picture book ',\n",
       "  'lets face it, australian tv is for the most part terrible, but this is a real diamond in the rough that not enough people are watching  the chaser crew who do the satirical newspaper and cnnn try something new by mixing live comedy, pre-recorded skits and political satire into one show filmed in front of a live audience, sorta like rove, but funny  they love causing controversy and this causes some of the shows funniest moments, especially chris telling his wife to \"f-- off\" live on breakfast television and julian handing a novelty cheque signed by saddam heusein to the head of the awb  it has to be one of the funniest aussie shows since the micallef program ',\n",
       "  'i saw this on sci fi, and in retrospect, i\\'m not sure how i actually managed to watch it all the way through  this is utter trash  it\\'s not a b movie, it\\'s a \"d movie\" at best basically this grim reaper looking thing on a horse (and sometimes not on one) goes killing everything in it\\'s path somewhere in the mid west of america  a load of people are missing (infact murdered) and a bunch of mismatched spec op soldier types go looking for them  the best part of this movie, i\\'ll tell it now, is there\\'s some really cute girls  let me now spoil this by telling you that all but the least cute one get their heads either chopped off, slashed apart, or hit so hard with a mêlée weapon that the head explodes off  that\\'s no spoiler    the gore in this movie is over the top and really grotesque  it serves no real purpose, either here\\'s what\\'s good: the sets look ok, the actors sometimes act ok, the outfits and props, some of them, are decent everything else that you can think of, sucks  a lot of the badness is in the editing  some times it just switches over from a rapid action scene to a real quiet and dormant scene  sometimes the characters do non-understandable things, and they\\'re always splitting up, but not even in a way that the viewer can follow  looks like they get split up without realizing it amongst themselves but they also all seem to know that they\\'re splitting up all the time and are ok with it even tho they\\'re in a really dangerous situation and there\\'s bodies all over the place and people are dying right and left  nothing in this movie is the least bit plausible, most of it is incoherent and confusing, and i don\\'t really get how this immortal, indestructible bad guy killer was able to be stopped in the end, and frankly, i don\\'t care  too much stupid, hilariously bad nonsense happens during this movie and i don\\'t really care to list it all here  and they\\'re all so serious throughout the whole ordeal when it\\'s almost laughably bad    just awful this movie is a complete waste of time  there\\'s no excuse for watching this, unless the only channel you happen to receive is scifi and you\\'re bound to a chair in front of the tv  but if you\\'re not bound, you\\'re better off doing a crossword, throwing a frisbee, or even just thinking  there\\'s lots of much better b movies that you can watch my senior year in high school my friend and i, in visual communication and deign class, made a long movie trailer type deal for our own movie (there was no full movie, just a really long trailer) and we did a better job of filming and editing the piece with premiere  it was better work than this movie  that really says something about this and i\\'m puzzled and troubled as to why sci fi would show anything like this when there are so many good low rate movies they can show the only movie that i\\'ve ever endured that was worse than this is raptor island (another brilliant scifi work)-though it had smoother and more followable flow than this movie- but this comes very close and is definitely 2nd on my list of worst movies i\\'ve ever seen ',\n",
       "  \"because disney more often than not, ignores the animation quality and a need for a good plot in their sequels, this was actually a nice surprise  i don't know why disney does not pay more attention to their sequels  the graphics quality is always inferior; no backgrounds worthy of the name disney, inane plots, and worse dialog, with little or no attention given to the actual story, and the caricature drawings are almost always worse than saturday morning cartoons in detail and quality the animation quality is still poor when compared to disney originals, and the dialog is quite trite, the story line and overall execution was really quite enjoyable  while it is not as captivating, it does not completely fail to capture the charm and/or mystery from the first  there is some hint of it, tucked away here and there the children will like it, at any rate it rates a 4 5/10 from   the fiend : \",\n",
       "  'there aren\\'t too many times when i see a film and go, \"huh, what?\", but this was one of them  maybe after seeing zabriskie point i felt much the same way woody allen felt after seeing 2001- he only liked the film after seeing it three times over a two year period, realizing the filmmaker was ahead of him in what was going on  michelangelo antonioni, in one of his few tries at making films inside of the us (after red desert, he did blow-up, this film, china, and the passenger, all filmed outside his native italy), i could sense he almost tried to learn about the ways of the country through his own mastery of the medium  the results show that he doesn\\'t lack the means to present images, feelings, tones, colors, sounds, and a visual representation of this era  \"a director\\'s job is to see\", antonioni once stated  whatever that means, he doesn\\'t disappoint for the admirer of his post-fifties work (i say post-fifties since i\\'ve yet to see any of his films from before l\\'avventura) what he does lack is a point, at least the kind of point that he could bring in blow-up and the eclipse  you get the feeling of what is around these characters, what the themes are bringing forth to their consciousness, however in this case the characters and the actors don\\'t bring much conviction or purpose  antonioni, coming from the school of hard-knocks, neo-realistic film-making, does do what he can with his mostly non-professional cast (those who look most like real actors are subjugated to the roles of the corporate characters), but the two stars mark frechette and daria halprin seem as if antonioni\\'s under-directing them  perhaps that was the point  the story\\'s split into three acts, thankfully not too confusing, as mark escapes his existence around the boiling, dangerous campus life going on in the circa late 60\\'s la area, and daria is sent out from la to drive to phoenix for some business meeting  they meet by chance as mark\\'s plane (how does he know how to drive, maybe a little background info there?) and daria\\'s car meet up, and they spend some time together in an existential kind of groove out in the desert  aside from a stylistically mesmerizing if bizarre sex scene, much of this act isn\\'t terribly interesting  the two leads are fair enough to look at, but what exactly draws them to each other outside of curiosity? the ideas that come forth (in part from a screenplay co-written by sam shepard) aren\\'t too revealing, except for one brief instant where drugs vs  reality is brought up  then the film heads towards the third act, as mark decides to do the right thing, under disastrous circumstances, and daria arrives at her boss\\' place, only to be in full disillusionment (not taking into account the infamous last five minutes or so of the film)  although the film took its time telling its story, i didn\\'t have as much of a problem with that as i did that the story only engages a certain kind of viewer  i understand and empathize with the feelings and doubts and fears as well as the self-confidence of the \"anti-establishment\", but maybe antonioni isn\\'t entirely fully aware of it himself  in some scenes he as director and editor (and the often astounding cinematography by alfio contini) find the scenery and backgrounds more enlightening and fixating than the people in the foreground  not to say the technical side of zabriskie point isn\\'t involving to a degree (this may make some feel drowsy, as antonioni is probably far greater as a documentary filmmaker as he is a theatrical director like say francis ford coppola is)  the deserts, skies, city, and even the faces in close-ups are filmed with the eye of a filmmaker in love with the art of getting things in the frame, bringing us in  the soundtrack is equally compelling, with a master stroke including a sweet rolling stones song at one point, and then a crushing, surreal pink floyd song (re-titled from \\'careful with that axe eugene, one of their best pre-dark side) in the explosion sequence  if only the performances weren\\'t so one-sided i might find this to be on par with blow-up or the eclipse  it\\'s an unconventional stroke of genius on one hand, and on the other a boring take on what was the hippie/radical movement of the late 60\\'s  but hey, what may be boring for an american such as myself born in the eighties may not be to others outside the us, such as say, italy  and it does ask to not be discarded right away after one viewing ',\n",
       "  'ugh  yes, it\\'s exactly like the mcmartin mess, or the horrific arrests in wenatchee, washington  in the movie, the mother keeps aggressively questioning her little boy, over and over and over, until he finally tells her what she obviously wants to hear  the court investigators and \"therapists\" repeat the pattern  the questioning itself is sexually creepy, a relentlessy repeated assault in its own way the moviemakers throw in a doctor talking about physical evidence of abuse, maybe to justify the film\\'s point of view: that two- to four-year-olds never make \"things like this\" up  well, they will if every adult they know is asking them to  the way this piece endorses such discredited interrogation techniques makes watching it an exercise in frustration for anyone who knows what it takes to get a successful prosecution in real life  (they also add a special arrest incident towards the end to \"prove\" their case -- no parallel to this fictional incident ever occurred in real life  can\\'t say more here without turning this into a spoiler, but you\\'ll know it when you see it )yes, children are abused, sometimes by paid care providers  but to watch a movie which affirms the ludicrous, hysterical accusations against so many totally innocent people, to watch re-creations of the trials that ruined the lives of countless children as well as the lives of the accused -- i didn\\'t think i\\'d last until the end  it\\'s just too sad, and made more so by the writing team\\'s seeming endorsement of the abusive, paranoid, obsessional questioning techniques that started -- what can we call it? the bonfire of the sanities? no one i know has ever been accused of child abuse, thank heaven, but my 12-times-over-great grandmother was accused of witchcraft and killed for it  mobs filled with what they think is holy anger are just as dangerous now as three hundred years ago  sensational drivel like this -- \"these accusations of satanic abuse are cropping up all over the country, there must be something there!\" \"so tell the jury that!\" -- just eggs them on  and whoever thought it was a good idea to have kids under ten, some of them under five, play these roles? it\\'s traumatic to watch them delivering their lines; how much more traumatic was it to act these parts? the moviemakers\\' commitment to fight child abuse apparently doesn\\'t apply to themselves  and what were the child-actors\\' parents thinking? \"melinda\" (uncredited, at least in the version on the a&e network in 2005, but i think it was cassy friel) and \"teddy\" (brian bonsall) were terrific  professionals or not, though, they were too young to be exposed to this material, much less to be paid to act it out  despite ruthlessly exploiting these real-life children, \"do you know the muffin man\" got an emmy nomination for directing -- which just goes to show how crazed things were, back in 1989 ',\n",
       "  'what a wonderful movie, eligible for so many labels it never gets: science fiction, film-noir, with a script and dialog of high intelligence which assumes an educated, cultured audience     the kind of english language movie only done in pre-1960 england (and shown only in usa art movie houses when it first arrived), and never, ever done in the usa main characters in the man in the white suit(1951) starring sir alec guiness and joan greenwood routinely use polysyllabic, science reference words like \"polymer\" and discuss and explain concepts of chemistry like \"long chain molecules\" and then communicate the importance of these to the average man and the benefits science provides him the man in the white suit (1951) is the opposite of the video-game explosion movies which now (2009) dominate world cinema, and certainly dominate major usa cinema       it\\'s a carefully acted, intelligently told story delivered by gifted and believable educated english actors (who play educated, accomplished people), and it\\'s all done with comedy, charm, pathos, and sense of irony which ancient greek dramatists would have approved of everybody should see this movie, and someday, somehow, some worthy filmmaker and his supporters should make another like it it\\'s wonderful ',\n",
       "  'somebody owes ang lee an apology  actually, a lot of people do  and i\\'ll start  i was never interested in the ang lee film hulk, because of the near unanimous bad reviews  even the premium cable channels seemed to rarely show it  i finally decided to watch it yesterday on usa network and, wow    spoilers for ang lee\\'s hulk and the incredible hulk was it boring! i almost didn\\'t make it through ang lee\\'s hulk  eric bana was expressionless, nick nolte was horrible, sam elliott was unlikeable (and that\\'s no fun, he\\'s usually a cool character)  in fact, i honestly think they chose eric bana because his non-descript face was the easiest to mimic with computer graphics - and it was clear that the ang lee hulk was meant to facially resemble bruce banner in his non-angry state  when hulk fought a mutant poodle i was ready to concede hulk as the worst superhero movie ever but then something happened  about 3/4 of the way through this tedious movie, there was a genuinely exciting and - dare i say it - reasonably convincing - extended action scene that starts with hulk breaking out of a containment chamber in a military base, fighting m1 tanks and comanche helicopters in the desert, then riding an f22 raptor into the stratosphere, only to be captured on the streets of san francisco  this was one of the best action sequences ever made for a superhero movie  and i have to say, the cgi was quite good  that\\'s not to say that the hulk was totally convincing  but it didn\\'t require much more suspension of disbelief than is required in a lot of non-superhero action movies  and that\\'s quite a feat of course, the ending got really stupid with bruce banner\\'s father turning into some sort of shape-shifting villain but the earlier long action sequence put any of iron man\\'s brief heroics to shame  and overall, apart from the animated mutant dogs, it really did seem like the cgi in hulk tried hard to convince you that he was real and really interacting with his environment  it was certainly better than i expected ok, but what about the incredible hulk? guess what    it\\'s boring too! it has just a few appearances by the hulk and here\\'s the thing - the cgi in this movie is horrible  maybe the hulk in ang lee\\'s version looked fake at times and cartoonish at others - but it had its convincing moments also  the incredible hulk looked positively ridiculous  it had skin tone and muscle tone that didn\\'t even look like a living creature, just some sort of computer-generated texture  it was really preposterous  the lighting, environment and facial effects didn\\'t look 5 years newer than ang lee\\'s, they looked 10 years older  and there really is no excuse for that  we truly are living in an era where computer programmers can ruin a movie just as thoroughly as any director, actor or cinematographer ever could worse, the writer and director of this movie seemed to learn almost nothing from ang lee\\'s \"failure\"  all the same mistakes are made  bruce banner is practically emotionless  the general is so relentlessly, implausibly one-dimensional that he seems faker than the hulk  the love interest is unconvincing (i have to give liv tyler credit for being more emotional than jennifer connelly, though both are quite easy on the eyes)  tim blake nelson overacts almost as much as nick nolte, even though he\\'s only in the movie for a few minutes  the hulk really doesn\\'t do much in this movie, certainly not any more than in ang lee\\'s version  the incredible hulk was slightly more fast-paced, but since nothing really happened anyway that\\'s not worth much  oh yeah, the villain is every bit as phony looking as the hulk  he\\'s actually much more interesting as a human than as a monster  this is how i can definitively say ang lee\\'s version was better: if i ever have the chance to see ang lee\\'s version again, i might be able to sit through it to see the good action sequences, or else to try to appreciate the dialogue a little more (more likely i\\'d just fast forward to the good parts)  but there is absolutely not a single scene in the incredible hulk that is worth seeing once, let alone twice  it is truly at the bottom of the heap of superhero movies  the cartoonish cgi is an insult to the audience - at least in ang lee\\'s version it seems like they were trying to make it realistic (except for the giant poodle, of course) it is absolutely mind-boggling how the filmmakers intended to erase the bad feelings associated with ang lee\\'s hulk by making almost exactly the same movie  it is to edward norton\\'s credit that he seems to be distancing himself from this film ',\n",
       "  \"you gotta love the spaghetti western universe  the vision of a west where good guys get shot point blank with no warning, cartoonish villains chew the scenery in extreme close-ups, and the anti-hero walks away from the girl in the end  a lot of people call corbucci's films 'depressing'  i find that a bit dodgy as far as descriptions go  i think bleak and unforgiving are more apt mostly because 'depressing' suggests a level of sentimentality almost every eurowestern director ignored in favour of painting characters in broad strokes gli specialisti must be seen in all its widescreen glory before it can take its proper place in the sergio corbucci canon  it's a beautiful movie  and it makes sense that corbucci wanted to blow off some steam with companeros after the unremitting one two punch of the great silence and this (although he would later revert back to his usual tricks with the foulmouthed sonny and jed)  there's still a certain amount of caricature that detracts from the overall grimness of the movie, imo it hurts more than does any good to have a needless inclusion of three kids dressed like hippies skulking around town in search of gold and trouble  and it hurts to have mario adorf playing mexican one-handed bandit el diablo as over the top as he always plays his characters those minor gripes aside there's more than enough here to wet the palate of the spaghetti aficionado  shootouts galore, the population of an entire town reduced to crawling naked in the dirt, the typical iconic badassitude of the laconic antihero (played by johnny halliday), the moral bankruptcy of almost every character in the movie  corbucci might never receive the acclaim of the more famous sergio or the american patriarchs of the genre but you and i know that's a gross injustice for a very talented director  his dynamic shot selection, in depth staging with objects sticking close to the camera and receding in the background, his flair for quick pacing and feverish energy in moving a story that wasn't always all that along, the way he photographs open spaces, everything in his work makes me sure that if corbucci was american and had emerged 15 years later along with mann and hawks, the cahiers du cinema critics would have lauded him as an auteur worthy of serious critical consideration \",\n",
       "  'i don\\'t think i\\'ve really ever given walter matthau his due as a comedic performer  he\\'s certainly been wonderful in plenty of lighthearted roles, but i guess i always put his success down to his characters\\' grumpiness and ruthlessness, a gruff contrast to the flamboyant personality of his frequent co-star jack lemmon, and, i suppose, a natural extension of his earlier work in dramatic pictures  watching gene saks\\' \\'the odd couple (1968),\\' adapted from a popular neil simon play, the realisation suddenly clicked: matthau is, in his own right, absolutely hilarious! initially striking the audience as filthy, crude and generally unappealing, his oscar madison eventually manages to worm his way into our hearts, culminating in a hilariously overplayed confession of emotions that matthau rasps out in a voice not entirely his own  at the same time, while holding his own as a comedian, his interplay with lemmon is, of course, pitch-perfect; indeed, the film rightly belongs to both actors, who have never failed to light up the cinema screen by themselves, let alone together calling to mind billy wilder\\'s screenplay for \\'the apartment (1960),\\' this neil simon comedy builds itself around around a rather morbid premise  compulsive house-cleaner felix unger (lemmon), having just been evicted by his wife of twelve years, attempts to commit suicide, but fruitlessly abandons the idea after he wrecks his back trying to open the hotel window  dejected, he arrives at the house of good friend oscar (matthau), a divorced slob who lives alone on a diet of potato crisps and green sandwiches (that might contain either very new cheese or very old meat!)  oscar kindly offers felix a place to stay, but is soon overwhelmed by his friend\\'s finicky personality and constant insistence on absolute cleanliness  the pair form an unusual sort of marital arrangement, with felix assuming the role of the effeminate and constantly-nagging wife, and oscar as the sloppy, unappreciative husband who always comes home later than he\\'s supposed to  this is a marriage that barely lasts three weeks, and, by the end of it, we can completely sympathise with felix\\'s ex-wife, who remains unseen \\'the odd couple\\' is a terrific comedy, most of all because it has a lot of heart  for all their arguing, it\\'s obvious that the two roommates have plenty of affection for each other, most movingly seen when felix tries to launch into a furious tirade, instead \\x96 perhaps inadvertently \\x96 ending up informing oscar how \"tops\" he his  the pair\\'s four poker buddies (john fiedler, herb edelman, david sheiner and larry haines) are also constantly badgering each other about some obscure annoyance, but you can\\'t deny that they\\'ve got the best of intentions  their decision to treat felix as though nothing has happened to him may have sounded fine in theory, but maybe being ignored wasn\\'t quite the correct solution to felix\\'s gloomy feelings of inadequacy and inconsequentiality  unlike some comedies based on popular stage plays {i was recently disappointed by wilder\\'s \\'the seven year itch (1955)}, this film doesn\\'t simply strike at the same chord throughout, and the relationship between the two leads is progressively developed, through tears, laughter and much disagreement ',\n",
       "  \"designed only to annoy (or amuse) any self-respecting intelligent person  if the director's intention had been for the viewer to dislike the title character, then it would have been okay, but i know that there is no such thing as a hollywood director who'd make a critique of america's pro-marxist 60s movement, especially not a filmmaker from the 70s  there is so much idiotic dialog going on here, that sometimes i wondered if i wasn't actually watching a comedy  you wouldn't be at fault for thinking that this is a satire \\x96 that's how naïve the movie appears  spacek has been in her share of leftist movies which brings me to the obvious, inescapable conclusion that the redhead hick is one of those hollywood liberal morons  but, i mean, aren't they all? nice boobs, but s**t for brains \",\n",
       "  'watching this last night it amazed me that fox spent so much money on it and got so little back on their investment  it\\'s the kind of disaster that has to be seen to be believed i\\'m sure that the first morning of filming raquel welch dusted off the shelf over her fireplace to prepare a spot for the academy award she would surely win for this daringly original movie  oops  that\\'s not what happened the infighting on the set was detailed in print by rex reed and this helped the movie attain a reputation before it was even released  when it was finally released there wasn\\'t the usual three ring circus of publicity  if i remember correctly, in houston it opened at drive-ins and neighborhood theatres and never played any of the big venues i lay most of the blame on director michael sarne, who was hot after having directed (the not all that good) joanna, a film with music about young people in swinging mod london if i recall correctly, fox wound up firing him and piecing the film together the best they could  that\\'s why scenes play out in no particular sequence and characters appear and then vanish  an impressive supporting cast (kathleen freeman, jim backus, john carradine, andy devine and others) is wasted with nothing to do to expand it to feature length there are numerous clips from fox movies featuring stars like carmen miranda (in amazing footage from the gang\\'s all here) andlaurel and hardy, who never dreamed they\\'d be playing in an x rated movie the x rating is due to occasional language numerous sexual perversions; however, none of the characters seem to be having any fun  maybe somebody involved with the film had a warped puritan sensibility and figured that if they could make these things unappealing it wasn\\'t bad to exploit them this was one of the \"youth\" pictures that nearly bankrupted hollywood in the 1970\\'s  one writer joked that easy rider (which was made for pocket change) was the most expensive movie ever made because so many films followed which tried and failed in the worst way to duplicate its success  sixtyish, once honored directors like stanley kramer and otto preminger made movies like rpm and skidoo in an effort to attract a young audience  white directors and writers attempted to make films to attract a black audience  those movies are locked somewhere in a vault and the two named and many others from that genre have never, as best i know, been out on home video or cable  they\\'re the studios\\' deep dark secret raquel welch\\'s performance in this is, all things considered, very good  with the right direction and script she could played the type of sassy liberated women rosiland russel and barbara stanwyck specialized in  she looks great and has awesome costumes  mae west is the liveliest seventy-something actress i\\'ve ever seen  on the one hand it\\'s kind of heartbreaking to watch her attempt to capture her glory from years gone by, but i\\'m sure she needed the money if you want to see a big budget x-rated movie from this era check out beyond the valley of the dolls (also from fox) because it doesn\\'t take itself seriously  it\\'s crazy kids playing with the equipment at a major studio  myra breckinridge tries to say something  there just wasn\\'t anyone who wanted to listen '],\n",
       " 'label': tensor([1, 0, 1, 0, 1, 1, 1, 0, 1, 0, 1, 0, 0, 1, 0, 0, 0, 1, 0, 1, 0, 1, 0, 0,\n",
       "         1, 0, 1, 0, 1, 1, 0, 0])}"
      ]
     },
     "execution_count": 37,
     "metadata": {},
     "output_type": "execute_result"
    }
   ],
   "source": [
    "next(iter(train_dataloader))"
   ]
  },
  {
   "cell_type": "code",
   "execution_count": 49,
   "metadata": {},
   "outputs": [],
   "source": [
    "def getWordEmbeddings(batch_data,glove : GloVe):\n",
    "\n",
    "    reviews = None\n",
    "    sentiments = None\n",
    "\n",
    "    if len(batch_data)==2:\n",
    "        reviews = batch_data[0]\n",
    "        sentiments = batch_data[1]\n",
    "    else:\n",
    "        reviews = batch_data[0]\n",
    "\n",
    "\n",
    "    batch_tensor = []\n",
    "    inp_lengths = []\n",
    "    for review in reviews:\n",
    "        review_tensor = []\n",
    "        words = review.split(' ')\n",
    "        inp_lengths.append(len(words))\n",
    "        for word in words:\n",
    "            word_vector = glove[word]\n",
    "            review_tensor.append(word_vector)\n",
    "        review_tensor = torch.stack(review_tensor)\n",
    "        batch_tensor.append(review_tensor)\n",
    "    \n",
    "    return (pad_sequence(batch_tensor,batch_first=True),inp_lengths,sentiments)\n",
    "\n",
    "random_batch_data = next(iter(train_dataloader))\n",
    "batch,length,senitments = getWordEmbeddings([random_batch_data['text'],random_batch_data['label']],glove)"
   ]
  },
  {
   "cell_type": "code",
   "execution_count": 50,
   "metadata": {},
   "outputs": [
    {
     "data": {
      "text/plain": [
       "torch.Size([32, 732, 300])"
      ]
     },
     "execution_count": 50,
     "metadata": {},
     "output_type": "execute_result"
    }
   ],
   "source": [
    "batch.shape"
   ]
  },
  {
   "cell_type": "code",
   "execution_count": null,
   "metadata": {},
   "outputs": [],
   "source": [
    "# bidirectional\n",
    "# rnn_type\n",
    "# use_cnn\n",
    "# num_layers\n",
    "\n",
    "class SentimentModel(nn.Module):\n",
    "\n",
    "    def __init__(self,\n",
    "            embed_dim=EMBED_DIM,hidden_dim =HIDDEN_DIM,\n",
    "            rnn_type = 'gru',num_layers=1):\n",
    "        \n",
    "        super().__init__()\n",
    "        self.embed_dim = embed_dim\n",
    "        self.hidden_dim = hidden_dim\n",
    "        self.rnn = None\n",
    "\n",
    "        if rnn_type == 'gru':\n",
    "            self.rnn  = nn.GRU(input_size = self.embed_dim,\n",
    "                hidden_size = self.hidden_dim,\n",
    "                num_layers = num_layers,\n",
    "                batch_first = True,\n",
    "                dropout = 0,\n",
    "                bidirectional = True\n",
    "            )\n",
    "        self.fc1 = nn.Linear(HIDDEN_DIM,128)\n",
    "        self.fc2 = nn.Linear(128,1)\n",
    "        self.sigmoid  = nn.Sigmoid()\n",
    "\n",
    "\n",
    "\n",
    "    def forward(self,x,x_len):\n",
    "\n",
    "        packed_input = pack_padded_sequence(x,x_len,batch_first=True,enforce_sorted=False)\n",
    "        print(packed_input)\n",
    "        packed_output,hidden = self.rnn(packed_input)\n",
    "        output,output_lengths = pad_packed_sequence(packed_output)\n",
    "        hidden = hidden.squeeze()\n",
    "        \n",
    "        out =F.relu(self.fc1(hidden))\n",
    "        ans = self.sigmoid(self.fc2(out))\n",
    "        return ans\n",
    "\n",
    "\n",
    "\n",
    "model = SentimentModel()\n",
    "model = model.to(device=device_fast)\n"
   ]
  },
  {
   "cell_type": "code",
   "execution_count": null,
   "metadata": {},
   "outputs": [],
   "source": [
    "inp = torch.randn((2,4,EMBED_DIM))\n",
    "inp_lengths = [2,3]\n",
    "\n",
    "inp[0,2:,:] = 0.0\n",
    "inp[1,3:,:] = 0.0\n",
    "inp = inp.to(device_fast)"
   ]
  },
  {
   "cell_type": "code",
   "execution_count": null,
   "metadata": {},
   "outputs": [],
   "source": [
    "model(inp,inp_lengths)"
   ]
  },
  {
   "cell_type": "code",
   "execution_count": null,
   "metadata": {},
   "outputs": [],
   "source": [
    "def train(model,train_dataloader,valid_dataloader,num_epochs,loss_fn,optimizer_name,check_point_name,learning_rate=0.01):\n",
    "\n",
    "    criterion = None\n",
    "    optimizer = None\n",
    "    \n",
    "    if loss_fn == 'bce':\n",
    "        criterion = nn.BCELoss()\n",
    "    \n",
    "    if optimizer_name == 'adam':\n",
    "        optimizer = optim.Adam(model.parameters(),lr = learning_rate)\n",
    "    \n",
    "    best_validation_loss = 1000.0\n",
    "    valdiation_loss_not_decreased_steps = 0\n",
    "\n",
    "    model.train()\n",
    "    for e in range(num_epochs):\n",
    "        \n",
    "        training_loss = 0.0\n",
    "        model.train()\n",
    "\n",
    "        for i,data in enumerate(train_dataloader):\n",
    "            pass\n",
    "\n",
    "    \n",
    "\n",
    "\n",
    "\n",
    "    \n",
    "    \n",
    "\n",
    "\n",
    "\n"
   ]
  },
  {
   "cell_type": "code",
   "execution_count": null,
   "metadata": {},
   "outputs": [],
   "source": []
  },
  {
   "cell_type": "code",
   "execution_count": null,
   "metadata": {},
   "outputs": [],
   "source": []
  }
 ],
 "metadata": {
  "kernelspec": {
   "display_name": "Python 3.9.13 64-bit",
   "language": "python",
   "name": "python3"
  },
  "language_info": {
   "codemirror_mode": {
    "name": "ipython",
    "version": 3
   },
   "file_extension": ".py",
   "mimetype": "text/x-python",
   "name": "python",
   "nbconvert_exporter": "python",
   "pygments_lexer": "ipython3",
   "version": "3.9.13"
  },
  "orig_nbformat": 4,
  "vscode": {
   "interpreter": {
    "hash": "d1b0110cf1cb03549be737c5657a86ea4daeeb81469a7991ed915d907f3e629c"
   }
  }
 },
 "nbformat": 4,
 "nbformat_minor": 2
}
