{
 "cells": [
  {
   "cell_type": "code",
   "execution_count": 2,
   "metadata": {},
   "outputs": [],
   "source": [
    "import csv\n",
    "from torch.utils.data import Dataset\n",
    "import torch\n",
    "from sklearn.model_selection import train_test_split\n",
    "import numpy as np\n",
    "from bs4 import BeautifulSoup\n",
    "import string\n",
    "import spacy\n",
    "import re\n",
    "import torch.nn as nn\n",
    "from torch.nn.utils.rnn import pad_packed_sequence,pack_padded_sequence,pad_sequence\n",
    "import torch.nn.functional as F\n",
    "import torch.optim as optim\n",
    "from torch.utils.tensorboard import SummaryWriter\n",
    "writer = SummaryWriter()\n",
    "import fasttext\n",
    "from torch.utils.data import SubsetRandomSampler,DataLoader\n",
    "from torchtext.vocab import GloVe\n",
    "\n",
    "EMBED_DIM = 300\n",
    "HIDDEN_DIM = 128\n",
    "\n",
    "PATIENCE_PARAMETER = 4\n",
    "VALIDATION_LOSS_COMPUTE_STEP = 2\n",
    "\n",
    "\n",
    "device_cpu = torch.device('cpu')\n",
    "\n",
    "device_fast = torch.device('cpu')\n",
    "\n",
    "if torch.has_mps:\n",
    "    device_fast = torch.device('mps')\n",
    "elif torch.has_cuda:\n",
    "    device_fast = torch.device('cuda')\n",
    "\n",
    "\n",
    "torch.manual_seed(0)\n",
    "np.random.seed(0)\n",
    "nlp = spacy.load('en_core_web_sm')"
   ]
  },
  {
   "cell_type": "code",
   "execution_count": null,
   "metadata": {},
   "outputs": [],
   "source": [
    "fasttext_model = fasttext.load_model('./crawl-300d-2M-subword/crawl-300d-2M-subword.bin')"
   ]
  },
  {
   "cell_type": "code",
   "execution_count": 3,
   "metadata": {},
   "outputs": [],
   "source": [
    "glove =   GloVe()"
   ]
  },
  {
   "cell_type": "code",
   "execution_count": 4,
   "metadata": {},
   "outputs": [
    {
     "name": "stderr",
     "output_type": "stream",
     "text": [
      "/Users/depressedcoder/environments/gymenv/lib/python3.9/site-packages/bs4/__init__.py:435: MarkupResemblesLocatorWarning: The input looks more like a filename than markup. You may want to open this file and pass the filehandle into Beautiful Soup.\n",
      "  warnings.warn(\n"
     ]
    }
   ],
   "source": [
    "file = open('processed_text.txt','w')\n",
    "punctuation_words = open('punct.txt','w')\n",
    "break_file = open('break.txt','w')\n",
    "\n",
    "punctuations = set(list(string.punctuation))\n",
    "\n",
    "\n",
    "def preprocess_text(text):\n",
    "    \n",
    "\n",
    "    text = re.sub(r'<br /><br />',\"\",text)\n",
    "    text = BeautifulSoup(text,'lxml').get_text().strip()\n",
    "    text = text.lower()\n",
    "\n",
    "    #text = re.sub(r'^https?:\\/\\/.*[\\r\\n]*', '', text, flags=re.MULTILINE)\n",
    "    text = re.sub(r\"http\\S+\", \"\", text)\n",
    "    new_text = []\n",
    "    for word in text.split(' '):\n",
    "        if word == '':\n",
    "            continue\n",
    "        if '.' in word and len(word)>1:\n",
    "            #if 'http' in word:\n",
    "            #    words = word.split('.')\n",
    "            #    words[1] = ''.join(words[1:])\n",
    "            #    words = [words[0],words[1]]\n",
    "            #else:\n",
    "            #    words = word.split('.')\n",
    "           \n",
    "            words = word.split('.')\n",
    "            for w in words:\n",
    "                new_text.append(w)\n",
    "        else:\n",
    "            new_text.append(word)\n",
    "    \n",
    "    text = ' '.join(new_text)\n",
    "\n",
    "    words = nlp(text)\n",
    "    review =  ' '.join(token.text for token in words)\n",
    "    #review =  \" \".join([re.sub(r'^https?:\\/\\/.*[\\r\\n]*', '', token.text, flags=re.MULTILINE) for token in words])\n",
    "    for word in review.split(' '):\n",
    "        if any([punct in word for punct in punctuations]):\n",
    "            punctuation_words.write(word + \"\\n\")\n",
    "\n",
    "\n",
    "    file.write(text + '\\n')\n",
    "    return text\n",
    "\n",
    "\n",
    "preprocessed_dataset = []\n",
    "train_dataset_labels = []\n",
    "\n",
    "\n",
    "with open(\"./Train dataset.csv\") as csvfile:\n",
    "    csvFile = csv.reader(csvfile)\n",
    "    next(csvFile)\n",
    "\n",
    "    for line in csvFile:\n",
    "        processed_text = preprocess_text(line[0])\n",
    "        label = 1.0 if line[1] == 'positive' else 0.0\n",
    "        train_dataset_labels.append(label)\n",
    "        preprocessed_dataset.append({\"text\":processed_text,\"label\":label})\n",
    "\n",
    "train_dataset_labels = np.array(train_dataset_labels)\n",
    "file.close()\n",
    "punctuation_words.close()\n",
    "break_file.close()"
   ]
  },
  {
   "cell_type": "code",
   "execution_count": 5,
   "metadata": {},
   "outputs": [],
   "source": [
    "class ReviewDataSet(Dataset):\n",
    "    def __init__(self,data):\n",
    "        super().__init__()\n",
    "        self.data = data\n",
    "\n",
    "    def __len__(self):\n",
    "        return len(self.data)\n",
    "    \n",
    "    def __getitem__(self, index):\n",
    "        return self.data[index]\n",
    "\n",
    "dataset = ReviewDataSet(preprocessed_dataset)"
   ]
  },
  {
   "cell_type": "code",
   "execution_count": 6,
   "metadata": {},
   "outputs": [],
   "source": [
    "# Train and Validation split and an equal distriubition of classes\n",
    "train_idx,valid_idx = train_test_split(np.arange(train_dataset_labels.shape[0]), \n",
    "    test_size=0.2,\n",
    "    shuffle= True,\n",
    "    stratify= train_dataset_labels,\n",
    "    random_state=0\n",
    ")\n",
    "\n",
    "train_sampler = SubsetRandomSampler(train_idx)\n",
    "valid_sampler = SubsetRandomSampler(valid_idx)\n",
    "\n",
    "train_dataloader = DataLoader(dataset,32,sampler=train_sampler)\n",
    "valid_dataloader = DataLoader(dataset,32,sampler=valid_sampler)\n"
   ]
  },
  {
   "cell_type": "code",
   "execution_count": 27,
   "metadata": {},
   "outputs": [],
   "source": [
    "def getWordEmbeddings(batch_data,glove : GloVe):\n",
    "\n",
    "    reviews = None\n",
    "    sentiments = None\n",
    "\n",
    "    if len(batch_data)==2:\n",
    "        reviews = batch_data[0]\n",
    "        sentiments = batch_data[1]\n",
    "    else:\n",
    "        reviews = batch_data[0]\n",
    "\n",
    "    #sentiments = torch.tensor(reviews)\n",
    "    sentiments = sentiments.unsqueeze(1)\n",
    "    \n",
    "    batch_tensor = []\n",
    "    inp_lengths = []\n",
    "    for review in reviews:\n",
    "        review_tensor = []\n",
    "        words = review.split(' ')\n",
    "        inp_lengths.append(len(words))\n",
    "        for word in words:\n",
    "            word_vector = glove[word]\n",
    "            review_tensor.append(word_vector)\n",
    "        review_tensor = torch.stack(review_tensor)\n",
    "        batch_tensor.append(review_tensor)\n",
    "    \n",
    "    return (pad_sequence(batch_tensor,batch_first=True),inp_lengths,sentiments)\n",
    "\n",
    "random_batch_data = next(iter(train_dataloader))\n",
    "batch,length,sentiments = getWordEmbeddings([random_batch_data['text'],random_batch_data['label']],glove)"
   ]
  },
  {
   "cell_type": "code",
   "execution_count": 28,
   "metadata": {},
   "outputs": [
    {
     "data": {
      "text/plain": [
       "torch.Size([32, 912, 300])"
      ]
     },
     "execution_count": 28,
     "metadata": {},
     "output_type": "execute_result"
    }
   ],
   "source": [
    "batch.shape"
   ]
  },
  {
   "cell_type": "code",
   "execution_count": 31,
   "metadata": {},
   "outputs": [
    {
     "data": {
      "text/plain": [
       "[177,\n",
       " 137,\n",
       " 204,\n",
       " 545,\n",
       " 143,\n",
       " 173,\n",
       " 121,\n",
       " 224,\n",
       " 481,\n",
       " 130,\n",
       " 912,\n",
       " 307,\n",
       " 471,\n",
       " 258,\n",
       " 393,\n",
       " 247,\n",
       " 87,\n",
       " 120,\n",
       " 63,\n",
       " 358,\n",
       " 175,\n",
       " 176,\n",
       " 156,\n",
       " 54,\n",
       " 432,\n",
       " 131,\n",
       " 709,\n",
       " 419,\n",
       " 168,\n",
       " 562,\n",
       " 421,\n",
       " 714]"
      ]
     },
     "execution_count": 31,
     "metadata": {},
     "output_type": "execute_result"
    }
   ],
   "source": [
    "length"
   ]
  },
  {
   "cell_type": "code",
   "execution_count": 53,
   "metadata": {},
   "outputs": [
    {
     "data": {
      "text/plain": [
       "DAN(\n",
       "  (fc1): Linear(in_features=300, out_features=128, bias=True)\n",
       "  (fc2): Linear(in_features=128, out_features=1, bias=True)\n",
       "  (sigmoid): Sigmoid()\n",
       ")"
      ]
     },
     "execution_count": 53,
     "metadata": {},
     "output_type": "execute_result"
    }
   ],
   "source": [
    "dan = DAN()\n",
    "\n",
    "dan.train()\n",
    "crit = nn.BCELoss()\n",
    "optimizer = optim.Adam(dan.parameters(),lr=0.01)\n",
    "dan.train()"
   ]
  },
  {
   "cell_type": "code",
   "execution_count": 65,
   "metadata": {},
   "outputs": [
    {
     "name": "stdout",
     "output_type": "stream",
     "text": [
      "0.47600066661834717\n"
     ]
    }
   ],
   "source": [
    "output = dan(batch,length)\n",
    "l = crit(output,sentiments.float())\n",
    "l.backward()\n",
    "print(l.item())\n",
    "optimizer.step()\n"
   ]
  },
  {
   "cell_type": "code",
   "execution_count": 8,
   "metadata": {},
   "outputs": [],
   "source": [
    "class DAN(nn.Module):\n",
    "    \n",
    "    def __init__(self,embed_dim=EMBED_DIM,hidden_dim = HIDDEN_DIM, droput_prob = 0.3):\n",
    "        super().__init__()\n",
    "        self.embed_dim = embed_dim\n",
    "        self.hidden_dim = hidden_dim\n",
    "        self.fc1 = nn.Linear(self.embed_dim,self.hidden_dim)\n",
    "        #self.fc = nn.Linear(self.hidden_dim,self.hidden_dim)\n",
    "        self.fc2 = nn.Linear(self.hidden_dim,1)\n",
    "        self.sigmoid  = nn.Sigmoid()\n",
    "        self.word_dropout_prob = droput_prob\n",
    "\n",
    "        #if(word_vector_types_count > 1) :\n",
    "        #   self.importance_weights = nn.Linear(word_vector_types_count*EMBED_DIM,word_vector_types_count)\n",
    "        \n",
    "\n",
    "    def forward(self,inp,inp_len):\n",
    "        \n",
    "        inp_mask = torch.ones((inp.shape[0],inp.shape[1]))\n",
    "        for i  in range(inp.shape[0]):\n",
    "            inp_mask[i,inp_len[i]:] = 0.0\n",
    "        \n",
    "        inp_lengths = torch.sum(inp_mask,-1,keepdim=True).int()\n",
    "        #if word_vector_types_count > 1:\n",
    "        #    input = inp.view((inp.shape[0],inp.shape[1],-1))\n",
    "        #    out = self.importance_weights(input)\n",
    "        #    weights = F.softmax(out,dim=2).unsqueeze(3)\n",
    "        #    weights_multiplied_vector = weights * inp\n",
    "        #    inp = torch.sum(weights_multiplied_vector,dim=2)\n",
    "\n",
    "        total = torch.sum(inp*(inp_mask.unsqueeze(2)),axis=1)\n",
    "        vector_average = total / inp_lengths\n",
    "        ans = F.relu(self.fc1(vector_average))\n",
    "        #ans = F.relu(self.fc(ans))\n",
    "        ans = self.sigmoid(self.fc2(ans))\n",
    "        return ans\n"
   ]
  },
  {
   "cell_type": "code",
   "execution_count": null,
   "metadata": {},
   "outputs": [],
   "source": [
    "# bidirectional\n",
    "# rnn_type\n",
    "# use_cnn\n",
    "# num_layers\n",
    "\n",
    "\n",
    "class SentimentModel(nn.Module):\n",
    "\n",
    "    def __init__(self,\n",
    "            embed_dim=EMBED_DIM,hidden_dim =HIDDEN_DIM, bidirectional=False,\n",
    "            rnn_type = 'gru', num_layers=1):\n",
    "        \n",
    "        super().__init__()\n",
    "        self.embed_dim = embed_dim\n",
    "        self.hidden_dim = hidden_dim\n",
    "        self.num_layers = num_layers\n",
    "        self.rnn = None\n",
    "\n",
    "        if rnn_type == 'gru':\n",
    "            self.rnn  = nn.GRU(input_size = self.embed_dim,\n",
    "                hidden_size = self.hidden_dim,\n",
    "                num_layers = self.num_layers,\n",
    "                batch_first = True,\n",
    "                dropout = 0,\n",
    "                bidirectional = bidirectional\n",
    "            )\n",
    "\n",
    "        self.fc1 = nn.Linear(HIDDEN_DIM,128)\n",
    "        self.fc2 = nn.Linear(128,1)\n",
    "        self.sigmoid  = nn.Sigmoid()\n",
    "\n",
    "\n",
    "\n",
    "    def forward(self,x,x_len):\n",
    "\n",
    "        packed_input = pack_padded_sequence(x,x_len,batch_first=True,enforce_sorted=False)\n",
    "        print(packed_input)\n",
    "        packed_output,hidden = self.rnn(packed_input)\n",
    "        output,output_lengths = pad_packed_sequence(packed_output)\n",
    "        hidden = hidden.squeeze()\n",
    "        \n",
    "        out =F.relu(self.fc1(hidden))\n",
    "        ans = self.sigmoid(self.fc2(out))\n",
    "        return ans\n",
    "\n",
    "\n",
    "\n",
    "model = SentimentModel()\n",
    "model = model.to(device=device_fast)\n"
   ]
  },
  {
   "cell_type": "code",
   "execution_count": null,
   "metadata": {},
   "outputs": [],
   "source": [
    "inp = torch.randn((2,4,EMBED_DIM))\n",
    "inp_lengths = [2,3]\n",
    "\n",
    "inp[0,2:,:] = 0.0\n",
    "inp[1,3:,:] = 0.0\n",
    "inp = inp.to(device_fast)"
   ]
  },
  {
   "cell_type": "code",
   "execution_count": null,
   "metadata": {},
   "outputs": [],
   "source": [
    "model(inp,inp_lengths)"
   ]
  },
  {
   "cell_type": "code",
   "execution_count": null,
   "metadata": {},
   "outputs": [],
   "source": [
    "def train(model,train_dataloader,valid_dataloader,num_epochs,loss_fn,optimizer_name,check_point_name,learning_rate=0.01):\n",
    "\n",
    "    criterion = None\n",
    "    optimizer = None\n",
    "    \n",
    "    if loss_fn == 'bce':\n",
    "        criterion = nn.BCELoss()\n",
    "    \n",
    "    if optimizer_name == 'adam':\n",
    "        optimizer = optim.Adam(model.parameters(),lr = learning_rate)\n",
    "    \n",
    "    best_validation_loss = 1000.0\n",
    "    valdiation_loss_not_decreased_steps = 0\n",
    "\n",
    "    model.train()\n",
    "    for e in range(num_epochs):\n",
    "        \n",
    "        training_loss = 0.0\n",
    "        model.train()\n",
    "\n",
    "        for i,data in enumerate(train_dataloader):\n",
    "            pass\n",
    "\n",
    "    \n",
    "\n",
    "\n",
    "\n",
    "    \n",
    "    \n",
    "\n",
    "\n",
    "\n"
   ]
  },
  {
   "cell_type": "code",
   "execution_count": null,
   "metadata": {},
   "outputs": [],
   "source": []
  },
  {
   "cell_type": "code",
   "execution_count": null,
   "metadata": {},
   "outputs": [],
   "source": []
  }
 ],
 "metadata": {
  "kernelspec": {
   "display_name": "Python 3.9.13 64-bit",
   "language": "python",
   "name": "python3"
  },
  "language_info": {
   "codemirror_mode": {
    "name": "ipython",
    "version": 3
   },
   "file_extension": ".py",
   "mimetype": "text/x-python",
   "name": "python",
   "nbconvert_exporter": "python",
   "pygments_lexer": "ipython3",
   "version": "3.9.13"
  },
  "orig_nbformat": 4,
  "vscode": {
   "interpreter": {
    "hash": "d1b0110cf1cb03549be737c5657a86ea4daeeb81469a7991ed915d907f3e629c"
   }
  }
 },
 "nbformat": 4,
 "nbformat_minor": 2
}
