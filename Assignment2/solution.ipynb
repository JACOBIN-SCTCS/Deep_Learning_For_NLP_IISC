{
 "cells": [
  {
   "cell_type": "code",
   "execution_count": 10,
   "metadata": {},
   "outputs": [],
   "source": [
    "import csv\n",
    "from torch.utils.data import Dataset\n",
    "import torch\n",
    "from sklearn.model_selection import train_test_split\n",
    "import numpy as np\n",
    "from bs4 import BeautifulSoup\n",
    "import string\n",
    "import spacy\n",
    "import re\n",
    "import torch.nn as nn\n",
    "from torch.nn.utils.rnn import pad_packed_sequence,pack_padded_sequence\n",
    "import torch.nn.functional as F\n",
    "import torch.optim as optim\n",
    "from torch.utils.tensorboard import SummaryWriter\n",
    "writer = SummaryWriter()\n",
    "import fasttext\n",
    "from torchtext.vocab import GloVe\n",
    "\n",
    "EMBED_DIM = 5\n",
    "HIDDEN_DIM = 2\n",
    "\n",
    "PATIENCE_PARAMETER = 4\n",
    "VALIDATION_LOSS_COMPUTE_STEP = 2\n",
    "\n",
    "\n",
    "device_cpu = torch.device('cpu')\n",
    "\n",
    "device_fast = torch.device('cpu')\n",
    "\n",
    "if torch.has_mps:\n",
    "    device_fast = torch.device('mps')\n",
    "elif torch.has_cuda:\n",
    "    device_fast = torch.device('cuda')\n",
    "\n",
    "\n",
    "torch.manual_seed(0)\n",
    "nlp = spacy.load('en_core_web_sm')"
   ]
  },
  {
   "cell_type": "code",
   "execution_count": 7,
   "metadata": {},
   "outputs": [
    {
     "name": "stderr",
     "output_type": "stream",
     "text": [
      "Warning : `load_model` does not return WordVectorModel or SupervisedModel any more, but a `FastText` object which is very similar.\n"
     ]
    }
   ],
   "source": [
    "fasttext_model = fasttext.load_model('./crawl-300d-2M-subword/crawl-300d-2M-subword.bin')"
   ]
  },
  {
   "cell_type": "code",
   "execution_count": 11,
   "metadata": {},
   "outputs": [],
   "source": [
    "g =   GloVe()"
   ]
  },
  {
   "cell_type": "code",
   "execution_count": 25,
   "metadata": {},
   "outputs": [
    {
     "name": "stderr",
     "output_type": "stream",
     "text": [
      "/Users/depressedcoder/environments/gymenv/lib/python3.9/site-packages/bs4/__init__.py:435: MarkupResemblesLocatorWarning: The input looks more like a filename than markup. You may want to open this file and pass the filehandle into Beautiful Soup.\n",
      "  warnings.warn(\n"
     ]
    }
   ],
   "source": [
    "file = open('processed_text.txt','w')\n",
    "punctuation_words = open('punct.txt','w')\n",
    "break_file = open('break.txt','w')\n",
    "\n",
    "punctuations = set(list(string.punctuation))\n",
    "\n",
    "\n",
    "def preprocess_text(text):\n",
    "    \n",
    "\n",
    "    text = re.sub(r'<br /><br />',\"\",text)\n",
    "    text = BeautifulSoup(text,'lxml').get_text().strip()\n",
    "    text = text.lower()\n",
    "\n",
    "    #text = re.sub(r'^https?:\\/\\/.*[\\r\\n]*', '', text, flags=re.MULTILINE)\n",
    "    text = re.sub(r\"http\\S+\", \"\", text)\n",
    "    new_text = []\n",
    "    for word in text.split(' '):\n",
    "        if word == '':\n",
    "            continue\n",
    "        if '.' in word and len(word)>1:\n",
    "            #if 'http' in word:\n",
    "            #    words = word.split('.')\n",
    "            #    words[1] = ''.join(words[1:])\n",
    "            #    words = [words[0],words[1]]\n",
    "            #else:\n",
    "            #    words = word.split('.')\n",
    "           \n",
    "            words = word.split('.')\n",
    "            for w in words:\n",
    "                new_text.append(w)\n",
    "        else:\n",
    "            new_text.append(word)\n",
    "    \n",
    "    text = ' '.join(new_text)\n",
    "\n",
    "    words = nlp(text)\n",
    "    review =  \" \".join(token.text for token in words)\n",
    "    #review =  \" \".join([re.sub(r'^https?:\\/\\/.*[\\r\\n]*', '', token.text, flags=re.MULTILINE) for token in words])\n",
    "    for word in review.split(' '):\n",
    "        if any([punct in word for punct in punctuations]):\n",
    "            punctuation_words.write(word + \"\\n\")\n",
    "\n",
    "\n",
    "    file.write(text + '\\n')\n",
    "    return text\n",
    "\n",
    "\n",
    "preprocessed_dataset = []\n",
    "train_dataset_labels = []\n",
    "\n",
    "\n",
    "with open(\"./Train dataset.csv\") as csvfile:\n",
    "    csvFile = csv.reader(csvfile)\n",
    "    next(csvFile)\n",
    "\n",
    "    for line in csvFile:\n",
    "        processed_text = preprocess_text(line[0])\n",
    "        label = 1 if line[1] == 'positive' else 0\n",
    "        train_dataset_labels.append(label)\n",
    "        preprocessed_dataset.append({\"text\":processed_text,\"label\":label})\n",
    "\n",
    "train_dataset_labels = np.array(train_dataset_labels)\n",
    "file.close()\n",
    "punctuation_words.close()\n",
    "break_file.close()\n",
    "\n"
   ]
  },
  {
   "cell_type": "code",
   "execution_count": null,
   "metadata": {},
   "outputs": [],
   "source": [
    "train_idx,valid_idx = train_test_split(np.arange(train_dataset_labels.shape[0]), \n",
    "    test_size=0.2,\n",
    "    shuffle= True,\n",
    "    stratify= train_dataset_labels,\n",
    "    random_state=0\n",
    ")"
   ]
  },
  {
   "cell_type": "code",
   "execution_count": null,
   "metadata": {},
   "outputs": [],
   "source": [
    "class ReviewDataSet(Dataset):\n",
    "\n",
    "    def __init__(self) -> None:\n",
    "        super().__init__()\n",
    "    \n",
    "    def __len__(self):\n",
    "        return 0\n",
    "    \n",
    "    def __getitem__(self, index):\n",
    "        return None\n"
   ]
  },
  {
   "cell_type": "code",
   "execution_count": null,
   "metadata": {},
   "outputs": [],
   "source": [
    "def getWordEmbeddings(batch_data,glove):\n",
    "\n",
    "    reviews = None\n",
    "    sentiments = None\n",
    "\n",
    "    if len(batch_data==2):\n",
    "        reviews = batch_data[0]\n",
    "        sentiments = batch_data[1]\n",
    "    else:\n",
    "        reviews = batch_data[0]\n",
    "    \n",
    "\n",
    "    \n",
    "    \n",
    "\n",
    "\n"
   ]
  },
  {
   "cell_type": "code",
   "execution_count": null,
   "metadata": {},
   "outputs": [],
   "source": [
    "# bidirectional\n",
    "# rnn_type\n",
    "# use_cnn\n",
    "# num_layers\n",
    "\n",
    "class SentimentModel(nn.Module):\n",
    "\n",
    "    def __init__(self,\n",
    "            embed_dim=EMBED_DIM,hidden_dim =HIDDEN_DIM,\n",
    "            rnn_type = 'gru',num_layers=1):\n",
    "        \n",
    "        super().__init__()\n",
    "        self.embed_dim = embed_dim\n",
    "        self.hidden_dim = hidden_dim\n",
    "        self.rnn = None\n",
    "\n",
    "        if rnn_type == 'gru':\n",
    "            self.rnn  = nn.GRU(input_size = self.embed_dim,\n",
    "                hidden_size = self.hidden_dim,\n",
    "                num_layers = num_layers,\n",
    "                batch_first = True,\n",
    "                dropout = 0,\n",
    "                bidirectional = True\n",
    "            )\n",
    "        self.fc1 = nn.Linear(HIDDEN_DIM,128)\n",
    "        self.fc2 = nn.Linear(128,1)\n",
    "        self.sigmoid  = nn.Sigmoid()\n",
    "\n",
    "\n",
    "\n",
    "    def forward(self,x,x_len):\n",
    "\n",
    "        packed_input = pack_padded_sequence(x,x_len,batch_first=True,enforce_sorted=False)\n",
    "        print(packed_input)\n",
    "        packed_output,hidden = self.rnn(packed_input)\n",
    "        output,output_lengths = pad_packed_sequence(packed_output)\n",
    "        hidden = hidden.squeeze()\n",
    "        \n",
    "        out =F.relu(self.fc1(hidden))\n",
    "        ans = self.sigmoid(self.fc2(out))\n",
    "        return ans\n",
    "\n",
    "\n",
    "\n",
    "model = SentimentModel()\n",
    "model = model.to(device=device_fast)\n"
   ]
  },
  {
   "cell_type": "code",
   "execution_count": null,
   "metadata": {},
   "outputs": [],
   "source": [
    "inp = torch.randn((2,4,EMBED_DIM))\n",
    "inp_lengths = [2,3]\n",
    "\n",
    "inp[0,2:,:] = 0.0\n",
    "inp[1,3:,:] = 0.0\n",
    "inp = inp.to(device_fast)"
   ]
  },
  {
   "cell_type": "code",
   "execution_count": null,
   "metadata": {},
   "outputs": [],
   "source": [
    "model(inp,inp_lengths)"
   ]
  },
  {
   "cell_type": "code",
   "execution_count": null,
   "metadata": {},
   "outputs": [],
   "source": [
    "def train(model,train_dataloader,valid_dataloader,num_epochs,loss_fn,optimizer_name,check_point_name,learning_rate=0.01):\n",
    "\n",
    "    criterion = None\n",
    "    optimizer = None\n",
    "    \n",
    "    if loss_fn == 'bce':\n",
    "        criterion = nn.BCELoss()\n",
    "    \n",
    "    if optimizer_name == 'adam':\n",
    "        optimizer = optim.Adam(model.parameters(),lr = learning_rate)\n",
    "    \n",
    "    best_validation_loss = 1000.0\n",
    "    valdiation_loss_not_decreased_steps = 0\n",
    "\n",
    "    model.train()\n",
    "    for e in range(num_epochs):\n",
    "        \n",
    "        training_loss = 0.0\n",
    "        model.train()\n",
    "\n",
    "        for i,data in enumerate(train_dataloader):\n",
    "            pass\n",
    "\n",
    "    \n",
    "\n",
    "\n",
    "\n",
    "    \n",
    "    \n",
    "\n",
    "\n",
    "\n"
   ]
  },
  {
   "cell_type": "code",
   "execution_count": null,
   "metadata": {},
   "outputs": [],
   "source": []
  },
  {
   "cell_type": "code",
   "execution_count": null,
   "metadata": {},
   "outputs": [],
   "source": []
  }
 ],
 "metadata": {
  "kernelspec": {
   "display_name": "Python 3.9.13 64-bit",
   "language": "python",
   "name": "python3"
  },
  "language_info": {
   "codemirror_mode": {
    "name": "ipython",
    "version": 3
   },
   "file_extension": ".py",
   "mimetype": "text/x-python",
   "name": "python",
   "nbconvert_exporter": "python",
   "pygments_lexer": "ipython3",
   "version": "3.9.13"
  },
  "orig_nbformat": 4,
  "vscode": {
   "interpreter": {
    "hash": "d1b0110cf1cb03549be737c5657a86ea4daeeb81469a7991ed915d907f3e629c"
   }
  }
 },
 "nbformat": 4,
 "nbformat_minor": 2
}
