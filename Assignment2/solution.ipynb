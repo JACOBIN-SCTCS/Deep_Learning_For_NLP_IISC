{
 "cells": [
  {
   "cell_type": "code",
   "execution_count": 6,
   "metadata": {},
   "outputs": [],
   "source": [
    "import csv\n",
    "from torch.utils.data import Dataset\n",
    "import torch\n",
    "from sklearn.model_selection import train_test_split\n",
    "import numpy as np\n",
    "from bs4 import BeautifulSoup\n",
    "import string\n",
    "import spacy\n",
    "import re\n",
    "import torch.nn as nn\n",
    "from torch.nn.utils.rnn import pad_sequence\n",
    "\n",
    "EMBED_DIM = 300\n",
    "HIDDEN_DIM = 100\n",
    "\n",
    "torch.manual_seed(0)\n",
    "\n",
    "nlp = spacy.load('en_core_web_sm')"
   ]
  },
  {
   "cell_type": "code",
   "execution_count": 3,
   "metadata": {},
   "outputs": [
    {
     "name": "stderr",
     "output_type": "stream",
     "text": [
      "/Users/depressedcoder/environments/gymenv/lib/python3.9/site-packages/bs4/__init__.py:435: MarkupResemblesLocatorWarning: The input looks more like a filename than markup. You may want to open this file and pass the filehandle into Beautiful Soup.\n",
      "  warnings.warn(\n"
     ]
    }
   ],
   "source": [
    "file = open('processed_text.txt','a')\n",
    "punctuation_words = open('punct.txt','a')\n",
    "\n",
    "punctuations = set(list(string.punctuation))\n",
    "\n",
    "\n",
    "def preprocess_text(text):\n",
    "    \n",
    "    text = BeautifulSoup(text,'lxml').get_text().strip()\n",
    "    text = text.lower()\n",
    "    text = re.sub(r'^https?:\\/\\/.*[\\r\\n]*', '', text, flags=re.MULTILINE)\n",
    "    new_text = []\n",
    "    for word in text.split(' '):\n",
    "        if '.' in word and len(word)>1:\n",
    "            if 'http' in word:\n",
    "                words = word.split('.')\n",
    "                words[1] = ''.join(words[1:])\n",
    "                words = [words[0],words[1]]\n",
    "            else:\n",
    "                words = word.split('.')\n",
    "            \n",
    "            for w in words:\n",
    "                new_text.append(w)\n",
    "        else:\n",
    "            new_text.append(word)\n",
    "    text = ' '.join(new_text)\n",
    "\n",
    "    words = nlp(text)\n",
    "    review =  \" \".join([re.sub(r'^https?:\\/\\/.*[\\r\\n]*', '', token.text, flags=re.MULTILINE) for token in words])\n",
    "    for word in review.split(' '):\n",
    "        if any([punct in word for punct in punctuations]):\n",
    "            punctuation_words.write(word + \"\\n\")\n",
    "\n",
    "\n",
    "    file.write(text + '\\n')\n",
    "    return text\n",
    "\n",
    "\n",
    "preprocessed_dataset = []\n",
    "train_dataset_labels = []\n",
    "\n",
    "\n",
    "with open(\"./Train dataset.csv\") as csvfile:\n",
    "    csvFile = csv.reader(csvfile)\n",
    "    next(csvFile)\n",
    "\n",
    "    for line in csvFile:\n",
    "        processed_text = preprocess_text(line[0])\n",
    "        label = 1 if line[1] == 'positive' else 0\n",
    "        train_dataset_labels.append(label)\n",
    "        preprocessed_dataset.append({\"text\":processed_text,\"label\":label})\n",
    "\n",
    "train_dataset_labels = np.array(train_dataset_labels)\n",
    "file.close()\n",
    "punctuation_words.close()\n"
   ]
  },
  {
   "cell_type": "code",
   "execution_count": null,
   "metadata": {},
   "outputs": [],
   "source": [
    "train_idx,valid_idx = train_test_split(np.arange(train_dataset_labels.shape[0]), \n",
    "    test_size=0.2,\n",
    "    shuffle= True,\n",
    "    stratify= train_dataset_labels,\n",
    "    random_state=0\n",
    ")"
   ]
  },
  {
   "cell_type": "code",
   "execution_count": null,
   "metadata": {},
   "outputs": [],
   "source": [
    "class ReviewDataSet(Dataset):\n",
    "\n",
    "    def __init__(self) -> None:\n",
    "        super().__init__()\n",
    "    \n",
    "    def __len__(self):\n",
    "        return 0\n",
    "    \n",
    "    def __getitem__(self, index):\n",
    "        return None\n"
   ]
  },
  {
   "cell_type": "code",
   "execution_count": null,
   "metadata": {},
   "outputs": [],
   "source": [
    "# bidirectional\n",
    "# rnn_type\n",
    "# use_cnn\n",
    "# num_layers\n",
    "\n",
    "class Model(nn.Module):\n",
    "\n",
    "    def __init__(self,\n",
    "            embed_dim=EMBED_DIM,hidden_dim =HIDDEN_DIM,\n",
    "            rnn_type = 'gru',num_layers=1):\n",
    "        \n",
    "        super().__init__()\n",
    "        self.embed_dim = embed_dim\n",
    "        self.hidden_dim = hidden_dim\n",
    "        self.rnn = None\n",
    "\n",
    "        if rnn_type == 'gru':\n",
    "            self.rnn  = nn.GRU(input_size = self.embed_dim,\n",
    "                hidden_size = self.hidden_dim,\n",
    "                num_layers = num_layers,\n",
    "                batch_first = True,\n",
    "                dropout = 0,\n",
    "                bidirectional = True\n",
    "            )\n",
    "        \n",
    "\n",
    "    def forward(self,x,x_len):\n",
    "        pass\n",
    "        \n",
    "\n",
    "\n",
    "\n"
   ]
  }
 ],
 "metadata": {
  "kernelspec": {
   "display_name": "Python 3.9.13 64-bit",
   "language": "python",
   "name": "python3"
  },
  "language_info": {
   "codemirror_mode": {
    "name": "ipython",
    "version": 3
   },
   "file_extension": ".py",
   "mimetype": "text/x-python",
   "name": "python",
   "nbconvert_exporter": "python",
   "pygments_lexer": "ipython3",
   "version": "3.9.13"
  },
  "orig_nbformat": 4,
  "vscode": {
   "interpreter": {
    "hash": "d1b0110cf1cb03549be737c5657a86ea4daeeb81469a7991ed915d907f3e629c"
   }
  }
 },
 "nbformat": 4,
 "nbformat_minor": 2
}
