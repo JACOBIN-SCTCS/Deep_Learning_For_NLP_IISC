{
 "cells": [
  {
   "cell_type": "code",
   "execution_count": 2,
   "metadata": {},
   "outputs": [],
   "source": [
    "%%capture \n",
    "import csv\n",
    "from torch.utils.data import Dataset\n",
    "import torch\n",
    "from sklearn.model_selection import train_test_split\n",
    "import numpy as np\n",
    "from bs4 import BeautifulSoup\n",
    "import string\n",
    "import spacy\n",
    "import jsonlines\n",
    "import json\n",
    "import re\n",
    "import torch.nn as nn\n",
    "from torch.nn.utils.rnn import pad_packed_sequence,pack_padded_sequence,pad_sequence\n",
    "import torch.nn.functional as F\n",
    "import torch.optim as optim\n",
    "import fasttext\n",
    "from torch.utils.data import SubsetRandomSampler,DataLoader,Subset\n",
    "from torchtext.vocab import GloVe\n",
    "from tqdm import tqdm\n",
    "\n",
    "EMBED_DIM = 300\n",
    "HIDDEN_DIM = 128\n",
    "\n",
    "USE_TRAINABLE_EMBEDDINGS = True\n",
    "\n",
    "PATIENCE_PARAMETER = 4\n",
    "VALIDATION_LOSS_COMPUTE_STEP = 1\n",
    "\n",
    "\n",
    "FILTER_SIZES = [3,4,5,6,7]\n",
    "NUM_FILTERS = 50\n",
    "\n",
    "device_cpu = torch.device('cpu')\n",
    "device_fast = torch.device('cpu')\n",
    "\n",
    "if torch.has_mps:\n",
    "    device_fast = torch.device('mps')\n",
    "elif torch.has_cuda:\n",
    "    device_fast = torch.device('cuda')\n",
    "\n",
    "#torch.manual_seed(0)\n",
    "#np.random.seed(0)\n",
    "nlp = spacy.load('en_core_web_sm')\n",
    "glove = GloVe()"
   ]
  },
  {
   "cell_type": "markdown",
   "metadata": {},
   "source": [
    "from torchtext.vocab import vocab\n",
    "glove_vocab = vocab(glove.stoi)\n",
    "glove_vocab.insert_token(\"<unk>\",2196015)\n",
    "glove_vocab.set_default_index(2196015)\n",
    "pretrained_embeddings = glove.vectors\n",
    "pretrained_embeddings = torch.cat((pretrained_embeddings,torch.zeros(1,300)))\n",
    "\n",
    "glove.stoi = glove_vocab.get_stoi()\n",
    "glove.itos = glove_vocab.get_itos()\n",
    "\n",
    "glove.vectors = pretrained_embeddings"
   ]
  },
  {
   "cell_type": "code",
   "execution_count": 3,
   "metadata": {},
   "outputs": [],
   "source": [
    "\n",
    "#punctuation_words = open('punct.txt','w')\n",
    "#punct_in_file = set()\n",
    "#final_words = open('words.txt','w')\n",
    "#punctuations = set(list(string.punctuation))\n",
    "#vocab_words = set()\n",
    "\n",
    "def preprocess_text(text):\n",
    "        \n",
    "    text = re.sub(r'<br /><br />',\".\",text)\n",
    "    text = BeautifulSoup(text,'lxml').get_text().strip()\n",
    "    text = text.lower()\n",
    "\n",
    "    #text = re.sub(r'^https?:\\/\\/.*[\\r\\n]*', '', text, flags=re.MULTILINE)\n",
    "    text = re.sub(r\"http\\S+\", \"\", text)\n",
    "    text = ' '.join(re.findall(r\"[\\w']+|[.,!;/\\\"]\", text))\n",
    "    \n",
    "    new_text = []\n",
    "    for word in text.split():\n",
    "        if word == '':\n",
    "            continue\n",
    "        new_text.append(word)\n",
    "        #if '.' in word and len(word)>1:\n",
    "            #if 'http' in word:\n",
    "            #    words = word.split('.')\n",
    "            #    words[1] = ''.join(words[1:])\n",
    "            #    words = [words[0],words[1]]\n",
    "            #else:\n",
    "            #    words = word.split('.')\n",
    "           \n",
    "        #    words = word.split('.')\n",
    "        #    for w in words:\n",
    "        #        new_text.append(w)\n",
    "        #else:\n",
    "    \n",
    "    text = ' '.join(new_text)\n",
    "    words = nlp(text)\n",
    "    text =  \" \".join([token.text for token in words if not token.is_punct or token.text=='/' or token.text==\"\\\"\" or token.text==\".\"]).strip()\n",
    "    #review =  \" \".join([re.sub(r'^https?:\\/\\/.*[\\r\\n]*', '', token.text, flags=re.MULTILINE) for token in words])\n",
    "    #review  = \" \".join(new_text)\n",
    "    new_words = []\n",
    "    for word in text.split(\" \"):\n",
    "        \n",
    "        #vocab_words.add(word)\n",
    "        if word == 'n\\'t':\n",
    "            if len(new_words) > 1:\n",
    "                new_words[-1] = new_words[-1] + word\n",
    "            else:\n",
    "                new_words.append(word)\n",
    "        else:\n",
    "            new_words.append(word)\n",
    "    text = \" \".join(new_words)\n",
    "    return text\n"
   ]
  },
  {
   "cell_type": "code",
   "execution_count": 3,
   "metadata": {},
   "outputs": [
    {
     "name": "stderr",
     "output_type": "stream",
     "text": [
      "/Users/depressedcoder/environments/gymenv/lib/python3.9/site-packages/bs4/__init__.py:435: MarkupResemblesLocatorWarning: The input looks more like a filename than markup. You may want to open this file and pass the filehandle into Beautiful Soup.\n",
      "  warnings.warn(\n"
     ]
    }
   ],
   "source": [
    "preprocessed_dataset = []\n",
    "train_dataset_labels = []\n",
    "with open(\"./Train dataset.csv\") as csvfile:\n",
    "    csvFile = csv.reader(csvfile)\n",
    "    next(csvFile)\n",
    "    json_writer = jsonlines.open('processed_dataset.jsonl','w')\n",
    "\n",
    "    for line in csvFile:\n",
    "        processed_text = preprocess_text(line[0])\n",
    "        label = 1.0 if line[1] == 'positive' else 0.0\n",
    "        train_dataset_labels.append(label)\n",
    "        json_writer.write({\"text\":processed_text,\"label\":label})\n",
    "        preprocessed_dataset.append({\"text\":processed_text,\"label\":label})\n",
    "    \n",
    "    json_writer.close()\n",
    "\n",
    "train_dataset_labels = np.array(train_dataset_labels)\n",
    "#final_words.write(str(vocab_words))\n",
    "#final_words.close()\n",
    "#file.close()\n",
    "#punctuation_words.close()\n"
   ]
  },
  {
   "cell_type": "code",
   "execution_count": 4,
   "metadata": {},
   "outputs": [],
   "source": [
    "preprocessed_dataset = []\n",
    "train_dataset_labels = []\n",
    "with open('processed_dataset.jsonl') as f:\n",
    "    for line in f:\n",
    "        sample = json.loads(line)\n",
    "        train_dataset_labels.append(sample['label'])\n",
    "        preprocessed_dataset.append(sample)\n",
    "train_dataset_labels = np.array(train_dataset_labels)\n"
   ]
  },
  {
   "cell_type": "code",
   "execution_count": 5,
   "metadata": {},
   "outputs": [],
   "source": [
    "def getWordEmbeddingforText(text,glove=glove):\n",
    "    \n",
    "    length = 0\n",
    "    words = []\n",
    "    for word in text.split(' '):\n",
    "        length+=1\n",
    "        word_embedding = glove[word]\n",
    "        words.append(word_embedding)\n",
    "    # MODIFY CODE HERE FOR CNN ARBIRATORY FILTER SIZE\n",
    "    return torch.stack(words),length"
   ]
  },
  {
   "cell_type": "code",
   "execution_count": 6,
   "metadata": {},
   "outputs": [],
   "source": [
    "processed_dataset = []\n",
    "\n",
    "for review in preprocessed_dataset:\n",
    "    embedding,length = getWordEmbeddingforText(review['text'])\n",
    "    processed_dataset.append({'text': embedding,'length': length,'label' : review['label']})\n",
    " "
   ]
  },
  {
   "cell_type": "code",
   "execution_count": 7,
   "metadata": {},
   "outputs": [],
   "source": [
    "class ReviewDataSet(Dataset):\n",
    "    def __init__(self,data):\n",
    "        super().__init__()\n",
    "        self.data = data\n",
    "\n",
    "    def __len__(self):\n",
    "        return len(self.data)\n",
    "    \n",
    "    def __getitem__(self, index):\n",
    "        return self.data[index]\n",
    "\n",
    "dataset = ReviewDataSet(processed_dataset)"
   ]
  },
  {
   "cell_type": "code",
   "execution_count": 8,
   "metadata": {},
   "outputs": [],
   "source": [
    "# Train and Validation split and an equal distriubition of classes\n",
    "train_idx,valid_idx = train_test_split(np.arange(train_dataset_labels.shape[0]), \n",
    "    test_size=0.2,\n",
    "    shuffle= True,\n",
    "    stratify= train_dataset_labels,\n",
    "    random_state=0\n",
    ")\n",
    "\n",
    "def collate_function(batch_data):\n",
    "    inputs = [b['text'] for b in batch_data]\n",
    "    lengths = [b['length'] for b in batch_data]\n",
    "    labels = torch.tensor([b['label'] for b in batch_data])\n",
    "\n",
    "    labels = labels.unsqueeze(1)\n",
    "    inputs = pad_sequence(inputs,batch_first=True)\n",
    "    return  {'input' : inputs , 'lengths': lengths , 'labels' : labels }\n",
    "\n",
    "    \n",
    "\n",
    "train_sampler = SubsetRandomSampler(train_idx)\n",
    "valid_sampler = SubsetRandomSampler(valid_idx)\n",
    "train_dataloader = DataLoader(dataset,64,sampler=train_sampler,collate_fn=collate_function)\n",
    "valid_dataloader = DataLoader(dataset,64,sampler=valid_sampler,collate_fn=collate_function)"
   ]
  },
  {
   "cell_type": "code",
   "execution_count": null,
   "metadata": {},
   "outputs": [],
   "source": []
  },
  {
   "cell_type": "code",
   "execution_count": 9,
   "metadata": {},
   "outputs": [],
   "source": [
    "class DAN(nn.Module):\n",
    "    \n",
    "    def __init__(self,embed_dim=EMBED_DIM,hidden_dim = HIDDEN_DIM, droput_prob = 0.3, train_device = device_cpu):\n",
    "        super().__init__()\n",
    "        self.embed_dim = embed_dim\n",
    "        self.hidden_dim = hidden_dim\n",
    "        self.fc1 = nn.Linear(self.embed_dim,self.hidden_dim)\n",
    "        #self.fc = nn.Linear(self.hidden_dim,self.hidden_dim)\n",
    "        self.fc2 = nn.Linear(self.hidden_dim,1)\n",
    "        self.sigmoid  = nn.Sigmoid()\n",
    "        self.word_dropout_prob = droput_prob\n",
    "\n",
    "        self.train_device = train_device\n",
    "\n",
    "        #if(word_vector_types_count > 1) :\n",
    "        #   self.importance_weights = nn.Linear(word_vector_types_count*EMBED_DIM,word_vector_types_count)\n",
    "        \n",
    "\n",
    "    def forward(self,inp,inp_len):\n",
    "        \n",
    "    \n",
    "        inp_mask = torch.ones((inp.shape[0],inp.shape[1]))\n",
    "        for i  in range(inp.shape[0]):\n",
    "            inp_mask[i,inp_len[i]:] = 0.0\n",
    "\n",
    "        inp_mask = inp_mask.to(self.train_device)\n",
    "\n",
    "        inp_lengths = torch.sum(inp_mask,-1,keepdim=True).int()\n",
    "        inp_lengths = inp_lengths.to(self.train_device)\n",
    "        #if word_vector_types_count > 1:\n",
    "        #    input = inp.view((inp.shape[0],inp.shape[1],-1))\n",
    "        #    out = self.importance_weights(input)\n",
    "        #    weights = F.softmax(out,dim=2).unsqueeze(3)\n",
    "        #    weights_multiplied_vector = weights * inp\n",
    "        #    inp = torch.sum(weights_multiplied_vector,dim=2)\n",
    "\n",
    "        total = torch.sum(inp*(inp_mask.unsqueeze(2)),axis=1)\n",
    "        vector_average = total / inp_lengths\n",
    "        ans = F.relu(self.fc1(vector_average))\n",
    "        #ans = F.relu(self.fc(ans))\n",
    "        ans = self.sigmoid(self.fc2(ans))\n",
    "        return ans\n",
    "dan = DAN(train_device=device_cpu)\n"
   ]
  },
  {
   "cell_type": "code",
   "execution_count": 10,
   "metadata": {},
   "outputs": [],
   "source": [
    "class RNNModel(nn.Module):\n",
    "\n",
    "    def __init__(self,\n",
    "            embed_dim=EMBED_DIM,hidden_dim =HIDDEN_DIM,bidirectional=False,\n",
    "            rnn_type = 'gru',num_layers=1,rnn_dropout = 0.4,fc_dropout = 0.3):\n",
    "        \n",
    "        super().__init__()\n",
    "        \n",
    "        self.embed_dim = embed_dim\n",
    "        self.hidden_dim = hidden_dim\n",
    "        self.num_layers = num_layers\n",
    "        self.bidirectional = bidirectional\n",
    "        self.dropout = rnn_dropout\n",
    "        self.fc_dropout = nn.Dropout(fc_dropout)\n",
    "\n",
    "        self.rnn = None\n",
    "        \n",
    "        if rnn_type == 'gru':\n",
    "            self.rnn  = nn.GRU(input_size = self.embed_dim,\n",
    "                hidden_size = self.hidden_dim,\n",
    "                num_layers = self.num_layers,\n",
    "                batch_first = True,\n",
    "                dropout = self.dropout,\n",
    "                bidirectional = self.bidirectional\n",
    "            )\n",
    "        elif rnn_type == 'rnn':\n",
    "            self.rnn = nn.RNN(input_size = self.embed_dim,\n",
    "                hidden_size = self.hidden_dim,\n",
    "                num_layers = self.num_layers,\n",
    "                batch_first = True,\n",
    "                dropout = self.dropout,\n",
    "                bidirectional = self.bidirectional)\n",
    "        \n",
    "\n",
    "        self.bidirectional_factor = 2 if self.bidirectional else 1\n",
    "        self.dnn_input_size= self.bidirectional_factor * self.num_layers * self.hidden_dim\n",
    "        self.fc_list = []\n",
    "\n",
    "        log_base_2 = np.log2(self.dnn_input_size)\n",
    "        nearest_power_2 = int(log_base_2)\n",
    "\n",
    "        if(float(nearest_power_2) != log_base_2):\n",
    "            self.fc_list.append(nn.Linear(self.dnn_input_size,2**nearest_power_2))\n",
    "\n",
    "        while nearest_power_2 > 7 :\n",
    "            self.fc_list.append(nn.Linear(2**(nearest_power_2),2**(nearest_power_2-1)))\n",
    "            nearest_power_2-=1\n",
    "        \n",
    "        self.fc_list.append(nn.Linear(128,1))\n",
    "        self.fc = nn.ModuleList(self.fc_list)\n",
    "\n",
    "        #self.fc1 = nn.Linear(self.dnn_input_size,128)\n",
    "        #self.fc2 = nn.Linear(128,1)\n",
    "        self.sigmoid = nn.Sigmoid()\n",
    "\n",
    "    def forward(self,x,x_len):\n",
    "\n",
    "        packed_input = pack_padded_sequence(x,x_len,batch_first=True,enforce_sorted=False)\n",
    "        packed_output,hidden = self.rnn(packed_input)\n",
    "        output,output_lengths = pad_packed_sequence(packed_output)\n",
    "        #hidden = hidden.squeeze()\n",
    "        hidden = torch.permute(hidden,(1,0,2))\n",
    "        hidden = hidden.contiguous().view((hidden.shape[0],-1))\n",
    "        out = hidden\n",
    "        for i,l in enumerate(self.fc):\n",
    "            if i!=(len(self.fc_list)-1):\n",
    "                out = self.fc_dropout(l(out))\n",
    "            \n",
    "        #out = self.fc_dropout(self.fc1(hidden))\n",
    "        ans = self.sigmoid(self.fc_list[len(self.fc_list)-1](out))\n",
    "        return ans\n",
    "\n"
   ]
  },
  {
   "cell_type": "code",
   "execution_count": null,
   "metadata": {},
   "outputs": [],
   "source": [
    "sent = RNNModel(bidirectional=True,num_layers=1)"
   ]
  },
  {
   "cell_type": "code",
   "execution_count": 21,
   "metadata": {},
   "outputs": [],
   "source": [
    "# ADD Dropout Term\n",
    "\n",
    "class CNNModel(nn.Module):\n",
    "\n",
    "    def __init__(self, embed_dim=EMBED_DIM,hidden_dim = HIDDEN_DIM,filter_sizes = FILTER_SIZES, n_filters = NUM_FILTERS,dropout = 0.2):\n",
    "        super().__init__()\n",
    "        self.embed_dim = embed_dim\n",
    "        self.hidden_dim = hidden_dim\n",
    "        self.filter_sizes = filter_sizes\n",
    "        self.num_filters = n_filters\n",
    "        self.dropout = nn.Dropout(p=dropout)\n",
    "        \n",
    "        self.modulelist = nn.ModuleList([\n",
    "            nn.Conv1d(in_channels=self.embed_dim,\n",
    "            out_channels=self.num_filters,\n",
    "            kernel_size= self.filter_sizes[i]\n",
    "            )\n",
    "    \n",
    "        for i in range(len(self.filter_sizes))])\n",
    "        \n",
    "        self.fc1 = nn.Linear(self.num_filters*len(self.filter_sizes),hidden_dim)\n",
    "        self.fc2 = nn.Linear(self.hidden_dim,1)\n",
    "        self.sigmoid = nn.Sigmoid()\n",
    "\n",
    "    def forward(self,x : torch.Tensor,xlen = None):\n",
    "        \n",
    "        permuted_x = x.permute(0,2,1)\n",
    "        x_conv_list = [F.relu(conv(permuted_x)) for conv in self.modulelist]\n",
    "        x_max_pool_list = [F.max_pool1d(x_conv,kernel_size=x_conv.shape[2]) for x_conv in x_conv_list]\n",
    "        \n",
    "        feature = torch.cat([x_pool.squeeze(dim=2) for x_pool in x_max_pool_list],dim=1)\n",
    "        \n",
    "        out = self.dropout(F.relu(self.fc1(feature)))\n",
    "        out = self.fc2(out)\n",
    "        return self.sigmoid(out)\n",
    "\n",
    "\n",
    "\n",
    "cnnmodel = CNNModel(10,2,FILTER_SIZES,NUM_FILTERS)    "
   ]
  },
  {
   "cell_type": "code",
   "execution_count": 25,
   "metadata": {},
   "outputs": [],
   "source": [
    "def length_after_1d_convolution(x,filter_size,max_pool_size):\n",
    "\n",
    "    def fn(sent_len,a=filter_size,pool_size = max_pool_size):\n",
    "        conv_out = sent_len - a +1\n",
    "        return int(conv_out/pool_size)\n",
    "\n",
    "    ans = list(map(fn,x))\n",
    "    return ans\n",
    "\n",
    "class EnsembleModel(nn.Module):\n",
    "\n",
    "    def __init__(self,embed_dim = EMBED_DIM,hidden_dim = HIDDEN_DIM,filter_size = 3,num_filters=256,max_pool_size = 3,dropout = 0.3,\n",
    "        rnn_bidirectional = True,\n",
    "        rnn_num_layers = 1,\n",
    "        rnn_dropout = 0.0\n",
    "    ):\n",
    "        super().__init__()\n",
    "        \n",
    "        self.embed_dim = embed_dim\n",
    "        self.hidden_dim = hidden_dim\n",
    "        self.filter_size = filter_size\n",
    "        self.max_pool_size = max_pool_size\n",
    "        self.dropout = dropout\n",
    "\n",
    "        self.conv = nn.Conv1d(self.embed_dim,num_filters,self.filter_size)\n",
    "        self.pool = nn.MaxPool1d(max_pool_size)\n",
    "\n",
    "        self.RNNModel = RNNModel(num_filters,hidden_dim,rnn_bidirectional,num_layers=rnn_num_layers,rnn_dropout=rnn_dropout,fc_dropout=dropout)\n",
    "\n",
    "\n",
    "    def forward(self,x,x_len):\n",
    "        \n",
    "        x = x.permute(0,2,1)\n",
    "        conv_x = F.relu(self.conv(x))\n",
    "        pooled_x = self.pool(conv_x)\n",
    "\n",
    "        new_x = pooled_x.permute(0,2,1)\n",
    "        #print(new_x.shape)\n",
    "        new_x_len = length_after_1d_convolution(x_len,self.filter_size,self.max_pool_size)\n",
    "        #print(new_x_len)\n",
    "\n",
    "        ans = self.RNNModel(new_x,new_x_len)\n",
    "        return ans\n",
    "ensemble_model = EnsembleModel()\n"
   ]
  },
  {
   "cell_type": "code",
   "execution_count": 12,
   "metadata": {},
   "outputs": [],
   "source": [
    "from torch.utils.tensorboard import SummaryWriter\n",
    "from datetime import  datetime\n",
    "\n",
    "def train(model,train_dataloader,valid_dataloader,num_epochs,criterion,optimizer,check_point_name,tensorboard_name,device_train = device_fast,use_rnn = False):\n",
    "    \n",
    "    current_datetime = datetime.now().strftime(\"%d/%m/%Y_%H:%M:%S\")\n",
    "    tensorboard_name = tensorboard_name + \"_\" + current_datetime\n",
    "    writer = SummaryWriter('runs/' + tensorboard_name)\n",
    "    model = model.to(device_train)\n",
    "\n",
    "\n",
    "    clip = 0\n",
    "    if use_rnn:\n",
    "        clip = 5\n",
    "\n",
    "    best_validation_loss = 1000.0\n",
    "    valdiation_loss_not_decreased_steps = 0\n",
    "    \n",
    "    model.train()\n",
    "    for e in range(num_epochs):\n",
    "        \n",
    "        training_set_size = 0\n",
    "        training_loss = 0.0\n",
    "        model.train()\n",
    "\n",
    "        for data in tqdm(train_dataloader):\n",
    "            \n",
    "            optimizer.zero_grad()\n",
    "            input_reviews,inp_lengths,output_labels = data['input'], data['lengths'],data['labels']\n",
    "            input_reviews = input_reviews.to(device_train)\n",
    "            training_set_size += input_reviews.shape[0]\n",
    "            output = model(input_reviews,inp_lengths)\n",
    "            output = output.to(device_cpu)\n",
    "            loss = criterion(output,output_labels.float())\n",
    "            training_loss += loss.item()\n",
    "            loss.backward()\n",
    "            if use_rnn:\n",
    "                nn.utils.clip_grad_norm_(model.parameters(),clip)\n",
    "            optimizer.step()\n",
    "        \n",
    "        current_training_loss = training_loss / training_set_size\n",
    "        print(\"Epoch \" + str(e) + \" Average Training Loss = \" +  str(current_training_loss))\n",
    "        writer.add_scalars(tensorboard_name + '; Loss vs Epoch',{'train' : current_training_loss},e)\n",
    "        \n",
    "        model.eval()\n",
    "        \n",
    "        if valid_dataloader is None:\n",
    "            continue\n",
    "        \n",
    "        validation_set_size  = 0 \n",
    "        if e% VALIDATION_LOSS_COMPUTE_STEP==0:\n",
    "            correct_count = 0\n",
    "            validation_loss = 0\n",
    "\n",
    "            for i,data in enumerate(valid_dataloader,0):\n",
    "                input_reviews,inp_lengths,output_labels = data['input'], data['lengths'],data['labels']\n",
    "                input_reviews = input_reviews.to(device_train)\n",
    "                validation_set_size += input_reviews.shape[0]\n",
    "                output = model(input_reviews,inp_lengths)\n",
    "                output = output.to(device_cpu)\n",
    "                loss = criterion(output,output_labels.float())\n",
    "                validation_loss += loss.item()\n",
    "                nearest_class = torch.round(output)\n",
    "\n",
    "                correct = (nearest_class == output_labels.float()).float()\n",
    "                correct_count += correct.sum()\n",
    "            correct_count = int(correct_count)\n",
    "            current_validation_loss = (1.0* validation_loss)/validation_set_size\n",
    "            print(\"Epoch \" + str(e) + \" \" +  \"Validation Loss = \" + str(current_validation_loss) )\n",
    "            print(\"Validation Set Accuracy = \" + str((correct_count/validation_set_size)*100) )\n",
    "\n",
    "            writer.add_scalar(tensorboard_name + ' Validation Accuracy vs Epoch ',int((correct_count/validation_set_size)*100),e)\n",
    "            writer.add_scalars('Loss vs Epoch',{'valid' : current_validation_loss},e)\n",
    "            if current_validation_loss < best_validation_loss:\n",
    "                valdiation_loss_not_decreased_steps = 0\n",
    "                torch.save(model.state_dict(),check_point_name)\n",
    "                best_validation_loss = current_validation_loss\n",
    "            else:\n",
    "                valdiation_loss_not_decreased_steps +=1\n",
    "        \n",
    "        if valdiation_loss_not_decreased_steps >= PATIENCE_PARAMETER:\n",
    "            break"
   ]
  },
  {
   "cell_type": "code",
   "execution_count": 11,
   "metadata": {},
   "outputs": [
    {
     "name": "stderr",
     "output_type": "stream",
     "text": [
      "100%|██████████| 500/500 [00:41<00:00, 12.19it/s]\n"
     ]
    },
    {
     "name": "stdout",
     "output_type": "stream",
     "text": [
      "Epoch 0 Average Training Loss = 0.006330133778043092\n",
      "Epoch 0 Validation Loss = 0.005358372364193201\n",
      "Validation Set Accuracy = 85.5875\n"
     ]
    },
    {
     "name": "stderr",
     "output_type": "stream",
     "text": [
      "100%|██████████| 500/500 [00:45<00:00, 10.92it/s]\n"
     ]
    },
    {
     "name": "stdout",
     "output_type": "stream",
     "text": [
      "Epoch 1 Average Training Loss = 0.005534328098408878\n",
      "Epoch 1 Validation Loss = 0.005460455451160669\n",
      "Validation Set Accuracy = 84.6625\n"
     ]
    },
    {
     "name": "stderr",
     "output_type": "stream",
     "text": [
      "100%|██████████| 500/500 [00:45<00:00, 11.06it/s]\n"
     ]
    },
    {
     "name": "stdout",
     "output_type": "stream",
     "text": [
      "Epoch 2 Average Training Loss = 0.005436013853177428\n",
      "Epoch 2 Validation Loss = 0.0051550471521914\n",
      "Validation Set Accuracy = 86.5\n"
     ]
    },
    {
     "name": "stderr",
     "output_type": "stream",
     "text": [
      "100%|██████████| 500/500 [00:44<00:00, 11.21it/s]\n"
     ]
    },
    {
     "name": "stdout",
     "output_type": "stream",
     "text": [
      "Epoch 3 Average Training Loss = 0.005336245266720652\n",
      "Epoch 3 Validation Loss = 0.005136315552517772\n",
      "Validation Set Accuracy = 86.3625\n"
     ]
    },
    {
     "name": "stderr",
     "output_type": "stream",
     "text": [
      "100%|██████████| 500/500 [00:45<00:00, 11.10it/s]\n"
     ]
    },
    {
     "name": "stdout",
     "output_type": "stream",
     "text": [
      "Epoch 4 Average Training Loss = 0.005251947040203959\n",
      "Epoch 4 Validation Loss = 0.005303693672642112\n",
      "Validation Set Accuracy = 85.6\n"
     ]
    },
    {
     "name": "stderr",
     "output_type": "stream",
     "text": [
      "100%|██████████| 500/500 [00:52<00:00,  9.49it/s]\n"
     ]
    },
    {
     "name": "stdout",
     "output_type": "stream",
     "text": [
      "Epoch 5 Average Training Loss = 0.005221723749767989\n",
      "Epoch 5 Validation Loss = 0.005278841095045209\n",
      "Validation Set Accuracy = 86.0375\n"
     ]
    },
    {
     "name": "stderr",
     "output_type": "stream",
     "text": [
      "100%|██████████| 500/500 [00:47<00:00, 10.43it/s]\n"
     ]
    },
    {
     "name": "stdout",
     "output_type": "stream",
     "text": [
      "Epoch 6 Average Training Loss = 0.005178150294348598\n",
      "Epoch 6 Validation Loss = 0.00505219916254282\n",
      "Validation Set Accuracy = 86.2625\n"
     ]
    },
    {
     "name": "stderr",
     "output_type": "stream",
     "text": [
      "100%|██████████| 500/500 [00:47<00:00, 10.44it/s]\n"
     ]
    },
    {
     "name": "stdout",
     "output_type": "stream",
     "text": [
      "Epoch 7 Average Training Loss = 0.005055601582396776\n",
      "Epoch 7 Validation Loss = 0.005119497990235687\n",
      "Validation Set Accuracy = 86.45\n"
     ]
    },
    {
     "name": "stderr",
     "output_type": "stream",
     "text": [
      "100%|██████████| 500/500 [00:51<00:00,  9.79it/s]\n"
     ]
    },
    {
     "name": "stdout",
     "output_type": "stream",
     "text": [
      "Epoch 8 Average Training Loss = 0.005034549145959318\n",
      "Epoch 8 Validation Loss = 0.0050515473056584595\n",
      "Validation Set Accuracy = 86.6\n"
     ]
    },
    {
     "name": "stderr",
     "output_type": "stream",
     "text": [
      "100%|██████████| 500/500 [00:49<00:00, 10.18it/s]\n"
     ]
    },
    {
     "name": "stdout",
     "output_type": "stream",
     "text": [
      "Epoch 9 Average Training Loss = 0.00503445550147444\n",
      "Epoch 9 Validation Loss = 0.005046982048079371\n",
      "Validation Set Accuracy = 86.41250000000001\n"
     ]
    },
    {
     "name": "stderr",
     "output_type": "stream",
     "text": [
      "100%|██████████| 500/500 [00:42<00:00, 11.85it/s]\n"
     ]
    },
    {
     "name": "stdout",
     "output_type": "stream",
     "text": [
      "Epoch 10 Average Training Loss = 0.004929035309236497\n",
      "Epoch 10 Validation Loss = 0.005066323863342405\n",
      "Validation Set Accuracy = 86.47500000000001\n"
     ]
    },
    {
     "name": "stderr",
     "output_type": "stream",
     "text": [
      "100%|██████████| 500/500 [00:41<00:00, 12.08it/s]\n"
     ]
    },
    {
     "name": "stdout",
     "output_type": "stream",
     "text": [
      "Epoch 11 Average Training Loss = 0.00498601452074945\n",
      "Epoch 11 Validation Loss = 0.005278835240751505\n",
      "Validation Set Accuracy = 86.1625\n"
     ]
    },
    {
     "name": "stderr",
     "output_type": "stream",
     "text": [
      "100%|██████████| 500/500 [00:38<00:00, 12.92it/s]\n"
     ]
    },
    {
     "name": "stdout",
     "output_type": "stream",
     "text": [
      "Epoch 12 Average Training Loss = 0.004886241578962654\n",
      "Epoch 12 Validation Loss = 0.005038616444915533\n",
      "Validation Set Accuracy = 86.91250000000001\n"
     ]
    },
    {
     "name": "stderr",
     "output_type": "stream",
     "text": [
      "100%|██████████| 500/500 [00:47<00:00, 10.47it/s]\n"
     ]
    },
    {
     "name": "stdout",
     "output_type": "stream",
     "text": [
      "Epoch 13 Average Training Loss = 0.0049116664216853675\n",
      "Epoch 13 Validation Loss = 0.005036126669496298\n",
      "Validation Set Accuracy = 86.2625\n"
     ]
    },
    {
     "name": "stderr",
     "output_type": "stream",
     "text": [
      "100%|██████████| 500/500 [00:51<00:00,  9.62it/s]\n"
     ]
    },
    {
     "name": "stdout",
     "output_type": "stream",
     "text": [
      "Epoch 14 Average Training Loss = 0.004852819191291928\n",
      "Epoch 14 Validation Loss = 0.005372006792575121\n",
      "Validation Set Accuracy = 85.075\n"
     ]
    },
    {
     "name": "stderr",
     "output_type": "stream",
     "text": [
      "100%|██████████| 500/500 [00:46<00:00, 10.74it/s]\n"
     ]
    },
    {
     "name": "stdout",
     "output_type": "stream",
     "text": [
      "Epoch 15 Average Training Loss = 0.004849392444826663\n",
      "Epoch 15 Validation Loss = 0.0051915532443672415\n",
      "Validation Set Accuracy = 85.975\n"
     ]
    },
    {
     "name": "stderr",
     "output_type": "stream",
     "text": [
      "100%|██████████| 500/500 [00:39<00:00, 12.59it/s]\n"
     ]
    },
    {
     "name": "stdout",
     "output_type": "stream",
     "text": [
      "Epoch 16 Average Training Loss = 0.0047974171815440055\n",
      "Epoch 16 Validation Loss = 0.005225168062373995\n",
      "Validation Set Accuracy = 86.2125\n"
     ]
    },
    {
     "name": "stderr",
     "output_type": "stream",
     "text": [
      "100%|██████████| 500/500 [00:42<00:00, 11.65it/s]\n"
     ]
    },
    {
     "name": "stdout",
     "output_type": "stream",
     "text": [
      "Epoch 17 Average Training Loss = 0.004774001012090593\n",
      "Epoch 17 Validation Loss = 0.0050076701287180185\n",
      "Validation Set Accuracy = 86.2875\n"
     ]
    },
    {
     "name": "stderr",
     "output_type": "stream",
     "text": [
      "100%|██████████| 500/500 [00:41<00:00, 12.04it/s]\n"
     ]
    },
    {
     "name": "stdout",
     "output_type": "stream",
     "text": [
      "Epoch 18 Average Training Loss = 0.004771853906102478\n",
      "Epoch 18 Validation Loss = 0.0050130156558007\n",
      "Validation Set Accuracy = 86.75\n"
     ]
    },
    {
     "name": "stderr",
     "output_type": "stream",
     "text": [
      "100%|██████████| 500/500 [00:42<00:00, 11.84it/s]\n"
     ]
    },
    {
     "name": "stdout",
     "output_type": "stream",
     "text": [
      "Epoch 19 Average Training Loss = 0.004709118981845677\n",
      "Epoch 19 Validation Loss = 0.005087011504918337\n",
      "Validation Set Accuracy = 86.47500000000001\n"
     ]
    },
    {
     "name": "stderr",
     "output_type": "stream",
     "text": [
      "100%|██████████| 500/500 [00:40<00:00, 12.34it/s]\n"
     ]
    },
    {
     "name": "stdout",
     "output_type": "stream",
     "text": [
      "Epoch 20 Average Training Loss = 0.0047282912386581305\n",
      "Epoch 20 Validation Loss = 0.005033512288704515\n",
      "Validation Set Accuracy = 86.2125\n"
     ]
    },
    {
     "name": "stderr",
     "output_type": "stream",
     "text": [
      "100%|██████████| 500/500 [00:44<00:00, 11.34it/s]\n"
     ]
    },
    {
     "name": "stdout",
     "output_type": "stream",
     "text": [
      "Epoch 21 Average Training Loss = 0.004699433033820242\n",
      "Epoch 21 Validation Loss = 0.005492307219654322\n",
      "Validation Set Accuracy = 85.1625\n"
     ]
    }
   ],
   "source": [
    "EPOCHS = 50\n",
    "dan = DAN(train_device=device_cpu)\n",
    "criterion = nn.BCELoss()\n",
    "LR = 0.01\n",
    "optimizer = optim.Adam(dan.parameters(),lr=LR)\n",
    "\n",
    "model_name = type(dan).__name__\n",
    "optimizer_name = type(optimizer).__name__\n",
    "loss_fn_name = type(criterion).__name__\n",
    "\n",
    "checkpoint_name = 'checkpoints/'+model_name+ '_' + str(EPOCHS)+\"_\"+ loss_fn_name  +\"_\"+ optimizer_name + \"_\" + str(LR)+'_.pth'  \n",
    "train(dan,train_dataloader,valid_dataloader,EPOCHS,criterion,optimizer,checkpoint_name,model_name,device_cpu,use_rnn=False)"
   ]
  },
  {
   "cell_type": "code",
   "execution_count": 20,
   "metadata": {},
   "outputs": [
    {
     "name": "stderr",
     "output_type": "stream",
     "text": [
      "  0%|          | 1/500 [00:09<1:19:23,  9.55s/it]\n"
     ]
    },
    {
     "ename": "KeyboardInterrupt",
     "evalue": "",
     "output_type": "error",
     "traceback": [
      "\u001b[0;31m---------------------------------------------------------------------------\u001b[0m",
      "\u001b[0;31mKeyboardInterrupt\u001b[0m                         Traceback (most recent call last)",
      "\u001b[1;32m/Users/depressedcoder/DLNLP/Assignment2/solution.ipynb Cell 18\u001b[0m in \u001b[0;36m<cell line: 18>\u001b[0;34m()\u001b[0m\n\u001b[1;32m     <a href='vscode-notebook-cell:/Users/depressedcoder/DLNLP/Assignment2/solution.ipynb#X23sZmlsZQ%3D%3D?line=14'>15</a>\u001b[0m loss_fn_name \u001b[39m=\u001b[39m \u001b[39mtype\u001b[39m(criterion)\u001b[39m.\u001b[39m\u001b[39m__name__\u001b[39m\n\u001b[1;32m     <a href='vscode-notebook-cell:/Users/depressedcoder/DLNLP/Assignment2/solution.ipynb#X23sZmlsZQ%3D%3D?line=16'>17</a>\u001b[0m checkpoint_name \u001b[39m=\u001b[39m \u001b[39m'\u001b[39m\u001b[39mcheckpoints/\u001b[39m\u001b[39m'\u001b[39m\u001b[39m+\u001b[39mmodel_name\u001b[39m+\u001b[39m \u001b[39m'\u001b[39m\u001b[39m_\u001b[39m\u001b[39m'\u001b[39m \u001b[39m+\u001b[39mRNN_TYPE \u001b[39m+\u001b[39m \u001b[39m'\u001b[39m\u001b[39m_\u001b[39m\u001b[39m'\u001b[39m\u001b[39m+\u001b[39m \u001b[39mstr\u001b[39m(EPOCHS)\u001b[39m+\u001b[39m\u001b[39m\"\u001b[39m\u001b[39m_\u001b[39m\u001b[39m\"\u001b[39m\u001b[39m+\u001b[39m loss_fn_name  \u001b[39m+\u001b[39m\u001b[39m\"\u001b[39m\u001b[39m_\u001b[39m\u001b[39m\"\u001b[39m\u001b[39m+\u001b[39m optimizer_name \u001b[39m+\u001b[39m \u001b[39m\"\u001b[39m\u001b[39m_\u001b[39m\u001b[39m\"\u001b[39m \u001b[39m+\u001b[39m \u001b[39mstr\u001b[39m(LR) \u001b[39m+\u001b[39m \u001b[39m\"\u001b[39m\u001b[39m_\u001b[39m\u001b[39m\"\u001b[39m \u001b[39m+\u001b[39m \u001b[39mstr\u001b[39m(NUM_LAYERS) \u001b[39m+\u001b[39m\u001b[39m'\u001b[39m\u001b[39m_\u001b[39m\u001b[39m'\u001b[39m\u001b[39m+\u001b[39m BIDIRECTIONAL \u001b[39m+\u001b[39m\u001b[39m'\u001b[39m\u001b[39m_\u001b[39m\u001b[39m'\u001b[39m \u001b[39m+\u001b[39m \u001b[39mstr\u001b[39m(RNN_DROPOUT)\u001b[39m+\u001b[39m\u001b[39m'\u001b[39m\u001b[39m_.pth\u001b[39m\u001b[39m'\u001b[39m \n\u001b[0;32m---> <a href='vscode-notebook-cell:/Users/depressedcoder/DLNLP/Assignment2/solution.ipynb#X23sZmlsZQ%3D%3D?line=17'>18</a>\u001b[0m train(model,train_dataloader,valid_dataloader,EPOCHS,criterion,optimizer,checkpoint_name,model_name,device_cpu,use_rnn\u001b[39m=\u001b[39;49m\u001b[39mFalse\u001b[39;49;00m)\n",
      "\u001b[1;32m/Users/depressedcoder/DLNLP/Assignment2/solution.ipynb Cell 18\u001b[0m in \u001b[0;36mtrain\u001b[0;34m(model, train_dataloader, valid_dataloader, num_epochs, criterion, optimizer, check_point_name, tensorboard_name, device_train, use_rnn)\u001b[0m\n\u001b[1;32m     <a href='vscode-notebook-cell:/Users/depressedcoder/DLNLP/Assignment2/solution.ipynb#X23sZmlsZQ%3D%3D?line=33'>34</a>\u001b[0m loss \u001b[39m=\u001b[39m criterion(output,output_labels\u001b[39m.\u001b[39mfloat())\n\u001b[1;32m     <a href='vscode-notebook-cell:/Users/depressedcoder/DLNLP/Assignment2/solution.ipynb#X23sZmlsZQ%3D%3D?line=34'>35</a>\u001b[0m training_loss \u001b[39m+\u001b[39m\u001b[39m=\u001b[39m loss\u001b[39m.\u001b[39mitem()\n\u001b[0;32m---> <a href='vscode-notebook-cell:/Users/depressedcoder/DLNLP/Assignment2/solution.ipynb#X23sZmlsZQ%3D%3D?line=35'>36</a>\u001b[0m loss\u001b[39m.\u001b[39;49mbackward()\n\u001b[1;32m     <a href='vscode-notebook-cell:/Users/depressedcoder/DLNLP/Assignment2/solution.ipynb#X23sZmlsZQ%3D%3D?line=36'>37</a>\u001b[0m \u001b[39mif\u001b[39;00m use_rnn:\n\u001b[1;32m     <a href='vscode-notebook-cell:/Users/depressedcoder/DLNLP/Assignment2/solution.ipynb#X23sZmlsZQ%3D%3D?line=37'>38</a>\u001b[0m     nn\u001b[39m.\u001b[39mutils\u001b[39m.\u001b[39mclip_grad_norm_(model\u001b[39m.\u001b[39mparameters(),clip)\n",
      "File \u001b[0;32m~/environments/gymenv/lib/python3.9/site-packages/torch/_tensor.py:484\u001b[0m, in \u001b[0;36mTensor.backward\u001b[0;34m(self, gradient, retain_graph, create_graph, inputs)\u001b[0m\n\u001b[1;32m    474\u001b[0m \u001b[39mif\u001b[39;00m has_torch_function_unary(\u001b[39mself\u001b[39m):\n\u001b[1;32m    475\u001b[0m     \u001b[39mreturn\u001b[39;00m handle_torch_function(\n\u001b[1;32m    476\u001b[0m         Tensor\u001b[39m.\u001b[39mbackward,\n\u001b[1;32m    477\u001b[0m         (\u001b[39mself\u001b[39m,),\n\u001b[0;32m   (...)\u001b[0m\n\u001b[1;32m    482\u001b[0m         inputs\u001b[39m=\u001b[39minputs,\n\u001b[1;32m    483\u001b[0m     )\n\u001b[0;32m--> 484\u001b[0m torch\u001b[39m.\u001b[39;49mautograd\u001b[39m.\u001b[39;49mbackward(\n\u001b[1;32m    485\u001b[0m     \u001b[39mself\u001b[39;49m, gradient, retain_graph, create_graph, inputs\u001b[39m=\u001b[39;49minputs\n\u001b[1;32m    486\u001b[0m )\n",
      "File \u001b[0;32m~/environments/gymenv/lib/python3.9/site-packages/torch/autograd/__init__.py:191\u001b[0m, in \u001b[0;36mbackward\u001b[0;34m(tensors, grad_tensors, retain_graph, create_graph, grad_variables, inputs)\u001b[0m\n\u001b[1;32m    186\u001b[0m     retain_graph \u001b[39m=\u001b[39m create_graph\n\u001b[1;32m    188\u001b[0m \u001b[39m# The reason we repeat same the comment below is that\u001b[39;00m\n\u001b[1;32m    189\u001b[0m \u001b[39m# some Python versions print out the first line of a multi-line function\u001b[39;00m\n\u001b[1;32m    190\u001b[0m \u001b[39m# calls in the traceback and some print out the last line\u001b[39;00m\n\u001b[0;32m--> 191\u001b[0m Variable\u001b[39m.\u001b[39;49m_execution_engine\u001b[39m.\u001b[39;49mrun_backward(  \u001b[39m# Calls into the C++ engine to run the backward pass\u001b[39;49;00m\n\u001b[1;32m    192\u001b[0m     tensors, grad_tensors_, retain_graph, create_graph, inputs,\n\u001b[1;32m    193\u001b[0m     allow_unreachable\u001b[39m=\u001b[39;49m\u001b[39mTrue\u001b[39;49;00m, accumulate_grad\u001b[39m=\u001b[39;49m\u001b[39mTrue\u001b[39;49;00m)\n",
      "\u001b[0;31mKeyboardInterrupt\u001b[0m: "
     ]
    }
   ],
   "source": [
    "EPOCHS = 50\n",
    "BIDIRECTIONAL = 'F'\n",
    "NUM_LAYERS = 1\n",
    "bidirectional = True if BIDIRECTIONAL=='T' else False\n",
    "RNN_TYPE = 'gru'\n",
    "RNN_DROPOUT = 0.3 if NUM_LAYERS == 1 else 0.0\n",
    "\n",
    "model = RNNModel(rnn_type=RNN_TYPE,bidirectional=bidirectional,num_layers=NUM_LAYERS,rnn_dropout=RNN_DROPOUT)\n",
    "criterion = nn.BCELoss()\n",
    "LR = 0.001\n",
    "optimizer = optim.Adam(dan.parameters(),lr=LR)\n",
    "\n",
    "model_name = type(model).__name__\n",
    "optimizer_name = type(optimizer).__name__\n",
    "loss_fn_name = type(criterion).__name__\n",
    "\n",
    "checkpoint_name = 'checkpoints/'+model_name+ '_' +RNN_TYPE + '_'+ str(EPOCHS)+\"_\"+ loss_fn_name  +\"_\"+ optimizer_name + \"_\" + str(LR) + \"_\" + str(NUM_LAYERS) +'_'+ BIDIRECTIONAL +'_' + str(RNN_DROPOUT)+'_.pth' \n",
    "train(model,train_dataloader,valid_dataloader,EPOCHS,criterion,optimizer,checkpoint_name,model_name,device_cpu,use_rnn=False)"
   ]
  },
  {
   "cell_type": "code",
   "execution_count": 22,
   "metadata": {},
   "outputs": [
    {
     "name": "stderr",
     "output_type": "stream",
     "text": [
      "  0%|          | 2/500 [00:19<1:20:13,  9.67s/it]\n"
     ]
    },
    {
     "ename": "KeyboardInterrupt",
     "evalue": "",
     "output_type": "error",
     "traceback": [
      "\u001b[0;31m---------------------------------------------------------------------------\u001b[0m",
      "\u001b[0;31mKeyboardInterrupt\u001b[0m                         Traceback (most recent call last)",
      "\u001b[1;32m/Users/depressedcoder/DLNLP/Assignment2/solution.ipynb Cell 19\u001b[0m in \u001b[0;36m<cell line: 12>\u001b[0;34m()\u001b[0m\n\u001b[1;32m      <a href='vscode-notebook-cell:/Users/depressedcoder/DLNLP/Assignment2/solution.ipynb#X24sZmlsZQ%3D%3D?line=8'>9</a>\u001b[0m loss_fn_name \u001b[39m=\u001b[39m \u001b[39mtype\u001b[39m(criterion)\u001b[39m.\u001b[39m\u001b[39m__name__\u001b[39m\n\u001b[1;32m     <a href='vscode-notebook-cell:/Users/depressedcoder/DLNLP/Assignment2/solution.ipynb#X24sZmlsZQ%3D%3D?line=10'>11</a>\u001b[0m checkpoint_name \u001b[39m=\u001b[39m \u001b[39m'\u001b[39m\u001b[39mcheckpoints/\u001b[39m\u001b[39m'\u001b[39m\u001b[39m+\u001b[39mmodel_name\u001b[39m+\u001b[39m \u001b[39m'\u001b[39m\u001b[39m_\u001b[39m\u001b[39m'\u001b[39m \u001b[39m+\u001b[39m \u001b[39mstr\u001b[39m(EPOCHS)\u001b[39m+\u001b[39m\u001b[39m\"\u001b[39m\u001b[39m_\u001b[39m\u001b[39m\"\u001b[39m\u001b[39m+\u001b[39m loss_fn_name  \u001b[39m+\u001b[39m\u001b[39m\"\u001b[39m\u001b[39m_\u001b[39m\u001b[39m\"\u001b[39m\u001b[39m+\u001b[39m optimizer_name \u001b[39m+\u001b[39m \u001b[39m\"\u001b[39m\u001b[39m_\u001b[39m\u001b[39m\"\u001b[39m \u001b[39m+\u001b[39m \u001b[39mstr\u001b[39m(LR) \u001b[39m+\u001b[39m\u001b[39m'\u001b[39m\u001b[39m_.pth\u001b[39m\u001b[39m'\u001b[39m \n\u001b[0;32m---> <a href='vscode-notebook-cell:/Users/depressedcoder/DLNLP/Assignment2/solution.ipynb#X24sZmlsZQ%3D%3D?line=11'>12</a>\u001b[0m train(model,train_dataloader,valid_dataloader,EPOCHS,criterion,optimizer,checkpoint_name,model_name,device_cpu,use_rnn\u001b[39m=\u001b[39;49m\u001b[39mFalse\u001b[39;49;00m)\n",
      "\u001b[1;32m/Users/depressedcoder/DLNLP/Assignment2/solution.ipynb Cell 19\u001b[0m in \u001b[0;36mtrain\u001b[0;34m(model, train_dataloader, valid_dataloader, num_epochs, criterion, optimizer, check_point_name, tensorboard_name, device_train, use_rnn)\u001b[0m\n\u001b[1;32m     <a href='vscode-notebook-cell:/Users/depressedcoder/DLNLP/Assignment2/solution.ipynb#X24sZmlsZQ%3D%3D?line=29'>30</a>\u001b[0m input_reviews \u001b[39m=\u001b[39m input_reviews\u001b[39m.\u001b[39mto(device_train)\n\u001b[1;32m     <a href='vscode-notebook-cell:/Users/depressedcoder/DLNLP/Assignment2/solution.ipynb#X24sZmlsZQ%3D%3D?line=30'>31</a>\u001b[0m training_set_size \u001b[39m+\u001b[39m\u001b[39m=\u001b[39m input_reviews\u001b[39m.\u001b[39mshape[\u001b[39m0\u001b[39m]\n\u001b[0;32m---> <a href='vscode-notebook-cell:/Users/depressedcoder/DLNLP/Assignment2/solution.ipynb#X24sZmlsZQ%3D%3D?line=31'>32</a>\u001b[0m output \u001b[39m=\u001b[39m model(input_reviews,inp_lengths)\n\u001b[1;32m     <a href='vscode-notebook-cell:/Users/depressedcoder/DLNLP/Assignment2/solution.ipynb#X24sZmlsZQ%3D%3D?line=32'>33</a>\u001b[0m output \u001b[39m=\u001b[39m output\u001b[39m.\u001b[39mto(device_cpu)\n\u001b[1;32m     <a href='vscode-notebook-cell:/Users/depressedcoder/DLNLP/Assignment2/solution.ipynb#X24sZmlsZQ%3D%3D?line=33'>34</a>\u001b[0m loss \u001b[39m=\u001b[39m criterion(output,output_labels\u001b[39m.\u001b[39mfloat())\n",
      "File \u001b[0;32m~/environments/gymenv/lib/python3.9/site-packages/torch/nn/modules/module.py:1190\u001b[0m, in \u001b[0;36mModule._call_impl\u001b[0;34m(self, *input, **kwargs)\u001b[0m\n\u001b[1;32m   1186\u001b[0m \u001b[39m# If we don't have any hooks, we want to skip the rest of the logic in\u001b[39;00m\n\u001b[1;32m   1187\u001b[0m \u001b[39m# this function, and just call forward.\u001b[39;00m\n\u001b[1;32m   1188\u001b[0m \u001b[39mif\u001b[39;00m \u001b[39mnot\u001b[39;00m (\u001b[39mself\u001b[39m\u001b[39m.\u001b[39m_backward_hooks \u001b[39mor\u001b[39;00m \u001b[39mself\u001b[39m\u001b[39m.\u001b[39m_forward_hooks \u001b[39mor\u001b[39;00m \u001b[39mself\u001b[39m\u001b[39m.\u001b[39m_forward_pre_hooks \u001b[39mor\u001b[39;00m _global_backward_hooks\n\u001b[1;32m   1189\u001b[0m         \u001b[39mor\u001b[39;00m _global_forward_hooks \u001b[39mor\u001b[39;00m _global_forward_pre_hooks):\n\u001b[0;32m-> 1190\u001b[0m     \u001b[39mreturn\u001b[39;00m forward_call(\u001b[39m*\u001b[39;49m\u001b[39minput\u001b[39;49m, \u001b[39m*\u001b[39;49m\u001b[39m*\u001b[39;49mkwargs)\n\u001b[1;32m   1191\u001b[0m \u001b[39m# Do not call functions when jit is used\u001b[39;00m\n\u001b[1;32m   1192\u001b[0m full_backward_hooks, non_full_backward_hooks \u001b[39m=\u001b[39m [], []\n",
      "\u001b[1;32m/Users/depressedcoder/DLNLP/Assignment2/solution.ipynb Cell 19\u001b[0m in \u001b[0;36mCNNModel.forward\u001b[0;34m(self, x, xlen)\u001b[0m\n\u001b[1;32m     <a href='vscode-notebook-cell:/Users/depressedcoder/DLNLP/Assignment2/solution.ipynb#X24sZmlsZQ%3D%3D?line=24'>25</a>\u001b[0m \u001b[39mdef\u001b[39;00m \u001b[39mforward\u001b[39m(\u001b[39mself\u001b[39m,x : torch\u001b[39m.\u001b[39mTensor,xlen \u001b[39m=\u001b[39m \u001b[39mNone\u001b[39;00m):\n\u001b[1;32m     <a href='vscode-notebook-cell:/Users/depressedcoder/DLNLP/Assignment2/solution.ipynb#X24sZmlsZQ%3D%3D?line=26'>27</a>\u001b[0m     permuted_x \u001b[39m=\u001b[39m x\u001b[39m.\u001b[39mpermute(\u001b[39m0\u001b[39m,\u001b[39m2\u001b[39m,\u001b[39m1\u001b[39m)\n\u001b[0;32m---> <a href='vscode-notebook-cell:/Users/depressedcoder/DLNLP/Assignment2/solution.ipynb#X24sZmlsZQ%3D%3D?line=27'>28</a>\u001b[0m     x_conv_list \u001b[39m=\u001b[39m [F\u001b[39m.\u001b[39mrelu(conv(permuted_x)) \u001b[39mfor\u001b[39;00m conv \u001b[39min\u001b[39;00m \u001b[39mself\u001b[39m\u001b[39m.\u001b[39mmodulelist]\n\u001b[1;32m     <a href='vscode-notebook-cell:/Users/depressedcoder/DLNLP/Assignment2/solution.ipynb#X24sZmlsZQ%3D%3D?line=28'>29</a>\u001b[0m     x_max_pool_list \u001b[39m=\u001b[39m [F\u001b[39m.\u001b[39mmax_pool1d(x_conv,kernel_size\u001b[39m=\u001b[39mx_conv\u001b[39m.\u001b[39mshape[\u001b[39m2\u001b[39m]) \u001b[39mfor\u001b[39;00m x_conv \u001b[39min\u001b[39;00m x_conv_list]\n\u001b[1;32m     <a href='vscode-notebook-cell:/Users/depressedcoder/DLNLP/Assignment2/solution.ipynb#X24sZmlsZQ%3D%3D?line=30'>31</a>\u001b[0m     feature \u001b[39m=\u001b[39m torch\u001b[39m.\u001b[39mcat([x_pool\u001b[39m.\u001b[39msqueeze(dim\u001b[39m=\u001b[39m\u001b[39m2\u001b[39m) \u001b[39mfor\u001b[39;00m x_pool \u001b[39min\u001b[39;00m x_max_pool_list],dim\u001b[39m=\u001b[39m\u001b[39m1\u001b[39m)\n",
      "\u001b[1;32m/Users/depressedcoder/DLNLP/Assignment2/solution.ipynb Cell 19\u001b[0m in \u001b[0;36m<listcomp>\u001b[0;34m(.0)\u001b[0m\n\u001b[1;32m     <a href='vscode-notebook-cell:/Users/depressedcoder/DLNLP/Assignment2/solution.ipynb#X24sZmlsZQ%3D%3D?line=24'>25</a>\u001b[0m \u001b[39mdef\u001b[39;00m \u001b[39mforward\u001b[39m(\u001b[39mself\u001b[39m,x : torch\u001b[39m.\u001b[39mTensor,xlen \u001b[39m=\u001b[39m \u001b[39mNone\u001b[39;00m):\n\u001b[1;32m     <a href='vscode-notebook-cell:/Users/depressedcoder/DLNLP/Assignment2/solution.ipynb#X24sZmlsZQ%3D%3D?line=26'>27</a>\u001b[0m     permuted_x \u001b[39m=\u001b[39m x\u001b[39m.\u001b[39mpermute(\u001b[39m0\u001b[39m,\u001b[39m2\u001b[39m,\u001b[39m1\u001b[39m)\n\u001b[0;32m---> <a href='vscode-notebook-cell:/Users/depressedcoder/DLNLP/Assignment2/solution.ipynb#X24sZmlsZQ%3D%3D?line=27'>28</a>\u001b[0m     x_conv_list \u001b[39m=\u001b[39m [F\u001b[39m.\u001b[39mrelu(conv(permuted_x)) \u001b[39mfor\u001b[39;00m conv \u001b[39min\u001b[39;00m \u001b[39mself\u001b[39m\u001b[39m.\u001b[39mmodulelist]\n\u001b[1;32m     <a href='vscode-notebook-cell:/Users/depressedcoder/DLNLP/Assignment2/solution.ipynb#X24sZmlsZQ%3D%3D?line=28'>29</a>\u001b[0m     x_max_pool_list \u001b[39m=\u001b[39m [F\u001b[39m.\u001b[39mmax_pool1d(x_conv,kernel_size\u001b[39m=\u001b[39mx_conv\u001b[39m.\u001b[39mshape[\u001b[39m2\u001b[39m]) \u001b[39mfor\u001b[39;00m x_conv \u001b[39min\u001b[39;00m x_conv_list]\n\u001b[1;32m     <a href='vscode-notebook-cell:/Users/depressedcoder/DLNLP/Assignment2/solution.ipynb#X24sZmlsZQ%3D%3D?line=30'>31</a>\u001b[0m     feature \u001b[39m=\u001b[39m torch\u001b[39m.\u001b[39mcat([x_pool\u001b[39m.\u001b[39msqueeze(dim\u001b[39m=\u001b[39m\u001b[39m2\u001b[39m) \u001b[39mfor\u001b[39;00m x_pool \u001b[39min\u001b[39;00m x_max_pool_list],dim\u001b[39m=\u001b[39m\u001b[39m1\u001b[39m)\n",
      "File \u001b[0;32m~/environments/gymenv/lib/python3.9/site-packages/torch/nn/modules/module.py:1190\u001b[0m, in \u001b[0;36mModule._call_impl\u001b[0;34m(self, *input, **kwargs)\u001b[0m\n\u001b[1;32m   1186\u001b[0m \u001b[39m# If we don't have any hooks, we want to skip the rest of the logic in\u001b[39;00m\n\u001b[1;32m   1187\u001b[0m \u001b[39m# this function, and just call forward.\u001b[39;00m\n\u001b[1;32m   1188\u001b[0m \u001b[39mif\u001b[39;00m \u001b[39mnot\u001b[39;00m (\u001b[39mself\u001b[39m\u001b[39m.\u001b[39m_backward_hooks \u001b[39mor\u001b[39;00m \u001b[39mself\u001b[39m\u001b[39m.\u001b[39m_forward_hooks \u001b[39mor\u001b[39;00m \u001b[39mself\u001b[39m\u001b[39m.\u001b[39m_forward_pre_hooks \u001b[39mor\u001b[39;00m _global_backward_hooks\n\u001b[1;32m   1189\u001b[0m         \u001b[39mor\u001b[39;00m _global_forward_hooks \u001b[39mor\u001b[39;00m _global_forward_pre_hooks):\n\u001b[0;32m-> 1190\u001b[0m     \u001b[39mreturn\u001b[39;00m forward_call(\u001b[39m*\u001b[39;49m\u001b[39minput\u001b[39;49m, \u001b[39m*\u001b[39;49m\u001b[39m*\u001b[39;49mkwargs)\n\u001b[1;32m   1191\u001b[0m \u001b[39m# Do not call functions when jit is used\u001b[39;00m\n\u001b[1;32m   1192\u001b[0m full_backward_hooks, non_full_backward_hooks \u001b[39m=\u001b[39m [], []\n",
      "File \u001b[0;32m~/environments/gymenv/lib/python3.9/site-packages/torch/nn/modules/conv.py:313\u001b[0m, in \u001b[0;36mConv1d.forward\u001b[0;34m(self, input)\u001b[0m\n\u001b[1;32m    312\u001b[0m \u001b[39mdef\u001b[39;00m \u001b[39mforward\u001b[39m(\u001b[39mself\u001b[39m, \u001b[39minput\u001b[39m: Tensor) \u001b[39m-\u001b[39m\u001b[39m>\u001b[39m Tensor:\n\u001b[0;32m--> 313\u001b[0m     \u001b[39mreturn\u001b[39;00m \u001b[39mself\u001b[39;49m\u001b[39m.\u001b[39;49m_conv_forward(\u001b[39minput\u001b[39;49m, \u001b[39mself\u001b[39;49m\u001b[39m.\u001b[39;49mweight, \u001b[39mself\u001b[39;49m\u001b[39m.\u001b[39;49mbias)\n",
      "File \u001b[0;32m~/environments/gymenv/lib/python3.9/site-packages/torch/nn/modules/conv.py:309\u001b[0m, in \u001b[0;36mConv1d._conv_forward\u001b[0;34m(self, input, weight, bias)\u001b[0m\n\u001b[1;32m    305\u001b[0m \u001b[39mif\u001b[39;00m \u001b[39mself\u001b[39m\u001b[39m.\u001b[39mpadding_mode \u001b[39m!=\u001b[39m \u001b[39m'\u001b[39m\u001b[39mzeros\u001b[39m\u001b[39m'\u001b[39m:\n\u001b[1;32m    306\u001b[0m     \u001b[39mreturn\u001b[39;00m F\u001b[39m.\u001b[39mconv1d(F\u001b[39m.\u001b[39mpad(\u001b[39minput\u001b[39m, \u001b[39mself\u001b[39m\u001b[39m.\u001b[39m_reversed_padding_repeated_twice, mode\u001b[39m=\u001b[39m\u001b[39mself\u001b[39m\u001b[39m.\u001b[39mpadding_mode),\n\u001b[1;32m    307\u001b[0m                     weight, bias, \u001b[39mself\u001b[39m\u001b[39m.\u001b[39mstride,\n\u001b[1;32m    308\u001b[0m                     _single(\u001b[39m0\u001b[39m), \u001b[39mself\u001b[39m\u001b[39m.\u001b[39mdilation, \u001b[39mself\u001b[39m\u001b[39m.\u001b[39mgroups)\n\u001b[0;32m--> 309\u001b[0m \u001b[39mreturn\u001b[39;00m F\u001b[39m.\u001b[39;49mconv1d(\u001b[39minput\u001b[39;49m, weight, bias, \u001b[39mself\u001b[39;49m\u001b[39m.\u001b[39;49mstride,\n\u001b[1;32m    310\u001b[0m                 \u001b[39mself\u001b[39;49m\u001b[39m.\u001b[39;49mpadding, \u001b[39mself\u001b[39;49m\u001b[39m.\u001b[39;49mdilation, \u001b[39mself\u001b[39;49m\u001b[39m.\u001b[39;49mgroups)\n",
      "\u001b[0;31mKeyboardInterrupt\u001b[0m: "
     ]
    }
   ],
   "source": [
    "EPOCHS = 50\n",
    "model = CNNModel()\n",
    "criterion = nn.BCELoss()\n",
    "LR = 0.01\n",
    "optimizer = optim.Adam(dan.parameters(),lr=LR)\n",
    "\n",
    "model_name = type(model).__name__\n",
    "optimizer_name = type(optimizer).__name__\n",
    "loss_fn_name = type(criterion).__name__\n",
    "\n",
    "checkpoint_name = 'checkpoints/'+model_name+ '_' + str(EPOCHS)+\"_\"+ loss_fn_name  +\"_\"+ optimizer_name + \"_\" + str(LR) +'_.pth' \n",
    "train(model,train_dataloader,valid_dataloader,EPOCHS,criterion,optimizer,checkpoint_name,model_name,device_cpu,use_rnn=False)"
   ]
  },
  {
   "cell_type": "code",
   "execution_count": 26,
   "metadata": {},
   "outputs": [
    {
     "name": "stderr",
     "output_type": "stream",
     "text": [
      "  0%|          | 2/500 [00:29<2:01:55, 14.69s/it]\n"
     ]
    },
    {
     "ename": "KeyboardInterrupt",
     "evalue": "",
     "output_type": "error",
     "traceback": [
      "\u001b[0;31m---------------------------------------------------------------------------\u001b[0m",
      "\u001b[0;31mKeyboardInterrupt\u001b[0m                         Traceback (most recent call last)",
      "\u001b[1;32m/Users/depressedcoder/DLNLP/Assignment2/solution.ipynb Cell 20\u001b[0m in \u001b[0;36m<cell line: 18>\u001b[0;34m()\u001b[0m\n\u001b[1;32m     <a href='vscode-notebook-cell:/Users/depressedcoder/DLNLP/Assignment2/solution.ipynb#X25sZmlsZQ%3D%3D?line=14'>15</a>\u001b[0m loss_fn_name \u001b[39m=\u001b[39m \u001b[39mtype\u001b[39m(criterion)\u001b[39m.\u001b[39m\u001b[39m__name__\u001b[39m\n\u001b[1;32m     <a href='vscode-notebook-cell:/Users/depressedcoder/DLNLP/Assignment2/solution.ipynb#X25sZmlsZQ%3D%3D?line=16'>17</a>\u001b[0m checkpoint_name \u001b[39m=\u001b[39m \u001b[39m'\u001b[39m\u001b[39mcheckpoints/\u001b[39m\u001b[39m'\u001b[39m \u001b[39m+\u001b[39m model_name \u001b[39m+\u001b[39m\u001b[39m'\u001b[39m\u001b[39m_\u001b[39m\u001b[39m'\u001b[39m \u001b[39m+\u001b[39m \u001b[39mstr\u001b[39m(EPOCHS)\u001b[39m+\u001b[39m\u001b[39m'\u001b[39m\u001b[39m_\u001b[39m\u001b[39m'\u001b[39m\u001b[39m+\u001b[39m loss_fn_name  \u001b[39m+\u001b[39m\u001b[39m'\u001b[39m\u001b[39m_\u001b[39m\u001b[39m'\u001b[39m\u001b[39m+\u001b[39m optimizer_name \u001b[39m+\u001b[39m \u001b[39m'\u001b[39m\u001b[39m_\u001b[39m\u001b[39m'\u001b[39m \u001b[39m+\u001b[39m \u001b[39mstr\u001b[39m(LR) \u001b[39m+\u001b[39m \u001b[39m'\u001b[39m\u001b[39m_\u001b[39m\u001b[39m'\u001b[39m \u001b[39m+\u001b[39m \u001b[39mstr\u001b[39m(NUM_LAYERS)\u001b[39m+\u001b[39m \u001b[39m'\u001b[39m\u001b[39m_\u001b[39m\u001b[39m'\u001b[39m \u001b[39m+\u001b[39m BIDIRECTIONAL \u001b[39m+\u001b[39m\u001b[39m'\u001b[39m\u001b[39m_\u001b[39m\u001b[39m'\u001b[39m \u001b[39m+\u001b[39m \u001b[39mstr\u001b[39m(RNN_DROPOUT) \u001b[39m+\u001b[39m\u001b[39m'\u001b[39m\u001b[39m_.pth\u001b[39m\u001b[39m'\u001b[39m \n\u001b[0;32m---> <a href='vscode-notebook-cell:/Users/depressedcoder/DLNLP/Assignment2/solution.ipynb#X25sZmlsZQ%3D%3D?line=17'>18</a>\u001b[0m train(model,train_dataloader,valid_dataloader,EPOCHS,criterion,optimizer,checkpoint_name,model_name,device_cpu,use_rnn\u001b[39m=\u001b[39;49m\u001b[39mFalse\u001b[39;49;00m)\n",
      "\u001b[1;32m/Users/depressedcoder/DLNLP/Assignment2/solution.ipynb Cell 20\u001b[0m in \u001b[0;36mtrain\u001b[0;34m(model, train_dataloader, valid_dataloader, num_epochs, criterion, optimizer, check_point_name, tensorboard_name, device_train, use_rnn)\u001b[0m\n\u001b[1;32m     <a href='vscode-notebook-cell:/Users/depressedcoder/DLNLP/Assignment2/solution.ipynb#X25sZmlsZQ%3D%3D?line=29'>30</a>\u001b[0m input_reviews \u001b[39m=\u001b[39m input_reviews\u001b[39m.\u001b[39mto(device_train)\n\u001b[1;32m     <a href='vscode-notebook-cell:/Users/depressedcoder/DLNLP/Assignment2/solution.ipynb#X25sZmlsZQ%3D%3D?line=30'>31</a>\u001b[0m training_set_size \u001b[39m+\u001b[39m\u001b[39m=\u001b[39m input_reviews\u001b[39m.\u001b[39mshape[\u001b[39m0\u001b[39m]\n\u001b[0;32m---> <a href='vscode-notebook-cell:/Users/depressedcoder/DLNLP/Assignment2/solution.ipynb#X25sZmlsZQ%3D%3D?line=31'>32</a>\u001b[0m output \u001b[39m=\u001b[39m model(input_reviews,inp_lengths)\n\u001b[1;32m     <a href='vscode-notebook-cell:/Users/depressedcoder/DLNLP/Assignment2/solution.ipynb#X25sZmlsZQ%3D%3D?line=32'>33</a>\u001b[0m output \u001b[39m=\u001b[39m output\u001b[39m.\u001b[39mto(device_cpu)\n\u001b[1;32m     <a href='vscode-notebook-cell:/Users/depressedcoder/DLNLP/Assignment2/solution.ipynb#X25sZmlsZQ%3D%3D?line=33'>34</a>\u001b[0m loss \u001b[39m=\u001b[39m criterion(output,output_labels\u001b[39m.\u001b[39mfloat())\n",
      "File \u001b[0;32m~/environments/gymenv/lib/python3.9/site-packages/torch/nn/modules/module.py:1190\u001b[0m, in \u001b[0;36mModule._call_impl\u001b[0;34m(self, *input, **kwargs)\u001b[0m\n\u001b[1;32m   1186\u001b[0m \u001b[39m# If we don't have any hooks, we want to skip the rest of the logic in\u001b[39;00m\n\u001b[1;32m   1187\u001b[0m \u001b[39m# this function, and just call forward.\u001b[39;00m\n\u001b[1;32m   1188\u001b[0m \u001b[39mif\u001b[39;00m \u001b[39mnot\u001b[39;00m (\u001b[39mself\u001b[39m\u001b[39m.\u001b[39m_backward_hooks \u001b[39mor\u001b[39;00m \u001b[39mself\u001b[39m\u001b[39m.\u001b[39m_forward_hooks \u001b[39mor\u001b[39;00m \u001b[39mself\u001b[39m\u001b[39m.\u001b[39m_forward_pre_hooks \u001b[39mor\u001b[39;00m _global_backward_hooks\n\u001b[1;32m   1189\u001b[0m         \u001b[39mor\u001b[39;00m _global_forward_hooks \u001b[39mor\u001b[39;00m _global_forward_pre_hooks):\n\u001b[0;32m-> 1190\u001b[0m     \u001b[39mreturn\u001b[39;00m forward_call(\u001b[39m*\u001b[39;49m\u001b[39minput\u001b[39;49m, \u001b[39m*\u001b[39;49m\u001b[39m*\u001b[39;49mkwargs)\n\u001b[1;32m   1191\u001b[0m \u001b[39m# Do not call functions when jit is used\u001b[39;00m\n\u001b[1;32m   1192\u001b[0m full_backward_hooks, non_full_backward_hooks \u001b[39m=\u001b[39m [], []\n",
      "\u001b[1;32m/Users/depressedcoder/DLNLP/Assignment2/solution.ipynb Cell 20\u001b[0m in \u001b[0;36mEnsembleModel.forward\u001b[0;34m(self, x, x_len)\u001b[0m\n\u001b[1;32m     <a href='vscode-notebook-cell:/Users/depressedcoder/DLNLP/Assignment2/solution.ipynb#X25sZmlsZQ%3D%3D?line=30'>31</a>\u001b[0m \u001b[39mdef\u001b[39;00m \u001b[39mforward\u001b[39m(\u001b[39mself\u001b[39m,x,x_len):\n\u001b[1;32m     <a href='vscode-notebook-cell:/Users/depressedcoder/DLNLP/Assignment2/solution.ipynb#X25sZmlsZQ%3D%3D?line=32'>33</a>\u001b[0m     x \u001b[39m=\u001b[39m x\u001b[39m.\u001b[39mpermute(\u001b[39m0\u001b[39m,\u001b[39m2\u001b[39m,\u001b[39m1\u001b[39m)\n\u001b[0;32m---> <a href='vscode-notebook-cell:/Users/depressedcoder/DLNLP/Assignment2/solution.ipynb#X25sZmlsZQ%3D%3D?line=33'>34</a>\u001b[0m     conv_x \u001b[39m=\u001b[39m F\u001b[39m.\u001b[39mrelu(\u001b[39mself\u001b[39;49m\u001b[39m.\u001b[39;49mconv(x))\n\u001b[1;32m     <a href='vscode-notebook-cell:/Users/depressedcoder/DLNLP/Assignment2/solution.ipynb#X25sZmlsZQ%3D%3D?line=34'>35</a>\u001b[0m     pooled_x \u001b[39m=\u001b[39m \u001b[39mself\u001b[39m\u001b[39m.\u001b[39mpool(conv_x)\n\u001b[1;32m     <a href='vscode-notebook-cell:/Users/depressedcoder/DLNLP/Assignment2/solution.ipynb#X25sZmlsZQ%3D%3D?line=36'>37</a>\u001b[0m     new_x \u001b[39m=\u001b[39m pooled_x\u001b[39m.\u001b[39mpermute(\u001b[39m0\u001b[39m,\u001b[39m2\u001b[39m,\u001b[39m1\u001b[39m)\n",
      "File \u001b[0;32m~/environments/gymenv/lib/python3.9/site-packages/torch/nn/modules/module.py:1190\u001b[0m, in \u001b[0;36mModule._call_impl\u001b[0;34m(self, *input, **kwargs)\u001b[0m\n\u001b[1;32m   1186\u001b[0m \u001b[39m# If we don't have any hooks, we want to skip the rest of the logic in\u001b[39;00m\n\u001b[1;32m   1187\u001b[0m \u001b[39m# this function, and just call forward.\u001b[39;00m\n\u001b[1;32m   1188\u001b[0m \u001b[39mif\u001b[39;00m \u001b[39mnot\u001b[39;00m (\u001b[39mself\u001b[39m\u001b[39m.\u001b[39m_backward_hooks \u001b[39mor\u001b[39;00m \u001b[39mself\u001b[39m\u001b[39m.\u001b[39m_forward_hooks \u001b[39mor\u001b[39;00m \u001b[39mself\u001b[39m\u001b[39m.\u001b[39m_forward_pre_hooks \u001b[39mor\u001b[39;00m _global_backward_hooks\n\u001b[1;32m   1189\u001b[0m         \u001b[39mor\u001b[39;00m _global_forward_hooks \u001b[39mor\u001b[39;00m _global_forward_pre_hooks):\n\u001b[0;32m-> 1190\u001b[0m     \u001b[39mreturn\u001b[39;00m forward_call(\u001b[39m*\u001b[39;49m\u001b[39minput\u001b[39;49m, \u001b[39m*\u001b[39;49m\u001b[39m*\u001b[39;49mkwargs)\n\u001b[1;32m   1191\u001b[0m \u001b[39m# Do not call functions when jit is used\u001b[39;00m\n\u001b[1;32m   1192\u001b[0m full_backward_hooks, non_full_backward_hooks \u001b[39m=\u001b[39m [], []\n",
      "File \u001b[0;32m~/environments/gymenv/lib/python3.9/site-packages/torch/nn/modules/conv.py:313\u001b[0m, in \u001b[0;36mConv1d.forward\u001b[0;34m(self, input)\u001b[0m\n\u001b[1;32m    312\u001b[0m \u001b[39mdef\u001b[39;00m \u001b[39mforward\u001b[39m(\u001b[39mself\u001b[39m, \u001b[39minput\u001b[39m: Tensor) \u001b[39m-\u001b[39m\u001b[39m>\u001b[39m Tensor:\n\u001b[0;32m--> 313\u001b[0m     \u001b[39mreturn\u001b[39;00m \u001b[39mself\u001b[39;49m\u001b[39m.\u001b[39;49m_conv_forward(\u001b[39minput\u001b[39;49m, \u001b[39mself\u001b[39;49m\u001b[39m.\u001b[39;49mweight, \u001b[39mself\u001b[39;49m\u001b[39m.\u001b[39;49mbias)\n",
      "File \u001b[0;32m~/environments/gymenv/lib/python3.9/site-packages/torch/nn/modules/conv.py:309\u001b[0m, in \u001b[0;36mConv1d._conv_forward\u001b[0;34m(self, input, weight, bias)\u001b[0m\n\u001b[1;32m    305\u001b[0m \u001b[39mif\u001b[39;00m \u001b[39mself\u001b[39m\u001b[39m.\u001b[39mpadding_mode \u001b[39m!=\u001b[39m \u001b[39m'\u001b[39m\u001b[39mzeros\u001b[39m\u001b[39m'\u001b[39m:\n\u001b[1;32m    306\u001b[0m     \u001b[39mreturn\u001b[39;00m F\u001b[39m.\u001b[39mconv1d(F\u001b[39m.\u001b[39mpad(\u001b[39minput\u001b[39m, \u001b[39mself\u001b[39m\u001b[39m.\u001b[39m_reversed_padding_repeated_twice, mode\u001b[39m=\u001b[39m\u001b[39mself\u001b[39m\u001b[39m.\u001b[39mpadding_mode),\n\u001b[1;32m    307\u001b[0m                     weight, bias, \u001b[39mself\u001b[39m\u001b[39m.\u001b[39mstride,\n\u001b[1;32m    308\u001b[0m                     _single(\u001b[39m0\u001b[39m), \u001b[39mself\u001b[39m\u001b[39m.\u001b[39mdilation, \u001b[39mself\u001b[39m\u001b[39m.\u001b[39mgroups)\n\u001b[0;32m--> 309\u001b[0m \u001b[39mreturn\u001b[39;00m F\u001b[39m.\u001b[39;49mconv1d(\u001b[39minput\u001b[39;49m, weight, bias, \u001b[39mself\u001b[39;49m\u001b[39m.\u001b[39;49mstride,\n\u001b[1;32m    310\u001b[0m                 \u001b[39mself\u001b[39;49m\u001b[39m.\u001b[39;49mpadding, \u001b[39mself\u001b[39;49m\u001b[39m.\u001b[39;49mdilation, \u001b[39mself\u001b[39;49m\u001b[39m.\u001b[39;49mgroups)\n",
      "\u001b[0;31mKeyboardInterrupt\u001b[0m: "
     ]
    }
   ],
   "source": [
    "EPOCHS = 50\n",
    "BIDIRECTIONAL = 'T'\n",
    "NUM_LAYERS = 1\n",
    "bidirectional = True if BIDIRECTIONAL=='T' else False\n",
    "RNN_DROPOUT = 0.3 if NUM_LAYERS == 1 else 0.0\n",
    "\n",
    "\n",
    "model = EnsembleModel(rnn_bidirectional=bidirectional,rnn_num_layers=NUM_LAYERS,rnn_dropout=RNN_DROPOUT)\n",
    "criterion = nn.BCELoss()\n",
    "LR = 0.001\n",
    "optimizer = optim.Adam(dan.parameters(),lr=LR)\n",
    "\n",
    "model_name = type(model).__name__\n",
    "optimizer_name = type(optimizer).__name__\n",
    "loss_fn_name = type(criterion).__name__\n",
    "\n",
    "checkpoint_name = 'checkpoints/' + model_name +'_' + str(EPOCHS)+'_'+ loss_fn_name  +'_'+ optimizer_name + '_' + str(LR) + '_' + str(NUM_LAYERS)+ '_' + BIDIRECTIONAL +'_' + str(RNN_DROPOUT) +'_.pth' \n",
    "train(model,train_dataloader,valid_dataloader,EPOCHS,criterion,optimizer,checkpoint_name,model_name,device_cpu,use_rnn=False)"
   ]
  },
  {
   "cell_type": "markdown",
   "metadata": {},
   "source": [
    "### HyperParameter Search"
   ]
  },
  {
   "cell_type": "code",
   "execution_count": null,
   "metadata": {},
   "outputs": [],
   "source": [
    "from ray import tune\n",
    "from ray.tune import CLIReporter\n",
    "from ray.tune.schedulers import ASHAScheduler\n"
   ]
  },
  {
   "cell_type": "code",
   "execution_count": null,
   "metadata": {},
   "outputs": [],
   "source": [
    "def test(checkpoint_name,test_data,test_lengths,test_labels):\n",
    "    model_name = checkpoint_name[14:]\n",
    "    parameters =  model_name.split('_')\n",
    "    count = 0\n",
    "    model = None\n",
    "    if parameters[0]=='DAN':\n",
    "        model = DAN()\n",
    "    elif parameters[0] == 'CNNModel':\n",
    "        model = CNNModel()\n",
    "    elif parameters[0] == 'RNNModel':\n",
    "        bidir = True if parameters[7]=='T' else False\n",
    "        model = RNNModel(num_layers=int(parameters[6]),rnn_type=parameters[1],bidirectional=bidir)\n",
    "    elif parameters[0] == 'EnsembleModel':\n",
    "        bidir = True if parameters[7] =='T' else False\n",
    "        num_layers = int(parameters[6])\n",
    "        model = EnsembleModel(rnn_bidirectional=bidir,rnn_num_layers=num_layers,rnn_dropout=float(parameters[8]))\n",
    "    \n",
    "    model.load_state_dict(torch.load(checkpoint_name))\n",
    "    model.eval()\n",
    "    for i in range(len(test_data)):\n",
    "        ans = model(test_data[i],[test_lengths[i]])\n",
    "        ans = torch.round(ans)\n",
    "        if ans[0][0] == test_labels[i]:\n",
    "            count+=1\n",
    "    \n",
    "    print(\"Accuracy = \" + str(count/len(test_data)))\n"
   ]
  },
  {
   "cell_type": "code",
   "execution_count": null,
   "metadata": {},
   "outputs": [],
   "source": [
    "test_dataset_labels = []  \n",
    "test_processed_text = []\n",
    "with open(\"./Train dataset.csv\") as csvfile:\n",
    "    csvFile = csv.reader(csvfile)\n",
    "    next(csvFile)\n",
    "    for line in csvFile:\n",
    "        processed_text = preprocess_text(line[0])\n",
    "        label = 1.0 if line[1] == 'positive' else 0.0\n",
    "        test_dataset_labels.append(label)\n",
    "        test_processed_text.append(processed_text)\n",
    "\n",
    "\n",
    "\n",
    "test_word_embeddings = []\n",
    "test_sentence_lengths = []\n",
    "for text in test_processed_text:\n",
    "    embeddings,length = getWordEmbeddingforText(text)\n",
    "    test_sentence_lengths.append(length)\n",
    "    test_word_embeddings.append(embeddings.unsqueeze(0))\n",
    "\n"
   ]
  },
  {
   "cell_type": "code",
   "execution_count": null,
   "metadata": {},
   "outputs": [],
   "source": [
    "test('./checkpoints/dan_50_bce_adam_0.01',test_word_embeddings,test_sentence_lengths,test_dataset_labels)    "
   ]
  },
  {
   "cell_type": "code",
   "execution_count": null,
   "metadata": {},
   "outputs": [],
   "source": []
  },
  {
   "cell_type": "code",
   "execution_count": null,
   "metadata": {},
   "outputs": [],
   "source": []
  },
  {
   "cell_type": "code",
   "execution_count": null,
   "metadata": {},
   "outputs": [],
   "source": []
  },
  {
   "cell_type": "code",
   "execution_count": 16,
   "metadata": {},
   "outputs": [
    {
     "data": {
      "text/plain": [
       "tensor([[0.2348]], grad_fn=<SigmoidBackward0>)"
      ]
     },
     "execution_count": 16,
     "metadata": {},
     "output_type": "execute_result"
    }
   ],
   "source": [
    "embeddings,length = getWordEmbeddingforText(\"the movie is not that good.\")\n",
    "dan = DAN()\n",
    "dan.load_state_dict(torch.load('./checkpoints/DAN_50_BCELoss_Adam_0.01_.pth'))\n",
    "dan.eval()\n",
    "dan(embeddings.unsqueeze(0),[length])"
   ]
  },
  {
   "cell_type": "code",
   "execution_count": null,
   "metadata": {},
   "outputs": [],
   "source": []
  }
 ],
 "metadata": {
  "kernelspec": {
   "display_name": "Python 3.9.13 64-bit",
   "language": "python",
   "name": "python3"
  },
  "language_info": {
   "codemirror_mode": {
    "name": "ipython",
    "version": 3
   },
   "file_extension": ".py",
   "mimetype": "text/x-python",
   "name": "python",
   "nbconvert_exporter": "python",
   "pygments_lexer": "ipython3",
   "version": "3.9.13"
  },
  "orig_nbformat": 4,
  "vscode": {
   "interpreter": {
    "hash": "d1b0110cf1cb03549be737c5657a86ea4daeeb81469a7991ed915d907f3e629c"
   }
  }
 },
 "nbformat": 4,
 "nbformat_minor": 2
}
