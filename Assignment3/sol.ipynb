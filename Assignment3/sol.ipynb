{
 "cells": [
  {
   "cell_type": "code",
   "execution_count": 14,
   "metadata": {},
   "outputs": [],
   "source": [
    "import csv\n",
    "from torch.utils.data import Dataset\n",
    "import torch\n",
    "from sklearn.model_selection import train_test_split\n",
    "import numpy as np\n",
    "from bs4 import BeautifulSoup\n",
    "import string\n",
    "import spacy\n",
    "import jsonlines\n",
    "import json\n",
    "import re\n",
    "import torch.nn as nn\n",
    "from torch.nn.utils.rnn import pad_packed_sequence,pack_padded_sequence,pad_sequence\n",
    "import torch.nn.functional as F\n",
    "import torch.optim as optim\n",
    "import fasttext\n",
    "from torch.utils.data import SubsetRandomSampler,DataLoader,Subset\n",
    "from torchtext.vocab import GloVe\n",
    "from tqdm import tqdm\n",
    "from ray import tune\n",
    "from ray.tune import CLIReporter\n",
    "from ray.tune.schedulers import ASHAScheduler\n",
    "\n",
    "EMBED_DIM = 300\n",
    "HIDDEN_DIM = 128\n",
    "CNN_DIM = 256\n",
    "\n",
    "PATIENCE_PARAMETER = 4\n",
    "VALIDATION_LOSS_COMPUTE_STEP = 1\n",
    "\n",
    "\n",
    "NUM_FILTERS = 50\n",
    "\n",
    "device_cpu = torch.device('cpu')\n",
    "device_fast = torch.device('cpu')\n",
    "\n",
    "if torch.has_mps:\n",
    "    device_fast = torch.device('mps')\n",
    "elif torch.has_cuda:\n",
    "    device_fast = torch.device('cuda')\n",
    "\n",
    "#torch.manual_seed(0)\n",
    "#np.random.seed(0)\n",
    "nlp = spacy.load('en_core_web_sm')\n",
    "glove = GloVe()"
   ]
  },
  {
   "cell_type": "code",
   "execution_count": 2,
   "metadata": {},
   "outputs": [],
   "source": [
    "\n",
    "#punctuation_words = open('punct.txt','w')\n",
    "#punct_in_file = set()\n",
    "#final_words = open('words.txt','w')\n",
    "#punctuations = set(list(string.punctuation))\n",
    "#vocab_words = set()\n",
    "\n",
    "def preprocess_text(text):\n",
    "        \n",
    "    text = re.sub(r'<br /><br />',\".\",text)\n",
    "    text = BeautifulSoup(text,'lxml').get_text().strip()\n",
    "    text = text.lower()\n",
    "\n",
    "    #text = re.sub(r'^https?:\\/\\/.*[\\r\\n]*', '', text, flags=re.MULTILINE)\n",
    "    text = re.sub(r\"http\\S+\", \"\", text)\n",
    "    text = ' '.join(re.findall(r\"[\\w']+|[.,!;/\\\"]\", text))\n",
    "    \n",
    "    new_text = []\n",
    "    for word in text.split():\n",
    "        if word == '':\n",
    "            continue\n",
    "        new_text.append(word)\n",
    "        #if '.' in word and len(word)>1:\n",
    "            #if 'http' in word:\n",
    "            #    words = word.split('.')\n",
    "            #    words[1] = ''.join(words[1:])\n",
    "            #    words = [words[0],words[1]]\n",
    "            #else:\n",
    "            #    words = word.split('.')\n",
    "           \n",
    "        #    words = word.split('.')\n",
    "        #    for w in words:\n",
    "        #        new_text.append(w)\n",
    "        #else:\n",
    "    \n",
    "    text = ' '.join(new_text)\n",
    "    words = nlp(text)\n",
    "    text =  \" \".join([token.text for token in words if not token.is_punct or token.text=='/' or token.text==\"\\\"\" or token.text==\".\"]).strip()\n",
    "    #review =  \" \".join([re.sub(r'^https?:\\/\\/.*[\\r\\n]*', '', token.text, flags=re.MULTILINE) for token in words])\n",
    "    #review  = \" \".join(new_text)\n",
    "    new_words = []\n",
    "    for word in text.split(\" \"):\n",
    "        \n",
    "        #vocab_words.add(word)\n",
    "        if word == 'n\\'t':\n",
    "            if len(new_words) > 1:\n",
    "                new_words[-1] = new_words[-1] + word\n",
    "            else:\n",
    "                new_words.append(word)\n",
    "        else:\n",
    "            new_words.append(word)\n",
    "    text = \" \".join(new_words)\n",
    "    return text\n"
   ]
  },
  {
   "cell_type": "code",
   "execution_count": 3,
   "metadata": {},
   "outputs": [],
   "source": [
    "preprocessed_dataset = []\n",
    "train_dataset_labels = []\n",
    "with open('processed_dataset.jsonl',encoding='utf-8') as f:\n",
    "    for line in f:\n",
    "        sample = json.loads(line)\n",
    "        train_dataset_labels.append(sample['label'])\n",
    "        preprocessed_dataset.append(sample)\n",
    "train_dataset_labels = np.array(train_dataset_labels)\n"
   ]
  },
  {
   "cell_type": "code",
   "execution_count": 4,
   "metadata": {},
   "outputs": [],
   "source": [
    "def getWordEmbeddingforText(text,glove=glove):\n",
    "    \n",
    "    length = 0\n",
    "    words = []\n",
    "    for word in text.split(' '):\n",
    "        length+=1\n",
    "        word_embedding = glove[word]\n",
    "        words.append(word_embedding)\n",
    "\n",
    "    return torch.stack(words),length"
   ]
  },
  {
   "cell_type": "code",
   "execution_count": 13,
   "metadata": {},
   "outputs": [
    {
     "data": {
      "text/plain": [
       "torch.Size([2, 6, 300])"
      ]
     },
     "execution_count": 13,
     "metadata": {},
     "output_type": "execute_result"
    }
   ],
   "source": [
    "def review_to_embed(review,glove=glove):\n",
    "    \n",
    "    sentences = review.split(\".\")\n",
    "    sentence_lengths = []\n",
    "    review_embeddings = []\n",
    "    num_sentences = 0\n",
    "\n",
    "    for sentence in sentences:\n",
    "        sentence = sentence.strip()\n",
    "        num_sentences += 1\n",
    "        sentence_word_embeddings,sentence_length = getWordEmbeddingforText(sentence,glove)\n",
    "        sentence_lengths.append(sentence_length)\n",
    "        review_embeddings.append(sentence_word_embeddings)\n",
    "\n",
    "    return torch.nn.utils.rnn.pad_sequence(review_embeddings,batch_first=True),sentence_lengths,num_sentences\n"
   ]
  },
  {
   "cell_type": "code",
   "execution_count": 16,
   "metadata": {},
   "outputs": [],
   "source": [
    "class DataSet(Dataset):\n",
    "    \n",
    "    def __init__(self,reviews):\n",
    "        super().__init__()\n",
    "        self.reviews = reviews\n",
    "        \n",
    "\n",
    "    def __len__(self):\n",
    "        return len(self.reviews)\n",
    "\n",
    "    def __getitem__(self, index):\n",
    "        return self.reviews[index]"
   ]
  },
  {
   "cell_type": "code",
   "execution_count": null,
   "metadata": {},
   "outputs": [],
   "source": [
    "def collate_function(batch_data):\n",
    "    \n",
    "    inputs = [b['text'] for b in batch_data]\n",
    "    lengths = [b['length'] for b in batch_data]\n",
    "    labels = torch.tensor([b['label'] for b in batch_data])\n",
    "\n",
    "    labels = labels.unsqueeze(1)\n",
    "    inputs = pad_sequence(inputs,batch_first=True)\n",
    "    return  {'input' : inputs , 'lengths': lengths , 'labels' : labels }"
   ]
  },
  {
   "cell_type": "code",
   "execution_count": 27,
   "metadata": {},
   "outputs": [
    {
     "data": {
      "text/plain": [
       "tensor([[0.5052],\n",
       "        [0.4717],\n",
       "        [0.5159],\n",
       "        [0.5036],\n",
       "        [0.5055],\n",
       "        [0.4910],\n",
       "        [0.4892],\n",
       "        [0.5035],\n",
       "        [0.5073],\n",
       "        [0.5042],\n",
       "        [0.5065],\n",
       "        [0.5107]], grad_fn=<SigmoidBackward0>)"
      ]
     },
     "execution_count": 27,
     "metadata": {},
     "output_type": "execute_result"
    }
   ],
   "source": [
    "\n",
    "\n",
    "\n",
    "import torch.nn.functional as F\n",
    "class Network(nn.Module):\n",
    "    \n",
    "    def __init__(self,EMBED_DIM,CNN_DIM,HIDDEN_DIM):\n",
    "        super().__init__()\n",
    "        self.rnn = nn.GRU(input_size = CNN_DIM,hidden_size = HIDDEN_DIM, batch_first = True)\n",
    "        self.cnn = nn.Conv1d(in_channels=EMBED_DIM,out_channels=CNN_DIM,kernel_size=3)\n",
    "        self.fc = nn.Linear(HIDDEN_DIM,1)\n",
    "\n",
    "\n",
    "    def forward(self,inp : torch.Tensor):\n",
    "\n",
    "        ## inp  = (batch_size,max_sent_length,max_word_length,embed_dim)\n",
    "\n",
    "        outputs = []\n",
    "        \n",
    "        for i in range(inp.shape[1]):\n",
    "            current_inp = inp[:,i,:,:]\n",
    "            current_inp = torch.permute(current_inp,(0,2,1))\n",
    "            current_output = self.cnn(current_inp)\n",
    "            current_output = F.max_pool1d(current_output,kernel_size = current_output.shape[2]).squeeze()\n",
    "            outputs.append(current_output)\n",
    "        \n",
    "        #print(len(outputs))\n",
    "        #print(outputs[0].shape)\n",
    "        lstm_in = torch.stack(outputs,dim=1)\n",
    "        \n",
    "        lstm_hidd,lstm_out = self.rnn(lstm_in)\n",
    "        lstm_out = lstm_out.squeeze()\n",
    "        out = self.fc(lstm_out)\n",
    "        return nn.Sigmoid()(out)\n",
    "        #out = self.cnn(inp)\n",
    "        #return out\n",
    "\n",
    "\n",
    "h = torch.randn((12,14,40,60))\n",
    "j = Network(60,40,30)\n",
    "j(h)\n"
   ]
  },
  {
   "cell_type": "code",
   "execution_count": 28,
   "metadata": {},
   "outputs": [
    {
     "name": "stdout",
     "output_type": "stream",
     "text": [
      "tensor([[1.],\n",
      "        [0.],\n",
      "        [0.],\n",
      "        [1.],\n",
      "        [1.],\n",
      "        [0.],\n",
      "        [0.],\n",
      "        [0.],\n",
      "        [0.],\n",
      "        [0.],\n",
      "        [0.],\n",
      "        [0.]])\n"
     ]
    }
   ],
   "source": [
    "random_prob = 0.5*torch.ones((12,1))\n",
    "true_labels = torch.bernoulli(random_prob)\n",
    "print(true_labels)"
   ]
  },
  {
   "cell_type": "code",
   "execution_count": 29,
   "metadata": {},
   "outputs": [
    {
     "data": {
      "text/plain": [
       "Network(\n",
       "  (rnn): GRU(40, 30, batch_first=True)\n",
       "  (cnn): Conv1d(60, 40, kernel_size=(3,), stride=(1,))\n",
       "  (fc): Linear(in_features=30, out_features=1, bias=True)\n",
       ")"
      ]
     },
     "execution_count": 29,
     "metadata": {},
     "output_type": "execute_result"
    }
   ],
   "source": [
    "import torch.optim as optim\n",
    "\n",
    "\n",
    "crit = nn.BCELoss()\n",
    "optimizer =optim.Adam(j.parameters(),lr = 0.01)\n",
    "j.train()"
   ]
  },
  {
   "cell_type": "code",
   "execution_count": 62,
   "metadata": {},
   "outputs": [
    {
     "name": "stdout",
     "output_type": "stream",
     "text": [
      "0.008538435213267803\n"
     ]
    }
   ],
   "source": [
    "optimizer.zero_grad()\n",
    "pred_out = j(h)\n",
    "loss = crit(pred_out,true_labels)\n",
    "print(loss.item())\n",
    "loss.backward()\n",
    "optimizer.step()"
   ]
  },
  {
   "cell_type": "code",
   "execution_count": 64,
   "metadata": {},
   "outputs": [
    {
     "ename": "RuntimeError",
     "evalue": "The size of tensor a (30) must match the size of tensor b (27) at non-singleton dimension 1",
     "output_type": "error",
     "traceback": [
      "\u001b[1;31m---------------------------------------------------------------------------\u001b[0m",
      "\u001b[1;31mRuntimeError\u001b[0m                              Traceback (most recent call last)",
      "\u001b[1;32mc:\\Users\\Vivitsu329\\Documents\\GitHub\\Deep_Learning_For_NLP_IISC\\Assignment3\\sol.ipynb Cell 6\u001b[0m in \u001b[0;36m<cell line: 4>\u001b[1;34m()\u001b[0m\n\u001b[0;32m      <a href='vscode-notebook-cell:/c%3A/Users/Vivitsu329/Documents/GitHub/Deep_Learning_For_NLP_IISC/Assignment3/sol.ipynb#W5sZmlsZQ%3D%3D?line=0'>1</a>\u001b[0m i1 \u001b[39m=\u001b[39m torch\u001b[39m.\u001b[39mrandn((\u001b[39m12\u001b[39m,\u001b[39m30\u001b[39m,\u001b[39m50\u001b[39m))\n\u001b[0;32m      <a href='vscode-notebook-cell:/c%3A/Users/Vivitsu329/Documents/GitHub/Deep_Learning_For_NLP_IISC/Assignment3/sol.ipynb#W5sZmlsZQ%3D%3D?line=1'>2</a>\u001b[0m i2 \u001b[39m=\u001b[39m torch\u001b[39m.\u001b[39mrandn((\u001b[39m11\u001b[39m,\u001b[39m27\u001b[39m,\u001b[39m50\u001b[39m))\n\u001b[1;32m----> <a href='vscode-notebook-cell:/c%3A/Users/Vivitsu329/Documents/GitHub/Deep_Learning_For_NLP_IISC/Assignment3/sol.ipynb#W5sZmlsZQ%3D%3D?line=3'>4</a>\u001b[0m final_out \u001b[39m=\u001b[39m torch\u001b[39m.\u001b[39;49mnn\u001b[39m.\u001b[39;49mutils\u001b[39m.\u001b[39;49mrnn\u001b[39m.\u001b[39;49mpad_sequence([i1,i2])\n",
      "File \u001b[1;32mc:\\Users\\Vivitsu329\\Documents\\environments\\nlpenv\\lib\\site-packages\\torch\\nn\\utils\\rnn.py:396\u001b[0m, in \u001b[0;36mpad_sequence\u001b[1;34m(sequences, batch_first, padding_value)\u001b[0m\n\u001b[0;32m    392\u001b[0m         sequences \u001b[39m=\u001b[39m sequences\u001b[39m.\u001b[39munbind(\u001b[39m0\u001b[39m)\n\u001b[0;32m    394\u001b[0m \u001b[39m# assuming trailing dimensions and type of all the Tensors\u001b[39;00m\n\u001b[0;32m    395\u001b[0m \u001b[39m# in sequences are same and fetching those from sequences[0]\u001b[39;00m\n\u001b[1;32m--> 396\u001b[0m \u001b[39mreturn\u001b[39;00m torch\u001b[39m.\u001b[39;49m_C\u001b[39m.\u001b[39;49m_nn\u001b[39m.\u001b[39;49mpad_sequence(sequences, batch_first, padding_value)\n",
      "\u001b[1;31mRuntimeError\u001b[0m: The size of tensor a (30) must match the size of tensor b (27) at non-singleton dimension 1"
     ]
    }
   ],
   "source": [
    "\n",
    "pad = nn.ConstantPad2d(())\n",
    "i2 = torch.randn((11,27,50))\n",
    "\n",
    "\n",
    "final_out = torch.nn.utils.rnn.pad_sequence([i1,i2],batch_first=True)"
   ]
  },
  {
   "cell_type": "code",
   "execution_count": 75,
   "metadata": {},
   "outputs": [
    {
     "data": {
      "text/plain": [
       "tensor([[[ 0.2576, -1.4110, -3.0002,  1.0355,  1.4575],\n",
       "         [ 1.9863, -0.6973,  0.2124,  0.2277,  0.0504],\n",
       "         [-0.6911,  0.6065,  1.6002, -1.1386,  0.5833]],\n",
       "\n",
       "        [[-0.1150, -0.1750,  0.2525,  0.1081, -0.0693],\n",
       "         [ 0.3150,  0.8368, -0.0991, -0.0759, -0.4504],\n",
       "         [ 0.6217, -0.9792, -1.6855,  1.4562,  0.3847]]])"
      ]
     },
     "execution_count": 75,
     "metadata": {},
     "output_type": "execute_result"
    }
   ],
   "source": [
    "g = torch.randn((2,3,5))\n",
    "q = torch.permute(g,(2,0,1))\n",
    "g"
   ]
  },
  {
   "cell_type": "code",
   "execution_count": 76,
   "metadata": {},
   "outputs": [
    {
     "data": {
      "text/plain": [
       "tensor([[[ 0.2576,  1.9863, -0.6911],\n",
       "         [-0.1150,  0.3150,  0.6217]],\n",
       "\n",
       "        [[-1.4110, -0.6973,  0.6065],\n",
       "         [-0.1750,  0.8368, -0.9792]],\n",
       "\n",
       "        [[-3.0002,  0.2124,  1.6002],\n",
       "         [ 0.2525, -0.0991, -1.6855]],\n",
       "\n",
       "        [[ 1.0355,  0.2277, -1.1386],\n",
       "         [ 0.1081, -0.0759,  1.4562]],\n",
       "\n",
       "        [[ 1.4575,  0.0504,  0.5833],\n",
       "         [-0.0693, -0.4504,  0.3847]]])"
      ]
     },
     "execution_count": 76,
     "metadata": {},
     "output_type": "execute_result"
    }
   ],
   "source": [
    "q"
   ]
  },
  {
   "cell_type": "code",
   "execution_count": 77,
   "metadata": {},
   "outputs": [],
   "source": [
    "i = torch.nn.functional.pad(q,(0,3,0,2))"
   ]
  },
  {
   "cell_type": "code",
   "execution_count": 78,
   "metadata": {},
   "outputs": [],
   "source": [
    "i = torch.permute(i,(1,2,0))"
   ]
  },
  {
   "cell_type": "code",
   "execution_count": 79,
   "metadata": {},
   "outputs": [
    {
     "data": {
      "text/plain": [
       "tensor([[[ 0.2576, -1.4110, -3.0002,  1.0355,  1.4575],\n",
       "         [ 1.9863, -0.6973,  0.2124,  0.2277,  0.0504],\n",
       "         [-0.6911,  0.6065,  1.6002, -1.1386,  0.5833],\n",
       "         [ 0.0000,  0.0000,  0.0000,  0.0000,  0.0000],\n",
       "         [ 0.0000,  0.0000,  0.0000,  0.0000,  0.0000],\n",
       "         [ 0.0000,  0.0000,  0.0000,  0.0000,  0.0000]],\n",
       "\n",
       "        [[-0.1150, -0.1750,  0.2525,  0.1081, -0.0693],\n",
       "         [ 0.3150,  0.8368, -0.0991, -0.0759, -0.4504],\n",
       "         [ 0.6217, -0.9792, -1.6855,  1.4562,  0.3847],\n",
       "         [ 0.0000,  0.0000,  0.0000,  0.0000,  0.0000],\n",
       "         [ 0.0000,  0.0000,  0.0000,  0.0000,  0.0000],\n",
       "         [ 0.0000,  0.0000,  0.0000,  0.0000,  0.0000]],\n",
       "\n",
       "        [[ 0.0000,  0.0000,  0.0000,  0.0000,  0.0000],\n",
       "         [ 0.0000,  0.0000,  0.0000,  0.0000,  0.0000],\n",
       "         [ 0.0000,  0.0000,  0.0000,  0.0000,  0.0000],\n",
       "         [ 0.0000,  0.0000,  0.0000,  0.0000,  0.0000],\n",
       "         [ 0.0000,  0.0000,  0.0000,  0.0000,  0.0000],\n",
       "         [ 0.0000,  0.0000,  0.0000,  0.0000,  0.0000]],\n",
       "\n",
       "        [[ 0.0000,  0.0000,  0.0000,  0.0000,  0.0000],\n",
       "         [ 0.0000,  0.0000,  0.0000,  0.0000,  0.0000],\n",
       "         [ 0.0000,  0.0000,  0.0000,  0.0000,  0.0000],\n",
       "         [ 0.0000,  0.0000,  0.0000,  0.0000,  0.0000],\n",
       "         [ 0.0000,  0.0000,  0.0000,  0.0000,  0.0000],\n",
       "         [ 0.0000,  0.0000,  0.0000,  0.0000,  0.0000]]])"
      ]
     },
     "execution_count": 79,
     "metadata": {},
     "output_type": "execute_result"
    }
   ],
   "source": [
    "i"
   ]
  },
  {
   "cell_type": "code",
   "execution_count": 74,
   "metadata": {},
   "outputs": [
    {
     "data": {
      "text/plain": [
       "tensor([[[ 4.8514e-02, -8.9418e-01, -7.8548e-01,  3.5751e-01],\n",
       "         [-1.2053e+00, -8.1523e-01,  8.9067e-01, -1.4337e+00],\n",
       "         [ 8.9685e-01,  1.6162e+00,  3.1155e-01, -2.1370e-01]],\n",
       "\n",
       "        [[-1.1456e+00,  1.3498e+00,  4.8107e-01,  3.2546e-01],\n",
       "         [ 7.3913e-01, -5.7459e-01, -1.0138e+00,  1.2696e+00],\n",
       "         [-1.0810e+00, -2.3811e+00,  9.7491e-01, -2.0539e+00]],\n",
       "\n",
       "        [[-1.1427e+00, -2.8126e-02, -4.5579e-01,  1.4867e+00],\n",
       "         [-3.9454e-01, -5.1207e-01,  4.7273e-01,  2.9859e-01],\n",
       "         [-9.2391e-02,  1.0780e+00, -1.2114e+00,  2.4218e+00]],\n",
       "\n",
       "        [[-1.3947e-01,  4.9323e-01, -3.3063e-01,  4.8126e-01],\n",
       "         [ 6.0514e-02, -3.6486e-01,  1.6370e+00, -4.9131e-01],\n",
       "         [ 1.8614e-01,  8.1679e-01,  2.5825e-01, -1.1861e+00]],\n",
       "\n",
       "        [[ 9.3769e-01, -3.0563e-01,  9.5881e-01, -2.6005e+00],\n",
       "         [ 6.4705e-01, -8.1550e-01,  4.2356e-01,  6.0810e-01],\n",
       "         [-4.9011e-01,  3.7321e-01,  1.4586e+00, -5.9765e-01]],\n",
       "\n",
       "        [[ 1.0451e+00,  1.1214e-01, -3.8421e-01,  1.5730e+00],\n",
       "         [ 1.5107e+00, -2.2145e-01,  1.3614e+00, -1.8556e+00],\n",
       "         [-4.2082e-01, -6.0904e-02,  7.4758e-01, -9.8998e-02]],\n",
       "\n",
       "        [[ 3.0577e-01, -1.1190e+00, -9.2371e-02, -2.2143e+00],\n",
       "         [-3.8315e-01,  4.0328e-01,  1.5698e+00,  4.0657e-01],\n",
       "         [-1.5480e+00, -3.2895e-01,  1.5014e-01, -2.2311e+00]],\n",
       "\n",
       "        [[ 1.7818e+00,  6.6711e-01, -7.6424e-01, -3.1303e-01],\n",
       "         [-4.2536e-01, -1.3430e+00, -6.9771e-04, -8.2715e-01],\n",
       "         [-1.5329e+00,  4.7453e-02, -1.3115e-01, -3.5139e-01]]])"
      ]
     },
     "execution_count": 74,
     "metadata": {},
     "output_type": "execute_result"
    }
   ],
   "source": [
    "q"
   ]
  },
  {
   "cell_type": "code",
   "execution_count": null,
   "metadata": {},
   "outputs": [],
   "source": []
  }
 ],
 "metadata": {
  "kernelspec": {
   "display_name": "Python 3.8.3 ('nlpenv')",
   "language": "python",
   "name": "python3"
  },
  "language_info": {
   "codemirror_mode": {
    "name": "ipython",
    "version": 3
   },
   "file_extension": ".py",
   "mimetype": "text/x-python",
   "name": "python",
   "nbconvert_exporter": "python",
   "pygments_lexer": "ipython3",
   "version": "3.8.3"
  },
  "orig_nbformat": 4,
  "vscode": {
   "interpreter": {
    "hash": "db937d70f0b42a9864491ccec092d177c951bc6bfc86971ae63a9e250c306d60"
   }
  }
 },
 "nbformat": 4,
 "nbformat_minor": 2
}
