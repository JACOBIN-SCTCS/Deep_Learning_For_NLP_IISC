{
 "cells": [
  {
   "cell_type": "code",
   "execution_count": 2,
   "metadata": {},
   "outputs": [],
   "source": [
    "import csv\n",
    "from torch.utils.data import Dataset\n",
    "import torch\n",
    "from sklearn.model_selection import train_test_split\n",
    "import numpy as np\n",
    "from bs4 import BeautifulSoup\n",
    "import string\n",
    "import spacy\n",
    "import jsonlines\n",
    "import json\n",
    "import re\n",
    "import torch.nn as nn\n",
    "from torch.nn.utils.rnn import pad_packed_sequence,pack_padded_sequence,pad_sequence\n",
    "import torch.nn.functional as F\n",
    "import torch.optim as optim\n",
    "import fasttext\n",
    "from torch.utils.data import SubsetRandomSampler,DataLoader,Subset\n",
    "from torchtext.vocab import GloVe\n",
    "from tqdm import tqdm\n",
    "import io\n",
    "\n",
    "\n",
    "\n",
    "#   Which Dataset to use\n",
    "#   1 = Assignment 1 Training Data\n",
    "#   2 = Assignment 2 Training Data\n",
    "\n",
    "# SENTENCE_SPLITTING_USED; whether to use the splitting of reviews into sentences.\n",
    "\n",
    "DATASET_TO_USE = 1\n",
    "SENTENCE_SPLITTING_USED = True\n",
    "\n",
    "EMBED_DIM = 300\n",
    "HIDDEN_DIM = 128\n",
    "CNN_DIM = 256\n",
    "\n",
    "PATIENCE_PARAMETER = 7\n",
    "VALIDATION_LOSS_COMPUTE_STEP = 1\n",
    "NUM_FILTERS = 50\n",
    "\n",
    "device_cpu = torch.device('cpu')\n",
    "device_fast = torch.device('cpu')\n",
    "\n",
    "FILTER_SIZES = [3]\n",
    "\n",
    "if torch.has_mps:\n",
    "    device_fast = torch.device('mps')\n",
    "elif torch.has_cuda:\n",
    "    device_fast = torch.device('cuda')\n",
    "\n",
    "#torch.manual_seed(0)\n",
    "#np.random.seed(0)\n",
    "nlp = spacy.load('en_core_web_sm')\n",
    "glove = GloVe()\n",
    "\n",
    "print(torch.cuda.is_available())"
   ]
  },
  {
   "cell_type": "code",
   "execution_count": 3,
   "metadata": {},
   "outputs": [],
   "source": [
    "def preprocess_text(text):    \n",
    "    text = re.sub(r'<br /><br />',\".\",text)\n",
    "    text = BeautifulSoup(text,'lxml').get_text().strip()\n",
    "    text = text.lower()\n",
    "    text = re.sub(r\"http\\S+\", \"\", text)\n",
    "    text = ' '.join(re.findall(r\"[\\w']+|[.,!;/\\\"]\", text))\n",
    "    \n",
    "    new_text = []\n",
    "    for word in text.split():\n",
    "        if word == '':\n",
    "            continue\n",
    "        new_text.append(word)\n",
    "    \n",
    "    text = ' '.join(new_text)\n",
    "    words = nlp(text)\n",
    "    text =  \" \".join([token.text for token in words if not token.is_punct or token.text=='/' or token.text==\"\\\"\" or token.text==\".\"]).strip()\n",
    "    new_words = []\n",
    "    for word in text.split(\" \"):\n",
    "        if word == 'n\\'t':\n",
    "            if len(new_words) > 1:\n",
    "                new_words[-1] = new_words[-1] + word\n",
    "            else:\n",
    "                new_words.append(word)\n",
    "        else:\n",
    "            new_words.append(word)\n",
    "    \n",
    "    text = \" \".join(new_words)\n",
    "    return text"
   ]
  },
  {
   "cell_type": "code",
   "execution_count": null,
   "metadata": {},
   "outputs": [],
   "source": [
    "# preprocess the training data which was given for Assignment 1\n",
    "def process_assignment1_training_data():\n",
    "    negative_reviews = io.open('./Train.neg',encoding='latin-1').readlines()\n",
    "    positive_reviews = io.open('./Train.pos',encoding='latin-1').readlines()\n",
    "    with jsonlines.open('train.jsonl',mode='w') as writer:\n",
    "\n",
    "        for review in positive_reviews:\n",
    "            processed_text = preprocess_text(review)\n",
    "            d = {'text': processed_text , 'label': 1.0}\n",
    "            writer.write(d)\n",
    "        for review in negative_reviews:\n",
    "            processed_text = preprocess_text(review)\n",
    "            d = {'text': processed_text , 'label': 0.0}\n",
    "            writer.write(d)\n",
    "\n",
    "# preprocess the training data which was given for Assignment 2\n",
    "def process_assignment2_training_data():\n",
    "    preprocessed_dataset = []\n",
    "    train_dataset_labels = []\n",
    "    with open(\"./Train dataset.csv\") as csvfile:\n",
    "        csvFile = csv.reader(csvfile)\n",
    "        next(csvFile)\n",
    "        json_writer = jsonlines.open('processed_dataset.jsonl','w')\n",
    "\n",
    "        for line in csvFile:\n",
    "            processed_text = preprocess_text(line[0])\n",
    "            label = 1.0 if line[1] == 'positive' else 0.0\n",
    "            train_dataset_labels.append(label)\n",
    "            json_writer.write({\"text\":processed_text,\"label\":label})\n",
    "            preprocessed_dataset.append({\"text\":processed_text,\"label\":label})\n",
    "    \n",
    "        json_writer.close()\n",
    "\n",
    "if DATASET_TO_USE == 1:\n",
    "    process_assignment1_training_data()\n",
    "else:\n",
    "    process_assignment2_training_data()"
   ]
  },
  {
   "cell_type": "code",
   "execution_count": 6,
   "metadata": {},
   "outputs": [
    {
     "ename": "NameError",
     "evalue": "name 'DATASET_TO_USE' is not defined",
     "output_type": "error",
     "traceback": [
      "\u001b[1;31m---------------------------------------------------------------------------\u001b[0m",
      "\u001b[1;31mNameError\u001b[0m                                 Traceback (most recent call last)",
      "\u001b[1;32mc:\\Users\\Vivitsu329\\Documents\\GitHub\\Deep_Learning_For_NLP_IISC\\Assignment3\\sol.ipynb Cell 4\u001b[0m in \u001b[0;36m<cell line: 5>\u001b[1;34m()\u001b[0m\n\u001b[0;32m      <a href='vscode-notebook-cell:/c%3A/Users/Vivitsu329/Documents/GitHub/Deep_Learning_For_NLP_IISC/Assignment3/sol.ipynb#W3sZmlsZQ%3D%3D?line=0'>1</a>\u001b[0m preprocessed_dataset \u001b[39m=\u001b[39m []\n\u001b[0;32m      <a href='vscode-notebook-cell:/c%3A/Users/Vivitsu329/Documents/GitHub/Deep_Learning_For_NLP_IISC/Assignment3/sol.ipynb#W3sZmlsZQ%3D%3D?line=1'>2</a>\u001b[0m train_dataset_labels \u001b[39m=\u001b[39m []\n\u001b[1;32m----> <a href='vscode-notebook-cell:/c%3A/Users/Vivitsu329/Documents/GitHub/Deep_Learning_For_NLP_IISC/Assignment3/sol.ipynb#W3sZmlsZQ%3D%3D?line=4'>5</a>\u001b[0m TRAIN_FILE_NAME \u001b[39m=\u001b[39m \u001b[39m'\u001b[39m\u001b[39m./train.jsonl\u001b[39m\u001b[39m'\u001b[39m \u001b[39mif\u001b[39;00m DATASET_TO_USE\u001b[39m==\u001b[39m\u001b[39m1\u001b[39m \u001b[39melse\u001b[39;00m \u001b[39m'\u001b[39m\u001b[39m./processed_dataset.jsonl\u001b[39m\u001b[39m'\u001b[39m\n\u001b[0;32m      <a href='vscode-notebook-cell:/c%3A/Users/Vivitsu329/Documents/GitHub/Deep_Learning_For_NLP_IISC/Assignment3/sol.ipynb#W3sZmlsZQ%3D%3D?line=5'>6</a>\u001b[0m \u001b[39mwith\u001b[39;00m \u001b[39mopen\u001b[39m(TRAIN_FILE_NAME ,encoding\u001b[39m=\u001b[39m\u001b[39m'\u001b[39m\u001b[39mutf-8\u001b[39m\u001b[39m'\u001b[39m) \u001b[39mas\u001b[39;00m f:\n\u001b[0;32m      <a href='vscode-notebook-cell:/c%3A/Users/Vivitsu329/Documents/GitHub/Deep_Learning_For_NLP_IISC/Assignment3/sol.ipynb#W3sZmlsZQ%3D%3D?line=6'>7</a>\u001b[0m \u001b[39m#with open('processed_dataset.jsonl',encoding='utf-8') as f:\u001b[39;00m\n\u001b[0;32m      <a href='vscode-notebook-cell:/c%3A/Users/Vivitsu329/Documents/GitHub/Deep_Learning_For_NLP_IISC/Assignment3/sol.ipynb#W3sZmlsZQ%3D%3D?line=7'>8</a>\u001b[0m     \u001b[39mfor\u001b[39;00m line \u001b[39min\u001b[39;00m f:\n",
      "\u001b[1;31mNameError\u001b[0m: name 'DATASET_TO_USE' is not defined"
     ]
    }
   ],
   "source": [
    "preprocessed_dataset = []\n",
    "train_dataset_labels = []\n",
    "\n",
    "\n",
    "TRAIN_FILE_NAME = './train.jsonl' if DATASET_TO_USE==1 else './processed_dataset.jsonl'\n",
    "\n",
    "with open(TRAIN_FILE_NAME ,encoding='utf-8') as f:\n",
    "#with open('processed_dataset.jsonl',encoding='utf-8') as f:\n",
    "    for line in f:\n",
    "        sample = json.loads(line)\n",
    "        train_dataset_labels.append(sample['label'])\n",
    "        preprocessed_dataset.append(sample)\n",
    "      \n",
    "train_dataset_labels = np.array(train_dataset_labels)"
   ]
  },
  {
   "cell_type": "code",
   "execution_count": 5,
   "metadata": {},
   "outputs": [],
   "source": [
    "def getWordEmbeddingforText(text,glove=glove):\n",
    "    length = 0\n",
    "    words = []\n",
    "    text = text.strip()\n",
    "    for word in text.split(' '):\n",
    "        length+=1\n",
    "        word_embedding = glove[word]\n",
    "        words.append(word_embedding)\n",
    "\n",
    "    # If the number of words in a sentence is below 3\n",
    "    if length < max(FILTER_SIZES):\n",
    "        words.append(torch.zeros(EMBED_DIM))\n",
    "        length+=1\n",
    "    \n",
    "    return torch.stack(words),length"
   ]
  },
  {
   "cell_type": "code",
   "execution_count": 6,
   "metadata": {},
   "outputs": [],
   "source": [
    "def review_to_embed(review,glove=glove): \n",
    "    sentences = review.split(\".\")\n",
    "    sentence_lengths = []\n",
    "    review_embeddings = []\n",
    "    num_sentences = 0\n",
    "    for sentence in sentences:\n",
    "        if sentence == '':\n",
    "            continue\n",
    "        s= sentence.strip()\n",
    "        num_sentences += 1\n",
    "        sentence_word_embeddings,sentence_length = getWordEmbeddingforText(s,glove)\n",
    "        sentence_lengths.append(sentence_length)\n",
    "        review_embeddings.append(sentence_word_embeddings)\n",
    "\n",
    "    return torch.nn.utils.rnn.pad_sequence(review_embeddings,batch_first=True),sentence_lengths,num_sentences"
   ]
  },
  {
   "cell_type": "code",
   "execution_count": 7,
   "metadata": {},
   "outputs": [],
   "source": [
    "class ReviewDataSet(Dataset):\n",
    "    \n",
    "    def __init__(self,reviews):\n",
    "        super().__init__()\n",
    "        self.reviews = reviews\n",
    "        \n",
    "    def __len__(self):\n",
    "        return len(self.reviews)\n",
    "\n",
    "    def __getitem__(self, index):\n",
    "        return self.reviews[index]"
   ]
  },
  {
   "cell_type": "code",
   "execution_count": 8,
   "metadata": {},
   "outputs": [],
   "source": [
    "processed_dataset = []\n",
    "for review in preprocessed_dataset:\n",
    "    if SENTENCE_SPLITTING_USED:\n",
    "        embeddings, sent_length ,n_sents = review_to_embed(review['text'])\n",
    "        processed_dataset.append({'review': embeddings,'sent_lengths': sent_length,'length' : n_sents,'label' : review['label']})\n",
    "    else:\n",
    "        embedding,length = getWordEmbeddingforText(review['text'])\n",
    "        processed_dataset.append({'review': embedding,'length': length,'label' : review['label']})"
   ]
  },
  {
   "cell_type": "code",
   "execution_count": 9,
   "metadata": {},
   "outputs": [
    {
     "data": {
      "text/plain": [
       "True"
      ]
     },
     "execution_count": 9,
     "metadata": {},
     "output_type": "execute_result"
    }
   ],
   "source": [
    "torch.cuda.is_available()"
   ]
  },
  {
   "cell_type": "code",
   "execution_count": 10,
   "metadata": {},
   "outputs": [],
   "source": [
    "dataset = ReviewDataSet(processed_dataset)"
   ]
  },
  {
   "cell_type": "code",
   "execution_count": 11,
   "metadata": {},
   "outputs": [],
   "source": [
    "def collate_fn_no_sentence_split(batch_data):\n",
    "    inputs = [b['review'] for b in batch_data]\n",
    "    lengths = [b['length'] for b in batch_data]\n",
    "    labels = torch.tensor([b['label'] for b in batch_data])\n",
    "\n",
    "    labels = labels.unsqueeze(1)\n",
    "    inputs = pad_sequence(inputs,batch_first=True)\n",
    "    return  {'input' : inputs , 'lengths': lengths , 'labels' : labels }\n",
    "\n",
    "\n",
    "\n",
    "def collate_function(batch_data):   \n",
    "    inputs = [b['review'] for b in batch_data]\n",
    "    sent_lengths = [ b['sent_lengths'] for b in batch_data ]\n",
    "    n_sentences = [ b['length'] for b in batch_data ]\n",
    "    \n",
    "    labels = torch.tensor([b['label'] for b in batch_data])\n",
    "\n",
    "    labels = labels.unsqueeze(1)\n",
    "    \n",
    "    max_n_sentences = max([i.shape[0] for i in inputs] )\n",
    "    max_n_words = max([i.shape[1] for i in inputs])\n",
    "\n",
    " \n",
    "    processed_inputs = []\n",
    "    for inp in inputs:\n",
    "\n",
    "        t1 = torch.permute(inp,(2,1,0))\n",
    "        t1 = torch.nn.functional.pad(t1,(0,max_n_sentences-inp.shape[0],0,max_n_words-inp.shape[1]))\n",
    "        t1 = torch.permute(t1,(2,1,0))\n",
    "        processed_inputs.append(t1)\n",
    "\n",
    "    final_inp = torch.stack(processed_inputs)\n",
    "    #inputs = pad_sequence(inputs,batch_first=True)\n",
    "    return  {'input' : final_inp , 'sent_lengths': sent_lengths , 'lengths' : n_sentences ,'labels' : labels }"
   ]
  },
  {
   "cell_type": "code",
   "execution_count": 12,
   "metadata": {},
   "outputs": [],
   "source": [
    "train_idx,valid_idx = train_test_split(np.arange(train_dataset_labels.shape[0]), \n",
    "    test_size=0.2,\n",
    "    shuffle= True,\n",
    "    stratify= train_dataset_labels,\n",
    "    random_state=0\n",
    ")\n",
    "\n",
    "train_sampler = SubsetRandomSampler(train_idx)\n",
    "valid_sampler = SubsetRandomSampler(valid_idx)\n",
    "\n",
    "\n",
    "if SENTENCE_SPLITTING_USED:\n",
    "    train_dataloader = DataLoader(dataset,16,sampler=train_sampler,collate_fn=collate_function)\n",
    "    valid_dataloader = DataLoader(dataset,16,sampler=valid_sampler,collate_fn=collate_function)\n",
    "else:\n",
    "    train_dataloader = DataLoader(dataset,64,sampler=train_sampler,collate_fn=collate_fn_no_sentence_split)\n",
    "    valid_dataloader = DataLoader(dataset,64,sampler=valid_sampler,collate_fn=collate_fn_no_sentence_split)"
   ]
  },
  {
   "cell_type": "code",
   "execution_count": 13,
   "metadata": {},
   "outputs": [
    {
     "data": {
      "text/plain": [
       "tensor([[0.5234],\n",
       "        [0.5198],\n",
       "        [0.5229],\n",
       "        [0.5133],\n",
       "        [0.5086],\n",
       "        [0.5242],\n",
       "        [0.5163],\n",
       "        [0.5377],\n",
       "        [0.5196],\n",
       "        [0.5319],\n",
       "        [0.5277],\n",
       "        [0.5291],\n",
       "        [0.5295],\n",
       "        [0.5129],\n",
       "        [0.5254],\n",
       "        [0.5222]], grad_fn=<SigmoidBackward0>)"
      ]
     },
     "execution_count": 13,
     "metadata": {},
     "output_type": "execute_result"
    }
   ],
   "source": [
    "import torch.nn.functional as F\n",
    "class EnsembleModel(nn.Module):\n",
    "    \n",
    "    def __init__(self,EMBED_DIM,CNN_DIM,HIDDEN_DIM):\n",
    "        super().__init__()\n",
    "        self.rnn = nn.GRU(input_size = CNN_DIM,hidden_size = HIDDEN_DIM, batch_first = True)\n",
    "        self.cnn = nn.Conv1d(in_channels=EMBED_DIM,out_channels=CNN_DIM,kernel_size=3)\n",
    "        self.fc = nn.Linear(HIDDEN_DIM,1)\n",
    "\n",
    "\n",
    "    def forward(self,inp : torch.Tensor,n_sents=None):\n",
    "\n",
    "        ## inp  = (batch_size,max_sent_length,max_word_length,embed_dim)\n",
    "\n",
    "        outputs = []\n",
    "      \n",
    "        \n",
    "        for i in range(inp.shape[1]):\n",
    "            current_inp = inp[:,i,:,:]\n",
    "            current_inp = torch.permute(current_inp,(0,2,1))\n",
    "            current_output = self.cnn(current_inp)\n",
    "            current_output = F.max_pool1d(current_output,kernel_size = current_output.shape[2]).squeeze(dim=2)\n",
    "            outputs.append(current_output)\n",
    "        \n",
    "        #print(len(outputs))\n",
    "        #print(outputs[0].shape)\n",
    "        lstm_in = torch.stack(outputs,dim=1)\n",
    "   \n",
    "        packed_input = pack_padded_sequence(lstm_in,n_sents,batch_first=True,enforce_sorted=False)\n",
    "        packed_output,hidden = self.rnn(packed_input)\n",
    "        output,output_lengths = pad_packed_sequence(packed_output,batch_first=True)\n",
    "\n",
    "        hidden = torch.permute(hidden,(1,0,2))\n",
    "        hidden = hidden.contiguous().view((hidden.shape[0],-1))\n",
    "\n",
    "        out = self.fc(hidden)\n",
    "        return nn.Sigmoid()(out)\n",
    "        #out = self.cnn(inp)\n",
    "        #return out\n",
    "\n",
    "batch_data = next(iter(train_dataloader))\n",
    "j = EnsembleModel(EMBED_DIM,CNN_DIM,HIDDEN_DIM)\n",
    "j(batch_data['input'],batch_data['n_sent'])"
   ]
  },
  {
   "cell_type": "code",
   "execution_count": 14,
   "metadata": {},
   "outputs": [],
   "source": [
    "import torch.nn.functional as F\n",
    "class CNNLSTMAttention(nn.Module):\n",
    "    \n",
    "    def __init__(self,EMBED_DIM,CNN_DIM,HIDDEN_DIM,bidirectional_factor = 2,fc_dropout=0.3):\n",
    "        super().__init__()\n",
    "\n",
    "        bidirectional = False\n",
    "\n",
    "        if bidirectional_factor==2:\n",
    "            bidirectional = True\n",
    "\n",
    "        self.rnn = nn.GRU(input_size = CNN_DIM,hidden_size = HIDDEN_DIM, bidirectional=bidirectional,batch_first = True)\n",
    "        self.cnn = nn.Conv1d(in_channels=EMBED_DIM,out_channels=CNN_DIM,kernel_size=3)\n",
    "        self.attention_layer = nn.Linear(bidirectional_factor* HIDDEN_DIM,1)\n",
    "        self.fc = nn.Linear(bidirectional_factor*HIDDEN_DIM,HIDDEN_DIM)\n",
    "        self.fc_dropout = nn.Dropout(fc_dropout)\n",
    "        self.out_fc = nn.Linear(HIDDEN_DIM,1)\n",
    "        self.batchnorm1d = nn.BatchNorm1d(CNN_DIM)\n",
    "\n",
    "    def forward(self,inp : torch.Tensor,n_sents=None):\n",
    "\n",
    "        ## inp  = (batch_size,max_sent_length,max_word_length,embed_dim)\n",
    "\n",
    "        outputs = []\n",
    "      \n",
    "        \n",
    "        for i in range(inp.shape[1]):\n",
    "            current_inp = inp[:,i,:,:]\n",
    "            current_inp = torch.permute(current_inp,(0,2,1))\n",
    "            current_output = self.cnn(current_inp)\n",
    "            current_output = F.max_pool1d(current_output,kernel_size = current_output.shape[2]).squeeze(dim=2)\n",
    "            outputs.append(current_output)\n",
    "        \n",
    "        #print(len(outputs))\n",
    "        #print(outputs[0].shape)\n",
    "        lstm_in = torch.stack(outputs,dim=2)\n",
    "        lstm_in = self.batchnorm1d(lstm_in)\n",
    "        lstm_in = torch.permute(lstm_in,(0,2,1))\n",
    "\n",
    "        packed_input = pack_padded_sequence(lstm_in,n_sents,batch_first=True,enforce_sorted=False)\n",
    "        packed_output,hidden = self.rnn(packed_input)\n",
    "        output,output_lengths = pad_packed_sequence(packed_output,batch_first=True)\n",
    "        attention_logs = self.attention_layer(output).squeeze(dim=2)\n",
    "        attention_score = F.softmax(attention_logs,dim=1).unsqueeze(2)\n",
    "\n",
    "        final_out = attention_score*output\n",
    "\n",
    "        averaged_vector = torch.sum(final_out,dim=1,keepdim=False)\n",
    "\n",
    "        #hidden = torch.permute(hidden,(1,0,2))\n",
    "        #hidden = hidden.contiguous().view((hidden.shape[0],-1))\n",
    "        out = self.fc_dropout(F.leaky_relu(self.fc(averaged_vector)))\n",
    "        out = self.out_fc(out)\n",
    "        return nn.Sigmoid()(out)\n",
    "        #out = self.cnn(inp)\n",
    "        #return out\n"
   ]
  },
  {
   "cell_type": "code",
   "execution_count": 15,
   "metadata": {},
   "outputs": [],
   "source": [
    "import os\n",
    "from torch.utils.tensorboard import SummaryWriter\n",
    "from datetime import  datetime\n",
    "\n",
    "def train(model,train_dataloader,valid_dataloader,num_epochs,criterion,optimizer,\n",
    "    checkpoint_name='best_model.pt',\n",
    "    device_train = device_fast,use_rnn = False,log=True):\n",
    "\n",
    "    tensorboard_name='Ensemble'\n",
    "    if log == True:\n",
    "        current_datetime = datetime.now().strftime(\"%d_%m_%Y_%H_%M_%S\")\n",
    "        tensorboard_name = tensorboard_name + \"_\" + current_datetime\n",
    "        writer = SummaryWriter('runs/' + tensorboard_name)\n",
    "    \n",
    "    \n",
    "    model = model.to(device_train)\n",
    "    clip = 0\n",
    "    if use_rnn:\n",
    "        clip = 5\n",
    "\n",
    "    best_validation_loss = 1000.0\n",
    "    valdiation_loss_not_decreased_steps = 0\n",
    "    \n",
    "    model.train()\n",
    "    for e in range(num_epochs):\n",
    "        \n",
    "        training_set_size = 0\n",
    "        training_loss = 0.0\n",
    "        model.train()\n",
    "\n",
    "        for data in tqdm(train_dataloader):\n",
    "            \n",
    "            optimizer.zero_grad()\n",
    "            if SENTENCE_SPLITTING_USED:\n",
    "                input_reviews,sent_lengths,n_sents,output_labels = data['input'], data['sent_lengths'],data['lengths'],data['labels']\n",
    "            else:\n",
    "                input_reviews,n_sents,output_labels = data['input'],data['lengths'],data['labels']\n",
    "\n",
    "            input_reviews = input_reviews.to(device_train)\n",
    "            training_set_size += input_reviews.shape[0]\n",
    "            output = model(input_reviews,n_sents)\n",
    "            output = output.to(device_cpu)\n",
    "            loss = criterion(output,output_labels.float())\n",
    "            training_loss += loss.item()\n",
    "            loss.backward()\n",
    "            if use_rnn:\n",
    "                nn.utils.clip_grad_norm_(model.parameters(),clip)\n",
    "            optimizer.step()\n",
    "        \n",
    "        current_training_loss = training_loss\n",
    "        if log==True:\n",
    "            print(\"Epoch \" + str(e) + \" Average Training Loss = \" +  str(current_training_loss))\n",
    "            writer.add_scalars(tensorboard_name + 'Training Loss vs Epoch',{'train' : current_training_loss},e)\n",
    "\n",
    "        \n",
    "        model.eval()\n",
    "        \n",
    "        if valid_dataloader is None:\n",
    "            continue\n",
    "        \n",
    "        validation_set_size  = 0 \n",
    "        if e% VALIDATION_LOSS_COMPUTE_STEP==0:\n",
    "            correct_count = 0\n",
    "            validation_loss = 0\n",
    "\n",
    "            for i,data in enumerate(valid_dataloader,0):\n",
    "                if SENTENCE_SPLITTING_USED:\n",
    "                    input_reviews,sent_lengths,n_sents,output_labels = data['input'], data['sent_lengths'],data['lengths'],data['labels']\n",
    "                else:\n",
    "                    input_reviews,n_sents,output_labels = data['input'],data['lengths'],data['labels']\n",
    "                \n",
    "                input_reviews = input_reviews.to(device_train)\n",
    "                validation_set_size += input_reviews.shape[0]\n",
    "                output = model(input_reviews,n_sents)\n",
    "                output = output.to(device_cpu)\n",
    "                loss = criterion(output,output_labels.float())\n",
    "                validation_loss += loss.item()\n",
    "                nearest_class = torch.round(output)\n",
    "\n",
    "                correct = (nearest_class == output_labels.float()).float()\n",
    "                correct_count += correct.sum()\n",
    "            correct_count = int(correct_count)\n",
    "            current_validation_accuracy = (correct_count/validation_set_size)*100\n",
    "            current_validation_loss = (1.0* validation_loss)\n",
    "            if log == True:\n",
    "                print(\"Epoch \" + str(e) + \" \" +  \"Validation Loss = \" + str(current_validation_loss) )\n",
    "                print(\"Validation Set Accuracy = \" + str((correct_count/validation_set_size)*100) )\n",
    "                writer.add_scalar(tensorboard_name + ' Validation Accuracy vs Epoch ',(correct_count/validation_set_size*100),e)\n",
    "                writer.add_scalars(tensorboard_name + 'Validation Loss vs Epoch',{'valid' : current_validation_loss},e)\n",
    "\n",
    "            \n",
    "            if log==True:\n",
    "                if current_validation_loss < best_validation_loss:\n",
    "                    valdiation_loss_not_decreased_steps = 0\n",
    "                    torch.save(model.state_dict(),checkpoint_name)\n",
    "                    best_validation_loss = current_validation_loss\n",
    "                else:\n",
    "                    valdiation_loss_not_decreased_steps +=1\n",
    "        if log == True:\n",
    "            if valdiation_loss_not_decreased_steps >= PATIENCE_PARAMETER:\n",
    "                break"
   ]
  },
  {
   "cell_type": "code",
   "execution_count": 16,
   "metadata": {},
   "outputs": [
    {
     "name": "stderr",
     "output_type": "stream",
     "text": [
      "100%|██████████| 500/500 [00:17<00:00, 28.89it/s]\n"
     ]
    },
    {
     "name": "stdout",
     "output_type": "stream",
     "text": [
      "Epoch 0 Average Training Loss = 304.7490390241146\n",
      "Epoch 0 Validation Loss = 73.76824501156807\n",
      "Validation Set Accuracy = 67.7\n"
     ]
    },
    {
     "name": "stderr",
     "output_type": "stream",
     "text": [
      "100%|██████████| 500/500 [00:10<00:00, 46.12it/s]\n"
     ]
    },
    {
     "name": "stdout",
     "output_type": "stream",
     "text": [
      "Epoch 1 Average Training Loss = 228.81198932230473\n",
      "Epoch 1 Validation Loss = 61.37838926911354\n",
      "Validation Set Accuracy = 74.9\n"
     ]
    },
    {
     "name": "stderr",
     "output_type": "stream",
     "text": [
      "100%|██████████| 500/500 [00:07<00:00, 68.15it/s]\n"
     ]
    },
    {
     "name": "stdout",
     "output_type": "stream",
     "text": [
      "Epoch 2 Average Training Loss = 176.9756709188223\n",
      "Epoch 2 Validation Loss = 61.99554416537285\n",
      "Validation Set Accuracy = 77.10000000000001\n"
     ]
    },
    {
     "name": "stderr",
     "output_type": "stream",
     "text": [
      "100%|██████████| 500/500 [00:07<00:00, 65.86it/s]\n"
     ]
    },
    {
     "name": "stdout",
     "output_type": "stream",
     "text": [
      "Epoch 3 Average Training Loss = 134.7736403569579\n",
      "Epoch 3 Validation Loss = 75.53402380645275\n",
      "Validation Set Accuracy = 76.3\n"
     ]
    },
    {
     "name": "stderr",
     "output_type": "stream",
     "text": [
      "100%|██████████| 500/500 [00:07<00:00, 64.37it/s]\n"
     ]
    },
    {
     "name": "stdout",
     "output_type": "stream",
     "text": [
      "Epoch 4 Average Training Loss = 102.94279106799513\n",
      "Epoch 4 Validation Loss = 76.19769461452961\n",
      "Validation Set Accuracy = 75.9\n"
     ]
    },
    {
     "name": "stderr",
     "output_type": "stream",
     "text": [
      "100%|██████████| 500/500 [00:07<00:00, 66.65it/s]\n"
     ]
    },
    {
     "name": "stdout",
     "output_type": "stream",
     "text": [
      "Epoch 5 Average Training Loss = 80.8386832838878\n",
      "Epoch 5 Validation Loss = 92.04014156013727\n",
      "Validation Set Accuracy = 76.44999999999999\n"
     ]
    },
    {
     "name": "stderr",
     "output_type": "stream",
     "text": [
      "100%|██████████| 500/500 [00:07<00:00, 67.66it/s]\n"
     ]
    },
    {
     "name": "stdout",
     "output_type": "stream",
     "text": [
      "Epoch 6 Average Training Loss = 60.15787902229931\n",
      "Epoch 6 Validation Loss = 106.82008984684944\n",
      "Validation Set Accuracy = 75.3\n"
     ]
    },
    {
     "name": "stderr",
     "output_type": "stream",
     "text": [
      "100%|██████████| 500/500 [00:07<00:00, 67.40it/s]\n"
     ]
    },
    {
     "name": "stdout",
     "output_type": "stream",
     "text": [
      "Epoch 7 Average Training Loss = 50.93568859464722\n",
      "Epoch 7 Validation Loss = 117.82814064621925\n",
      "Validation Set Accuracy = 75.14999999999999\n"
     ]
    },
    {
     "name": "stderr",
     "output_type": "stream",
     "text": [
      "100%|██████████| 500/500 [00:07<00:00, 66.01it/s]\n"
     ]
    },
    {
     "name": "stdout",
     "output_type": "stream",
     "text": [
      "Epoch 8 Average Training Loss = 48.31048094131984\n",
      "Epoch 8 Validation Loss = 109.44376400113106\n",
      "Validation Set Accuracy = 77.0\n"
     ]
    }
   ],
   "source": [
    "torch.cuda.empty_cache()\n",
    "\n",
    "net = CNNLSTMAttention(EMBED_DIM,CNN_DIM,HIDDEN_DIM)\n",
    "optimizer= optim.SGD(net.parameters(),lr=0.0054,momentum=0.9,nesterov=True)\n",
    "scheduler = torch.optim.lr_scheduler.CyclicLR(optimizer, base_lr=0.0054, max_lr=0.0072,step_size_up=10000)\n",
    "train(net,train_dataloader,valid_dataloader,100,nn.BCELoss(),optimizer,'first_cnn_rnn_att_adam_batch_nrom_cyclelr_bidir_0.0054.pt',device_fast,True,True)"
   ]
  },
  {
   "cell_type": "code",
   "execution_count": 17,
   "metadata": {},
   "outputs": [
    {
     "name": "stderr",
     "output_type": "stream",
     "text": [
      "  0%|          | 0/2000 [00:00<?, ?it/s]\n"
     ]
    },
    {
     "ename": "RuntimeError",
     "evalue": "CUDA out of memory. Tried to allocate 46.00 MiB (GPU 0; 2.00 GiB total capacity; 1.64 GiB already allocated; 0 bytes free; 1.70 GiB reserved in total by PyTorch) If reserved memory is >> allocated memory try setting max_split_size_mb to avoid fragmentation.  See documentation for Memory Management and PYTORCH_CUDA_ALLOC_CONF",
     "output_type": "error",
     "traceback": [
      "\u001b[1;31m---------------------------------------------------------------------------\u001b[0m",
      "\u001b[1;31mRuntimeError\u001b[0m                              Traceback (most recent call last)",
      "\u001b[1;32mc:\\Users\\Vivitsu329\\Documents\\GitHub\\Deep_Learning_For_NLP_IISC\\Assignment3\\sol.ipynb Cell 17\u001b[0m in \u001b[0;36m<cell line: 3>\u001b[1;34m()\u001b[0m\n\u001b[0;32m      <a href='vscode-notebook-cell:/c%3A/Users/Vivitsu329/Documents/GitHub/Deep_Learning_For_NLP_IISC/Assignment3/sol.ipynb#X22sZmlsZQ%3D%3D?line=0'>1</a>\u001b[0m torch\u001b[39m.\u001b[39mcuda\u001b[39m.\u001b[39mempty_cache()\n\u001b[0;32m      <a href='vscode-notebook-cell:/c%3A/Users/Vivitsu329/Documents/GitHub/Deep_Learning_For_NLP_IISC/Assignment3/sol.ipynb#X22sZmlsZQ%3D%3D?line=1'>2</a>\u001b[0m net \u001b[39m=\u001b[39m EnsembleModel(EMBED_DIM,CNN_DIM,HIDDEN_DIM)\n\u001b[1;32m----> <a href='vscode-notebook-cell:/c%3A/Users/Vivitsu329/Documents/GitHub/Deep_Learning_For_NLP_IISC/Assignment3/sol.ipynb#X22sZmlsZQ%3D%3D?line=2'>3</a>\u001b[0m train(net,train_dataloader,valid_dataloader,\u001b[39m50\u001b[39;49m,nn\u001b[39m.\u001b[39;49mBCELoss(),optim\u001b[39m.\u001b[39;49mAdam(net\u001b[39m.\u001b[39;49mparameters(),\u001b[39m0.001\u001b[39;49m),\u001b[39m'\u001b[39;49m\u001b[39mcnn_rnn_dnn_adam.pt\u001b[39;49m\u001b[39m'\u001b[39;49m,device_fast,\u001b[39mTrue\u001b[39;49;00m,\u001b[39mTrue\u001b[39;49;00m)\n",
      "\u001b[1;32mc:\\Users\\Vivitsu329\\Documents\\GitHub\\Deep_Learning_For_NLP_IISC\\Assignment3\\sol.ipynb Cell 17\u001b[0m in \u001b[0;36mtrain\u001b[1;34m(model, train_dataloader, valid_dataloader, num_epochs, criterion, optimizer, checkpoint_name, device_train, use_rnn, log)\u001b[0m\n\u001b[0;32m     <a href='vscode-notebook-cell:/c%3A/Users/Vivitsu329/Documents/GitHub/Deep_Learning_For_NLP_IISC/Assignment3/sol.ipynb#X22sZmlsZQ%3D%3D?line=32'>33</a>\u001b[0m optimizer\u001b[39m.\u001b[39mzero_grad()\n\u001b[0;32m     <a href='vscode-notebook-cell:/c%3A/Users/Vivitsu329/Documents/GitHub/Deep_Learning_For_NLP_IISC/Assignment3/sol.ipynb#X22sZmlsZQ%3D%3D?line=33'>34</a>\u001b[0m input_reviews,sent_lengths,n_sents,output_labels \u001b[39m=\u001b[39m data[\u001b[39m'\u001b[39m\u001b[39minput\u001b[39m\u001b[39m'\u001b[39m], data[\u001b[39m'\u001b[39m\u001b[39msent_lengths\u001b[39m\u001b[39m'\u001b[39m],data[\u001b[39m'\u001b[39m\u001b[39mn_sent\u001b[39m\u001b[39m'\u001b[39m],data[\u001b[39m'\u001b[39m\u001b[39mlabels\u001b[39m\u001b[39m'\u001b[39m]\n\u001b[1;32m---> <a href='vscode-notebook-cell:/c%3A/Users/Vivitsu329/Documents/GitHub/Deep_Learning_For_NLP_IISC/Assignment3/sol.ipynb#X22sZmlsZQ%3D%3D?line=34'>35</a>\u001b[0m input_reviews \u001b[39m=\u001b[39m input_reviews\u001b[39m.\u001b[39;49mto(device_train)\n\u001b[0;32m     <a href='vscode-notebook-cell:/c%3A/Users/Vivitsu329/Documents/GitHub/Deep_Learning_For_NLP_IISC/Assignment3/sol.ipynb#X22sZmlsZQ%3D%3D?line=35'>36</a>\u001b[0m training_set_size \u001b[39m+\u001b[39m\u001b[39m=\u001b[39m input_reviews\u001b[39m.\u001b[39mshape[\u001b[39m0\u001b[39m]\n\u001b[0;32m     <a href='vscode-notebook-cell:/c%3A/Users/Vivitsu329/Documents/GitHub/Deep_Learning_For_NLP_IISC/Assignment3/sol.ipynb#X22sZmlsZQ%3D%3D?line=36'>37</a>\u001b[0m output \u001b[39m=\u001b[39m model(input_reviews,n_sents)\n",
      "\u001b[1;31mRuntimeError\u001b[0m: CUDA out of memory. Tried to allocate 46.00 MiB (GPU 0; 2.00 GiB total capacity; 1.64 GiB already allocated; 0 bytes free; 1.70 GiB reserved in total by PyTorch) If reserved memory is >> allocated memory try setting max_split_size_mb to avoid fragmentation.  See documentation for Memory Management and PYTORCH_CUDA_ALLOC_CONF"
     ]
    }
   ],
   "source": [
    "torch.cuda.empty_cache()\n",
    "net = EnsembleModel(EMBED_DIM,CNN_DIM,HIDDEN_DIM)\n",
    "train(net,train_dataloader,valid_dataloader,50,nn.BCELoss(),optim.Adam(net.parameters(),0.001),'cnn_rnn_dnn_adam.pt',device_fast,True,True)"
   ]
  },
  {
   "cell_type": "code",
   "execution_count": null,
   "metadata": {},
   "outputs": [],
   "source": []
  },
  {
   "cell_type": "code",
   "execution_count": null,
   "metadata": {},
   "outputs": [],
   "source": []
  },
  {
   "cell_type": "code",
   "execution_count": null,
   "metadata": {},
   "outputs": [],
   "source": []
  },
  {
   "cell_type": "code",
   "execution_count": null,
   "metadata": {},
   "outputs": [],
   "source": []
  },
  {
   "cell_type": "code",
   "execution_count": null,
   "metadata": {},
   "outputs": [],
   "source": []
  },
  {
   "cell_type": "code",
   "execution_count": 19,
   "metadata": {},
   "outputs": [],
   "source": [
    "def test(model_name,test_data,test_lengths,test_labels):\n",
    "    model = CNNLSTMAttention(EMBED_DIM,CNN_DIM,HIDDEN_DIM)\n",
    "    model.load_state_dict(torch.load(model_name,map_location=device_cpu))\n",
    "    model.eval()\n",
    "    count = 0\n",
    "    for i in range(len(test_data)):\n",
    "        ans = model(test_data[i],[test_lengths[i]])\n",
    "        ans = torch.round(ans)\n",
    "        if ans[0][0] == test_labels[i]:\n",
    "            count+=1\n",
    "    \n",
    "    print(\"Accuracy = \" + str((count/len(test_data)*100)))\n"
   ]
  },
  {
   "cell_type": "code",
   "execution_count": 19,
   "metadata": {},
   "outputs": [
    {
     "name": "stderr",
     "output_type": "stream",
     "text": [
      "c:\\Users\\Vivitsu329\\Documents\\environments\\nlpenv\\lib\\site-packages\\bs4\\__init__.py:435: MarkupResemblesLocatorWarning: The input looks more like a filename than markup. You may want to open this file and pass the filehandle into Beautiful Soup.\n",
      "  warnings.warn(\n"
     ]
    }
   ],
   "source": [
    "test_word_embeddings = [] \n",
    "test_sentence_lengths = []\n",
    "test_dataset_labels = []  \n",
    "\n",
    "def getAssignment2TestData():\n",
    "    test_processed_text = []\n",
    "    with open(\"./E0334 Assignment2 Test Dataset.csv\",encoding='utf-8') as csvfile:\n",
    "        csvFile = csv.reader(csvfile)\n",
    "        next(csvFile)\n",
    "        for line in csvFile:\n",
    "            processed_text = preprocess_text(line[0])\n",
    "            label = 1.0 if line[1] == 'positive' else 0.0\n",
    "            test_dataset_labels.append(label)\n",
    "            test_processed_text.append(processed_text)\n",
    "\n",
    "    for i in range(len(test_processed_text)):\n",
    "        if SENTENCE_SPLITTING_USED:\n",
    "            current_embeddings,current_sent_lengths,current_n_sent = review_to_embed(test_processed_text[i]) \n",
    "        else:\n",
    "            current_embeddings,current_n_sent = getWordEmbeddingforText(test_processed_text[i])\n",
    "\n",
    "        test_word_embeddings.append(current_embeddings.clone().detach().unsqueeze(0))\n",
    "        test_sentence_lengths.append(current_n_sent)\n",
    "\n",
    "\n",
    "def getAssignment1TestData():\n",
    "    \n",
    "    correct_count = 0\n",
    "\n",
    "    reviews = open('./TestData','r',encoding='latin-1').readlines()\n",
    "    for i in range(len(reviews)):\n",
    "        r = reviews[i]\n",
    "        reviews[i] = preprocess_text(r)\n",
    "\n",
    "        if SENTENCE_SPLITTING_USED:\n",
    "            current_embeddings,current_sent_lengths,current_n_sent = review_to_embed(reviews[i]) \n",
    "        else:\n",
    "            current_embeddings,current_n_sent = getWordEmbeddingforText(reviews[i])\n",
    "      \n",
    "        if (i<331):\n",
    "            test_dataset_labels.append(1.0)\n",
    "        else:\n",
    "            test_dataset_labels.append(0.0)\n",
    "        test_word_embeddings.append(current_embeddings.clone().detach().unsqueeze(0))\n",
    "        test_sentence_lengths.append(current_n_sent)"
   ]
  },
  {
   "cell_type": "code",
   "execution_count": 21,
   "metadata": {},
   "outputs": [
    {
     "name": "stdout",
     "output_type": "stream",
     "text": [
      "Accuracy = 89.78897889788979\n"
     ]
    }
   ],
   "source": [
    "test('./cnn_rnn_att_adam_batch_nrom_cyclelr_bidir_0.0054.pt',test_word_embeddings,test_sentence_lengths,test_dataset_labels)"
   ]
  },
  {
   "cell_type": "code",
   "execution_count": 22,
   "metadata": {},
   "outputs": [
    {
     "name": "stdout",
     "output_type": "stream",
     "text": [
      "Accuracy = 80.76923076923077\n"
     ]
    }
   ],
   "source": [
    "test('./first_cnn_rnn_att_adam_batch_nrom_cyclelr_bidir_0.0054.pt',test_word_embeddings,test_sentence_lengths,test_dataset_labels)"
   ]
  }
 ],
 "metadata": {
  "kernelspec": {
   "display_name": "Python 3.8.3 ('nlpenv')",
   "language": "python",
   "name": "python3"
  },
  "language_info": {
   "codemirror_mode": {
    "name": "ipython",
    "version": 3
   },
   "file_extension": ".py",
   "mimetype": "text/x-python",
   "name": "python",
   "nbconvert_exporter": "python",
   "pygments_lexer": "ipython3",
   "version": "3.8.3"
  },
  "orig_nbformat": 4,
  "vscode": {
   "interpreter": {
    "hash": "db937d70f0b42a9864491ccec092d177c951bc6bfc86971ae63a9e250c306d60"
   }
  }
 },
 "nbformat": 4,
 "nbformat_minor": 2
}
