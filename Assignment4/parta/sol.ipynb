{
 "cells": [
  {
   "cell_type": "code",
   "execution_count": 53,
   "metadata": {},
   "outputs": [],
   "source": [
    "import torch\n",
    "import torch.nn as nn\n",
    "import torch.nn.functional as F\n",
    "import random\n",
    "from torchtext.vocab import GloVe\n",
    "from torch.utils.data import Dataset\n",
    "from torch.nn.utils.rnn import pad_sequence\n",
    "from sklearn.model_selection import train_test_split\n",
    "import numpy as np\n",
    "from torch.utils.data import SubsetRandomSampler,DataLoader\n",
    "import torch.optim as optim\n",
    "import tqdm\n",
    "\n",
    "\n",
    "EMBED_DIM = 300 \n",
    "ENC_BIDIRECTIONAL = True\n",
    "ENC_BIDIRECTIONAL_FACTOR = 2 if ENC_BIDIRECTIONAL else 1\n",
    "ENC_HIDDEN_DIM = 256\n",
    "DEC_HIDDEN_DIM  = 256\n",
    "ENC_OUTPUT_DIM =  DEC_HIDDEN_DIM\n",
    "DEC_EMBED_DIM = 300\n",
    "\n",
    "BATCH_SIZE = 64\n",
    "\n",
    "device_cpu = torch.device('cpu')\n",
    "device_fast = torch.device('cpu')\n",
    "\n",
    "if torch.has_mps:\n",
    "    device_fast = torch.device('mps')\n",
    "elif torch.has_cuda:\n",
    "    device_fast = torch.device('cuda')\n",
    "\n",
    "\n",
    "output_vocab = {}\n",
    "for i in range(0,10):\n",
    "    output_vocab[str(i)] = i\n",
    "output_vocab['-'] = 10\n",
    "output_vocab['<sos>'] = 11\n",
    "output_vocab['<eos>'] = 12\n",
    "\n",
    "glove = GloVe()"
   ]
  },
  {
   "cell_type": "code",
   "execution_count": 54,
   "metadata": {},
   "outputs": [],
   "source": [
    "\n",
    "def get_training_data(filename='./Assignment4aDataset.txt',glove=glove):\n",
    "    f = open(filename,'r')\n",
    "    dataset = []\n",
    "    for line in f.readlines():       \n",
    "         \n",
    "        nl_date , out_date = line.split(',')\n",
    "        nl_date = nl_date.replace(\"\\'\",\"\").strip()\n",
    "        out_date = out_date.replace(\"\\'\",\"\").strip()\n",
    "\n",
    "        split_on_slash = nl_date.split(\"/\")\n",
    "        nl_date = \" / \".join(split_on_slash)\n",
    "\n",
    "        embeddings = []\n",
    "        for word in nl_date.split(' '):\n",
    "            embeddings.append(glove[word])\n",
    "        \n",
    "        current_inp_length = len(embeddings)\n",
    "        embeddings = torch.stack(embeddings)\n",
    "\n",
    "        target = []\n",
    "        target.append(output_vocab['<sos>'])\n",
    "\n",
    "        for character in list(out_date):\n",
    "            target.append(output_vocab[character])\n",
    "        \n",
    "        target.append(output_vocab['<eos>'])\n",
    "\n",
    "        dataset.append({'in' : embeddings,'in_length' : current_inp_length,'out' : target})\n",
    "    return dataset\n",
    "\n",
    "\n",
    "class TranslationDataset(Dataset):\n",
    "    def __init__(self,data):\n",
    "        super().__init__()\n",
    "        self.data = data\n",
    "\n",
    "\n",
    "    def __getitem__(self, index):\n",
    "        return self.data[index]\n",
    "\n",
    "    def __len__(self):\n",
    "        return len(self.data)\n",
    "\n",
    "\n",
    "def collate_function(batch_data):\n",
    "\n",
    "\n",
    "    inputs = [b['in'] for b in batch_data]\n",
    "    in_lengths = [b['in_length'] for b in batch_data]\n",
    "    out = torch.tensor([b['out'] for b in batch_data])\n",
    "\n",
    "    inputs = pad_sequence(inputs,batch_first=True)\n",
    "\n",
    "    return {'src': inputs, 'src_length' : in_lengths, 'trg' : out}\n",
    "\n",
    "\n"
   ]
  },
  {
   "cell_type": "code",
   "execution_count": 55,
   "metadata": {},
   "outputs": [],
   "source": [
    "train_dataset = TranslationDataset(get_training_data())\n",
    "\n",
    "train_idx,valid_idx = train_test_split(np.arange(len(train_dataset)), \n",
    "    test_size=0.2,\n",
    "    shuffle= True,\n",
    "    random_state=0\n",
    ")\n",
    "\n",
    "train_sampler = SubsetRandomSampler(train_idx)\n",
    "valid_sampler = SubsetRandomSampler(valid_idx)\n",
    "train_dataloader = DataLoader(train_dataset,BATCH_SIZE,sampler=train_sampler,collate_fn=collate_function)\n",
    "valid_dataloader = DataLoader(train_dataset,BATCH_SIZE,sampler=valid_sampler,collate_fn=collate_function)"
   ]
  },
  {
   "cell_type": "code",
   "execution_count": 56,
   "metadata": {},
   "outputs": [],
   "source": [
    "class Encoder(nn.Module):\n",
    "\n",
    "    def __init__(self,embed_dim = EMBED_DIM,enc_hidden_dim = ENC_HIDDEN_DIM,enc_output_dim = ENC_OUTPUT_DIM,NUM_LAYERS=1,enc_bidirectional=ENC_BIDIRECTIONAL,dropout=0.3):\n",
    "        super().__init__()\n",
    "        \n",
    "        #self.embedding_layer = nn.Embedding(vocab_size,EMBED_DIM)\n",
    "        self.rnn = nn.GRU(embed_dim,enc_hidden_dim, num_layers = NUM_LAYERS ,batch_first= True ,bidirectional=enc_bidirectional)\n",
    "\n",
    "\n",
    "        # ENCODER_OUTPUT_DIM = DECODER_HIDDEN_SIZE\n",
    "        self.fc = nn.Linear(2*enc_hidden_dim,enc_output_dim) \n",
    "\n",
    "        self.fc_out = nn.Linear(enc_output_dim,1)\n",
    "        nn.init.xavier_uniform_(self.fc.weight)\n",
    "        self.dropout = nn.Dropout(dropout)\n",
    "\n",
    "    def forward(self,inp,inp_len):\n",
    "        \n",
    "        #embedded_input = self.embedding_layer(inp)\n",
    "        embedded_input = inp   # [batch_size, input_seq_length, embed_dim ]\n",
    "        \n",
    "        packed_embedding = nn.utils.rnn.pack_padded_sequence(embedded_input,inp_len,batch_first=True,enforce_sorted=False)\n",
    "        packed_output , hidden = self.rnn(packed_embedding)  # hidden = [D*num_layers, batch_size , hidden_dim ]\n",
    "        outputs, _  = nn.utils.rnn.pad_packed_sequence(packed_output,batch_first=True)  # [batch_size, inp_seq_length, hidden_dim]\n",
    "        hidden = torch.tanh(self.fc(torch.cat((hidden[-2,:,:],hidden[-1,:,:]),dim=1)))  # [batch_size, decoder_hidden_size]\n",
    "        return outputs,hidden"
   ]
  },
  {
   "cell_type": "code",
   "execution_count": 57,
   "metadata": {},
   "outputs": [],
   "source": [
    "batch_data = next(iter(train_dataloader))"
   ]
  },
  {
   "cell_type": "code",
   "execution_count": null,
   "metadata": {},
   "outputs": [],
   "source": []
  },
  {
   "cell_type": "code",
   "execution_count": 69,
   "metadata": {},
   "outputs": [],
   "source": [
    "class Attention(nn.Module):\n",
    "    def __init__(self,enc_hidden_dim, dec_hidden_dim):\n",
    "        super().__init__()\n",
    "        \n",
    "        self.attn = nn.Linear(enc_hidden_dim+dec_hidden_dim,dec_hidden_dim)\n",
    "        self.v = nn.Linear(dec_hidden_dim,1)\n",
    "\n",
    "    def forward(self,hidden,encoder_outputs, encoder_length_mask):\n",
    "        \n",
    "        # encoder_outputs = [batch_size,seq_length, enc_hidden_dim][2*ENCODER_HIDDEN_DIM or ENCODER_HIDDEN_DIM]\n",
    "        # hidden = [batch_size,  dec_hidden_dim]\n",
    "        # encoder_length_mask = [batch_size, seq_length]\n",
    "\n",
    "        batch_size = encoder_outputs.shape[0]\n",
    "        src_len = encoder_outputs.shape[1]\n",
    "        h = hidden.unsqueeze(1).repeat(1,src_len,1)  # h = [batch_size,seq_length,dec_hidden_dim]\n",
    "        energy = torch.tanh(self.attn(torch.cat((h,encoder_outputs),dim=2)))  #[batch_size,seq_length,dec_hidden_dim]\n",
    "        attention_scores = self.v(energy).squeeze(2)  # attention_scores = [batch_size , seq_length ]\n",
    "        attention_scores = attention_scores.masked_fill(encoder_length_mask==1, -1e10)   # Fill padding tokens with a lower value\n",
    "        attention_scores = F.softmax(attention_scores,dim=1)\n",
    "        return attention_scores"
   ]
  },
  {
   "cell_type": "code",
   "execution_count": 70,
   "metadata": {},
   "outputs": [],
   "source": [
    "def create_mask(src_lengths,max_src_length):\n",
    "\n",
    "        src_mask = torch.zeros((len(src_lengths),max_src_length),dtype=torch.int64)\n",
    "        for i in range(len(src_lengths)):\n",
    "\n",
    "            src_mask[i,src_lengths[i]:] = 1\n",
    "        return src_mask"
   ]
  },
  {
   "cell_type": "code",
   "execution_count": 71,
   "metadata": {},
   "outputs": [],
   "source": []
  },
  {
   "cell_type": "markdown",
   "metadata": {},
   "source": [
    "enc = Encoder(30,30,15,10)\n",
    "\n",
    "inp = torch.randn((3,20,30))\n",
    "inp_len = [20 for i in range(3)]\n",
    "outputs, hidden = enc(inp,inp_len)\n",
    "outputs"
   ]
  },
  {
   "cell_type": "code",
   "execution_count": 77,
   "metadata": {},
   "outputs": [],
   "source": [
    "class Decoder(nn.Module):\n",
    "\n",
    "    def __init__(self,vocab_size,enc_hidden_dim,dec_hidden_dim,dec_output_dim,emb_dim):\n",
    "        \n",
    "        # enc_hidden_dim = 2*ENCODER_HIDDEN_DIM or ENCODER_HIDDEN_DIM\n",
    "\n",
    "        super().__init__()\n",
    "        \n",
    "        self.vocab_size = vocab_size\n",
    "        self.attention = Attention(enc_hidden_dim,dec_hidden_dim)\n",
    "        self.embedding_layer = nn.Embedding(vocab_size,emb_dim)\n",
    "        self.rnn = nn.GRU(enc_hidden_dim + emb_dim,dec_hidden_dim,batch_first = True)\n",
    "\n",
    "        self.fc_out = nn.Linear(enc_hidden_dim + emb_dim + dec_hidden_dim , dec_output_dim)\n",
    "\n",
    "\n",
    "    def forward(self,input,hidden,encoder_outputs,encoder_length_mask):\n",
    "            # encoder outputs =  batch_size , seq_len , encoder_output_dim\n",
    "            # hidden = batch_size , hidden_dim\n",
    "            # input = batch_size\n",
    "            \n",
    "            input = input.unsqueeze(0) # [1,batch_size]\n",
    "            embedded = self.embedding_layer(input) # [1,batch_size,embed_dim]\n",
    "\n",
    "            embedded = embedded.permute(1,0,2) #[ batch_size, seq_length=1, embed_dim ]\n",
    "\n",
    "            print(embedded.shape)\n",
    "            attention_vector = self.attention(hidden,encoder_outputs,encoder_length_mask) # [ batch_size , seq_length ]\n",
    "            attention_vector = attention_vector.unsqueeze(1) # [batch_size , 1 , seq_length ]\n",
    "\n",
    "            weighted = torch.bmm(attention_vector,encoder_outputs) # [ batch_size, 1, encoder_output_dim]\n",
    "            #weighted = weighted.permute(1,0,2) #[1 , batch_size , encoder_output_dim]\n",
    "\n",
    "\n",
    "            rnn_input = torch.cat((embedded,weighted),dim=2) #[batch_size, seq_length=1, encoder + decoder]\n",
    "\n",
    "            out,h = self.rnn(rnn_input,hidden.unsqueeze(0)) # consider only a single layer (1.) so unsqueeze(0)\n",
    "\n",
    "            # out = [batch_size, seq_length = 1, decoder_hidden_out (bidirectional)]\n",
    "            # hidden = [D*num_layers,batch_size, decoder_hidden_out]\n",
    "\n",
    "\n",
    "            embedded = embedded.squeeze(1)  # [batch_size,embed_dim]\n",
    "            out = out.squeeze(1)    # Have to change if the number of layers is changed to more than 1\n",
    "            weighted = weighted.squeeze(1)\n",
    "\n",
    "            predicition = F.softmax(self.fc_out(torch.cat([embedded,out,weighted],dim=1)),dim=1) #[batch_size, decoder_output_dim]\n",
    "\n",
    "            return predicition, h.squeeze(0) # Reduce the number of layers"
   ]
  },
  {
   "cell_type": "code",
   "execution_count": 78,
   "metadata": {},
   "outputs": [],
   "source": [
    "enc = Encoder()\n",
    "dec = Decoder(13,2*ENC_HIDDEN_DIM,DEC_HIDDEN_DIM,13,300)"
   ]
  },
  {
   "cell_type": "code",
   "execution_count": 82,
   "metadata": {},
   "outputs": [
    {
     "name": "stdout",
     "output_type": "stream",
     "text": [
      "torch.Size([64, 1, 300])\n"
     ]
    }
   ],
   "source": [
    "\n",
    "\n",
    "encoder_mask  = create_mask(batch_data['src_length'],max(batch_data['src_length']))\n",
    "enc_outputs , hidden = enc(batch_data['src'],batch_data['src_length'])\n",
    "\n",
    "predictions , hidden = dec(torch.randint(13,(BATCH_SIZE,)),hidden,enc_outputs,encoder_mask)\n"
   ]
  },
  {
   "cell_type": "code",
   "execution_count": null,
   "metadata": {},
   "outputs": [],
   "source": [
    "p"
   ]
  },
  {
   "cell_type": "code",
   "execution_count": 7,
   "metadata": {},
   "outputs": [],
   "source": [
    "class TranslationModel(nn.Module):\n",
    "\n",
    "    def __init__(self,\n",
    "                input_embed_dim = EMBED_DIM,\n",
    "                encoder_hidden_dim = ENC_HIDDEN_DIM,\n",
    "                encoder_hidden_output = ENC_OUTPUT_DIM,\n",
    "                enc_num_layers = 1,\n",
    "                enc_bidirectional = ENC_BIDIRECTIONAL,\n",
    "\n",
    "                dec_vocab_size = len(output_vocab),\n",
    "                dec_embed_dim = DEC_EMBED_DIM,\n",
    "                dec_hidden_dim  =DEC_HIDDEN_DIM,\n",
    "                device_train = device_cpu\n",
    "        ):\n",
    "        \n",
    "        super().__init__()\n",
    "\n",
    "        self.encoder = Encoder(input_embed_dim,encoder_hidden_dim,encoder_hidden_output,enc_num_layers,enc_bidirectional=enc_bidirectional)\n",
    "        enc_bidirectional_factor = 2 if enc_bidirectional else 1\n",
    "        self.decoder = Decoder(dec_vocab_size,enc_bidirectional_factor*encoder_hidden_dim,dec_hidden_dim=dec_hidden_dim,dec_output_dim=dec_vocab_size,emb_dim=dec_embed_dim)\n",
    "        self.device_train = device_train\n",
    "\n",
    "\n",
    "    def create_mask(self, src_lengths,max_src_length):\n",
    "\n",
    "        src_mask = torch.zeros((len(src_lengths),max_src_length),dtype=torch.int64)\n",
    "        for i in range(len(src_lengths)):\n",
    "\n",
    "            src_mask[i,src_lengths[i]:] = 1\n",
    "        return src_mask\n",
    "        \n",
    "    def forward(self,source,source_len,target,teacher_forcing_ratio = 0.0):\n",
    "        #   source = [batch_size, max_src_len]\n",
    "        #   source_len = [length of sentence in the batch]\n",
    "        #   target = [batch_size,traget_length]\n",
    "        #   teacher_forcing_ratio = probability to use teacher forcinbg\n",
    "\n",
    "        batch_size = source.shape[0]\n",
    "        target_length = target.shape[1]\n",
    "        target_vocab_size = self.decoder.vocab_size\n",
    "        outputs= torch.zeros(batch_size,target_length,target_vocab_size).to(self.device_train)\n",
    "        encoder_outputs , hidden = self.encoder(source,source_len)\n",
    "\n",
    "        inp = target[:,0]        \n",
    "        enc_mask = self.create_mask(source_len,int(encoder_outputs.shape[1]))\n",
    "        for t in range(1,target_length):\n",
    "            decoder_output, hidden =  self.decoder(inp,hidden,encoder_outputs,enc_mask)\n",
    "\n",
    "            outputs[:,t,:] = decoder_output # batch_size, vocab_size\n",
    "            #teacher_force = random.random() < teacher_forcing_ratio \n",
    "\n",
    "            top1 = decoder_output.argmax(1)\n",
    "\n",
    "            inp = top1 #target[:,t] if teacher_force else top1\n",
    "        return outputs"
   ]
  },
  {
   "cell_type": "code",
   "execution_count": 8,
   "metadata": {},
   "outputs": [],
   "source": [
    "def apply_weights(model):\n",
    "    \n",
    "    for name,param in model.named_parameters():\n",
    "        if 'weight' in name:\n",
    "            nn.init.normal_(param.data,mean=0,std=0.01)\n",
    "        else:\n",
    "            nn.init.constant_(param.data,0)"
   ]
  },
  {
   "cell_type": "code",
   "execution_count": 9,
   "metadata": {},
   "outputs": [],
   "source": [
    "t = TranslationModel()\n",
    "t.apply(apply_weights)\n",
    "batch_data = next(iter(train_dataloader))\n",
    "\n",
    "criterion = nn.CrossEntropyLoss(ignore_index=output_vocab['<eos>'])\n",
    "optimizer = optim.Adam(t.parameters(),lr=0.001)\n"
   ]
  },
  {
   "cell_type": "code",
   "execution_count": 36,
   "metadata": {},
   "outputs": [
    {
     "name": "stdout",
     "output_type": "stream",
     "text": [
      "2.443704843521118\n"
     ]
    }
   ],
   "source": [
    "model_output = t(batch_data['src'],batch_data['src_length'],batch_data['trg'])\n",
    "\n",
    "model_out_reshaped = model_output[1:].view(-1,model_output.shape[-1])\n",
    "reshaped_target = batch_data['trg'][1:].view(-1)\n",
    "loss_value = criterion(model_out_reshaped,reshaped_target)\n",
    "loss_value.backward()\n",
    "nn.utils.clip_grad_norm_(t.parameters(),5)\n",
    "optimizer.step()\n",
    "print(loss_value.item())"
   ]
  },
  {
   "cell_type": "code",
   "execution_count": 21,
   "metadata": {},
   "outputs": [
    {
     "data": {
      "text/plain": [
       "tensor([[0.0000, 0.0000, 0.0000, 0.0000, 0.0000, 0.0000, 0.0000, 0.0000, 0.0000,\n",
       "         0.0000, 0.0000, 0.0000, 0.0000],\n",
       "        [0.0778, 0.0771, 0.0763, 0.0770, 0.0766, 0.0777, 0.0771, 0.0769, 0.0773,\n",
       "         0.0761, 0.0767, 0.0767, 0.0767],\n",
       "        [0.0778, 0.0771, 0.0763, 0.0770, 0.0767, 0.0779, 0.0771, 0.0769, 0.0773,\n",
       "         0.0759, 0.0769, 0.0767, 0.0765],\n",
       "        [0.0778, 0.0770, 0.0761, 0.0772, 0.0767, 0.0777, 0.0770, 0.0768, 0.0773,\n",
       "         0.0761, 0.0767, 0.0769, 0.0767],\n",
       "        [0.0778, 0.0771, 0.0763, 0.0770, 0.0767, 0.0779, 0.0771, 0.0769, 0.0773,\n",
       "         0.0758, 0.0769, 0.0767, 0.0765],\n",
       "        [0.0778, 0.0770, 0.0761, 0.0772, 0.0767, 0.0777, 0.0770, 0.0768, 0.0773,\n",
       "         0.0761, 0.0767, 0.0769, 0.0767],\n",
       "        [0.0778, 0.0771, 0.0763, 0.0770, 0.0767, 0.0779, 0.0771, 0.0769, 0.0773,\n",
       "         0.0758, 0.0769, 0.0767, 0.0765],\n",
       "        [0.0778, 0.0770, 0.0761, 0.0772, 0.0767, 0.0777, 0.0770, 0.0768, 0.0773,\n",
       "         0.0761, 0.0767, 0.0769, 0.0767],\n",
       "        [0.0778, 0.0771, 0.0763, 0.0770, 0.0767, 0.0779, 0.0771, 0.0769, 0.0773,\n",
       "         0.0758, 0.0769, 0.0767, 0.0765],\n",
       "        [0.0778, 0.0770, 0.0761, 0.0772, 0.0767, 0.0777, 0.0770, 0.0768, 0.0773,\n",
       "         0.0761, 0.0767, 0.0769, 0.0767],\n",
       "        [0.0778, 0.0771, 0.0763, 0.0770, 0.0767, 0.0779, 0.0771, 0.0769, 0.0773,\n",
       "         0.0758, 0.0769, 0.0767, 0.0765],\n",
       "        [0.0778, 0.0770, 0.0761, 0.0772, 0.0767, 0.0777, 0.0770, 0.0768, 0.0773,\n",
       "         0.0761, 0.0767, 0.0769, 0.0767]], grad_fn=<SelectBackward0>)"
      ]
     },
     "execution_count": 21,
     "metadata": {},
     "output_type": "execute_result"
    }
   ],
   "source": []
  },
  {
   "cell_type": "code",
   "execution_count": null,
   "metadata": {},
   "outputs": [],
   "source": [
    "print(batch_data['trg'])"
   ]
  },
  {
   "cell_type": "code",
   "execution_count": null,
   "metadata": {},
   "outputs": [],
   "source": []
  },
  {
   "cell_type": "code",
   "execution_count": 10,
   "metadata": {},
   "outputs": [],
   "source": [
    "def train_model(model,num_epochs,train_loader,valid_loader,optimizer,criterion,checkpoint_name='translation_model.pth'):\n",
    "    \n",
    "\n",
    "    best_validation_loss = 1000.0\n",
    "    for e in range(num_epochs):\n",
    "\n",
    "        training_loss = 0.0\n",
    "        model.train()\n",
    "        for i,batch in enumerate(train_loader):\n",
    "\n",
    "            source, source_length, target = batch['src'], batch['src_length'], batch['trg']\n",
    "\n",
    "            optimizer.zero_grad()\n",
    "\n",
    "            # model_output = [batch_size, output_seq_length,vocab_size]\n",
    "            model_output  = model(source,source_length,target)\n",
    "            \n",
    "            model_out_reshaped = model_output[1:].view(-1,model_output.shape[-1])\n",
    "            reshaped_target = target[1:].view(-1)\n",
    "\n",
    "            loss_value = criterion(model_out_reshaped,reshaped_target)\n",
    "            loss_value.backward()\n",
    "            nn.utils.clip_grad_norm_(model.parameters(),5)\n",
    "\n",
    "            optimizer.step()\n",
    "            training_loss += loss_value.item()\n",
    "        \n",
    "        print(\"Epoch \" + str(e) + \" Training Loss Value = \" + str(training_loss/len(train_loader)))\n",
    "        \n",
    "        model.eval()\n",
    "        validation_loss = 0.0\n",
    "\n",
    "        with torch.no_grad():\n",
    "\n",
    "            for i, batch in enumerate(valid_loader):\n",
    "                source, source_length, target = batch['src'], batch['src_length'], batch['trg']\n",
    "                model_output  = model(source,source_length,target,0)\n",
    "                model_out_reshaped = model_output[1:].view(-1,model_output.shape[-1])\n",
    "                reshaped_target = target[1:].view(-1)\n",
    "                loss_value = criterion(model_out_reshaped,reshaped_target)\n",
    "\n",
    "                validation_loss += loss_value.item()\n",
    "        averaged_validation_loss = validation_loss/len(valid_loader)\n",
    "        print(\"Epoch \" + str(e) + \"Validation Loss Value = \" + str(averaged_validation_loss))\n",
    "        print(\"\")\n",
    "        if (averaged_validation_loss <= best_validation_loss):\n",
    "            best_validation_loss = averaged_validation_loss\n",
    "            torch.save(model.state_dict(),checkpoint_name)\n",
    "    "
   ]
  },
  {
   "cell_type": "code",
   "execution_count": 11,
   "metadata": {},
   "outputs": [
    {
     "name": "stdout",
     "output_type": "stream",
     "text": [
      "Epoch 0 Training Loss Value = 2.4041103076934816\n",
      "Epoch 0Validation Loss Value = 2.2898590148441373\n",
      "\n",
      "Epoch 1 Training Loss Value = 2.133282579421997\n",
      "Epoch 1Validation Loss Value = 2.072826029762389\n",
      "\n",
      "Epoch 2 Training Loss Value = 2.0518855504989624\n",
      "Epoch 2Validation Loss Value = 2.0415358127109586\n",
      "\n",
      "Epoch 3 Training Loss Value = 2.020014154911041\n",
      "Epoch 3Validation Loss Value = 1.977608559623597\n",
      "\n",
      "Epoch 4 Training Loss Value = 1.9571084127426148\n",
      "Epoch 4Validation Loss Value = 1.9500777929548234\n",
      "\n",
      "Epoch 5 Training Loss Value = 1.9447013778686524\n",
      "Epoch 5Validation Loss Value = 1.9329395313111564\n",
      "\n",
      "Epoch 6 Training Loss Value = 1.910116175174713\n",
      "Epoch 6Validation Loss Value = 1.894557687971327\n",
      "\n",
      "Epoch 7 Training Loss Value = 1.8957890086174012\n",
      "Epoch 7Validation Loss Value = 1.8930311940965199\n",
      "\n",
      "Epoch 8 Training Loss Value = 1.8848787803649902\n",
      "Epoch 8Validation Loss Value = 1.8701877158785623\n",
      "\n",
      "Epoch 9 Training Loss Value = 1.8672187490463257\n",
      "Epoch 9Validation Loss Value = 1.8616971572240193\n",
      "\n",
      "Epoch 10 Training Loss Value = 1.8616040697097778\n",
      "Epoch 10Validation Loss Value = 1.8592093085485792\n",
      "\n",
      "Epoch 11 Training Loss Value = 1.8578225946426392\n",
      "Epoch 11Validation Loss Value = 1.8514387456197587\n",
      "\n",
      "Epoch 12 Training Loss Value = 1.8517427072525023\n",
      "Epoch 12Validation Loss Value = 1.8485366692618719\n",
      "\n",
      "Epoch 13 Training Loss Value = 1.8461352367401123\n",
      "Epoch 13Validation Loss Value = 1.843767904099964\n",
      "\n",
      "Epoch 14 Training Loss Value = 1.8391890468597412\n",
      "Epoch 14Validation Loss Value = 1.8267052665589347\n",
      "\n",
      "Epoch 15 Training Loss Value = 1.8219326071739197\n",
      "Epoch 15Validation Loss Value = 1.8170376334871565\n",
      "\n",
      "Epoch 16 Training Loss Value = 1.8189123096466064\n",
      "Epoch 16Validation Loss Value = 1.8275545135376945\n",
      "\n",
      "Epoch 17 Training Loss Value = 1.8387345857620239\n",
      "Epoch 17Validation Loss Value = 1.8263351027927701\n",
      "\n",
      "Epoch 18 Training Loss Value = 1.824785526752472\n",
      "Epoch 18Validation Loss Value = 1.8140034221467518\n",
      "\n",
      "Epoch 19 Training Loss Value = 1.8141358428001404\n",
      "Epoch 19Validation Loss Value = 1.810218372042217\n",
      "\n",
      "Epoch 20 Training Loss Value = 1.80292648935318\n",
      "Epoch 20Validation Loss Value = 1.7972630413751753\n",
      "\n",
      "Epoch 21 Training Loss Value = 1.8005852560997009\n",
      "Epoch 21Validation Loss Value = 1.7969470061953106\n",
      "\n",
      "Epoch 22 Training Loss Value = 1.7934997024536132\n",
      "Epoch 22Validation Loss Value = 1.7914166166668846\n",
      "\n",
      "Epoch 23 Training Loss Value = 1.79392657995224\n",
      "Epoch 23Validation Loss Value = 1.81140607122391\n",
      "\n",
      "Epoch 24 Training Loss Value = 1.7963358664512634\n",
      "Epoch 24Validation Loss Value = 1.7903704624327401\n",
      "\n",
      "Epoch 25 Training Loss Value = 1.7982805347442627\n",
      "Epoch 25Validation Loss Value = 1.7981799235419622\n",
      "\n",
      "Epoch 26 Training Loss Value = 1.8199390497207641\n",
      "Epoch 26Validation Loss Value = 2.160043303928678\n",
      "\n",
      "Epoch 27 Training Loss Value = 2.2670199403762816\n",
      "Epoch 27Validation Loss Value = 2.254134980459062\n",
      "\n"
     ]
    },
    {
     "ename": "KeyboardInterrupt",
     "evalue": "",
     "output_type": "error",
     "traceback": [
      "\u001b[0;31m---------------------------------------------------------------------------\u001b[0m",
      "\u001b[0;31mKeyboardInterrupt\u001b[0m                         Traceback (most recent call last)",
      "\u001b[1;32m/Users/depressedcoder/DLNLP/Assignment4/parta/sol.ipynb Cell 22\u001b[0m in \u001b[0;36m<cell line: 3>\u001b[0;34m()\u001b[0m\n\u001b[1;32m      <a href='vscode-notebook-cell:/Users/depressedcoder/DLNLP/Assignment4/parta/sol.ipynb#X25sZmlsZQ%3D%3D?line=0'>1</a>\u001b[0m t \u001b[39m=\u001b[39m TranslationModel()\n\u001b[1;32m      <a href='vscode-notebook-cell:/Users/depressedcoder/DLNLP/Assignment4/parta/sol.ipynb#X25sZmlsZQ%3D%3D?line=1'>2</a>\u001b[0m t\u001b[39m.\u001b[39mapply(apply_weights)\n\u001b[0;32m----> <a href='vscode-notebook-cell:/Users/depressedcoder/DLNLP/Assignment4/parta/sol.ipynb#X25sZmlsZQ%3D%3D?line=2'>3</a>\u001b[0m train_model(t,\u001b[39m50\u001b[39;49m,train_dataloader,valid_dataloader,optim\u001b[39m.\u001b[39;49mAdam(t\u001b[39m.\u001b[39;49mparameters(),lr\u001b[39m=\u001b[39;49m\u001b[39m0.01\u001b[39;49m),nn\u001b[39m.\u001b[39;49mCrossEntropyLoss())\n",
      "\u001b[1;32m/Users/depressedcoder/DLNLP/Assignment4/parta/sol.ipynb Cell 22\u001b[0m in \u001b[0;36mtrain_model\u001b[0;34m(model, num_epochs, train_loader, valid_loader, optimizer, criterion, checkpoint_name)\u001b[0m\n\u001b[1;32m     <a href='vscode-notebook-cell:/Users/depressedcoder/DLNLP/Assignment4/parta/sol.ipynb#X25sZmlsZQ%3D%3D?line=12'>13</a>\u001b[0m optimizer\u001b[39m.\u001b[39mzero_grad()\n\u001b[1;32m     <a href='vscode-notebook-cell:/Users/depressedcoder/DLNLP/Assignment4/parta/sol.ipynb#X25sZmlsZQ%3D%3D?line=14'>15</a>\u001b[0m \u001b[39m# model_output = [batch_size, output_seq_length,vocab_size]\u001b[39;00m\n\u001b[0;32m---> <a href='vscode-notebook-cell:/Users/depressedcoder/DLNLP/Assignment4/parta/sol.ipynb#X25sZmlsZQ%3D%3D?line=15'>16</a>\u001b[0m model_output  \u001b[39m=\u001b[39m model(source,source_length,target)\n\u001b[1;32m     <a href='vscode-notebook-cell:/Users/depressedcoder/DLNLP/Assignment4/parta/sol.ipynb#X25sZmlsZQ%3D%3D?line=17'>18</a>\u001b[0m model_out_reshaped \u001b[39m=\u001b[39m model_output[\u001b[39m1\u001b[39m:]\u001b[39m.\u001b[39mview(\u001b[39m-\u001b[39m\u001b[39m1\u001b[39m,model_output\u001b[39m.\u001b[39mshape[\u001b[39m-\u001b[39m\u001b[39m1\u001b[39m])\n\u001b[1;32m     <a href='vscode-notebook-cell:/Users/depressedcoder/DLNLP/Assignment4/parta/sol.ipynb#X25sZmlsZQ%3D%3D?line=18'>19</a>\u001b[0m reshaped_target \u001b[39m=\u001b[39m target[\u001b[39m1\u001b[39m:]\u001b[39m.\u001b[39mview(\u001b[39m-\u001b[39m\u001b[39m1\u001b[39m)\n",
      "File \u001b[0;32m~/environments/gymenv/lib/python3.9/site-packages/torch/nn/modules/module.py:1130\u001b[0m, in \u001b[0;36mModule._call_impl\u001b[0;34m(self, *input, **kwargs)\u001b[0m\n\u001b[1;32m   1126\u001b[0m \u001b[39m# If we don't have any hooks, we want to skip the rest of the logic in\u001b[39;00m\n\u001b[1;32m   1127\u001b[0m \u001b[39m# this function, and just call forward.\u001b[39;00m\n\u001b[1;32m   1128\u001b[0m \u001b[39mif\u001b[39;00m \u001b[39mnot\u001b[39;00m (\u001b[39mself\u001b[39m\u001b[39m.\u001b[39m_backward_hooks \u001b[39mor\u001b[39;00m \u001b[39mself\u001b[39m\u001b[39m.\u001b[39m_forward_hooks \u001b[39mor\u001b[39;00m \u001b[39mself\u001b[39m\u001b[39m.\u001b[39m_forward_pre_hooks \u001b[39mor\u001b[39;00m _global_backward_hooks\n\u001b[1;32m   1129\u001b[0m         \u001b[39mor\u001b[39;00m _global_forward_hooks \u001b[39mor\u001b[39;00m _global_forward_pre_hooks):\n\u001b[0;32m-> 1130\u001b[0m     \u001b[39mreturn\u001b[39;00m forward_call(\u001b[39m*\u001b[39;49m\u001b[39minput\u001b[39;49m, \u001b[39m*\u001b[39;49m\u001b[39m*\u001b[39;49mkwargs)\n\u001b[1;32m   1131\u001b[0m \u001b[39m# Do not call functions when jit is used\u001b[39;00m\n\u001b[1;32m   1132\u001b[0m full_backward_hooks, non_full_backward_hooks \u001b[39m=\u001b[39m [], []\n",
      "\u001b[1;32m/Users/depressedcoder/DLNLP/Assignment4/parta/sol.ipynb Cell 22\u001b[0m in \u001b[0;36mTranslationModel.forward\u001b[0;34m(self, source, source_len, target, teacher_forcing_ratio)\u001b[0m\n\u001b[1;32m     <a href='vscode-notebook-cell:/Users/depressedcoder/DLNLP/Assignment4/parta/sol.ipynb#X25sZmlsZQ%3D%3D?line=44'>45</a>\u001b[0m enc_mask \u001b[39m=\u001b[39m \u001b[39mself\u001b[39m\u001b[39m.\u001b[39mcreate_mask(source_len,encoder_outputs\u001b[39m.\u001b[39mshape[\u001b[39m1\u001b[39m])\n\u001b[1;32m     <a href='vscode-notebook-cell:/Users/depressedcoder/DLNLP/Assignment4/parta/sol.ipynb#X25sZmlsZQ%3D%3D?line=45'>46</a>\u001b[0m \u001b[39mfor\u001b[39;00m t \u001b[39min\u001b[39;00m \u001b[39mrange\u001b[39m(\u001b[39m1\u001b[39m,target_length):\n\u001b[0;32m---> <a href='vscode-notebook-cell:/Users/depressedcoder/DLNLP/Assignment4/parta/sol.ipynb#X25sZmlsZQ%3D%3D?line=46'>47</a>\u001b[0m     decoder_output, hidden \u001b[39m=\u001b[39m  \u001b[39mself\u001b[39;49m\u001b[39m.\u001b[39;49mdecoder(inp,hidden,encoder_outputs,enc_mask)\n\u001b[1;32m     <a href='vscode-notebook-cell:/Users/depressedcoder/DLNLP/Assignment4/parta/sol.ipynb#X25sZmlsZQ%3D%3D?line=48'>49</a>\u001b[0m     outputs[:,t,:] \u001b[39m=\u001b[39m decoder_output \u001b[39m# batch_size, vocab_size\u001b[39;00m\n\u001b[1;32m     <a href='vscode-notebook-cell:/Users/depressedcoder/DLNLP/Assignment4/parta/sol.ipynb#X25sZmlsZQ%3D%3D?line=49'>50</a>\u001b[0m     \u001b[39m#teacher_force = random.random() < teacher_forcing_ratio \u001b[39;00m\n",
      "File \u001b[0;32m~/environments/gymenv/lib/python3.9/site-packages/torch/nn/modules/module.py:1130\u001b[0m, in \u001b[0;36mModule._call_impl\u001b[0;34m(self, *input, **kwargs)\u001b[0m\n\u001b[1;32m   1126\u001b[0m \u001b[39m# If we don't have any hooks, we want to skip the rest of the logic in\u001b[39;00m\n\u001b[1;32m   1127\u001b[0m \u001b[39m# this function, and just call forward.\u001b[39;00m\n\u001b[1;32m   1128\u001b[0m \u001b[39mif\u001b[39;00m \u001b[39mnot\u001b[39;00m (\u001b[39mself\u001b[39m\u001b[39m.\u001b[39m_backward_hooks \u001b[39mor\u001b[39;00m \u001b[39mself\u001b[39m\u001b[39m.\u001b[39m_forward_hooks \u001b[39mor\u001b[39;00m \u001b[39mself\u001b[39m\u001b[39m.\u001b[39m_forward_pre_hooks \u001b[39mor\u001b[39;00m _global_backward_hooks\n\u001b[1;32m   1129\u001b[0m         \u001b[39mor\u001b[39;00m _global_forward_hooks \u001b[39mor\u001b[39;00m _global_forward_pre_hooks):\n\u001b[0;32m-> 1130\u001b[0m     \u001b[39mreturn\u001b[39;00m forward_call(\u001b[39m*\u001b[39;49m\u001b[39minput\u001b[39;49m, \u001b[39m*\u001b[39;49m\u001b[39m*\u001b[39;49mkwargs)\n\u001b[1;32m   1131\u001b[0m \u001b[39m# Do not call functions when jit is used\u001b[39;00m\n\u001b[1;32m   1132\u001b[0m full_backward_hooks, non_full_backward_hooks \u001b[39m=\u001b[39m [], []\n",
      "\u001b[1;32m/Users/depressedcoder/DLNLP/Assignment4/parta/sol.ipynb Cell 22\u001b[0m in \u001b[0;36mDecoder.forward\u001b[0;34m(self, input, hidden, encoder_outputs, encoder_length_mask)\u001b[0m\n\u001b[1;32m     <a href='vscode-notebook-cell:/Users/depressedcoder/DLNLP/Assignment4/parta/sol.ipynb#X25sZmlsZQ%3D%3D?line=30'>31</a>\u001b[0m \u001b[39m#weighted = weighted.permute(1,0,2) #[1 , batch_size , encoder_output_dim]\u001b[39;00m\n\u001b[1;32m     <a href='vscode-notebook-cell:/Users/depressedcoder/DLNLP/Assignment4/parta/sol.ipynb#X25sZmlsZQ%3D%3D?line=33'>34</a>\u001b[0m rnn_input \u001b[39m=\u001b[39m torch\u001b[39m.\u001b[39mcat((embedded,weighted),dim\u001b[39m=\u001b[39m\u001b[39m2\u001b[39m) \u001b[39m#[batch_size, seq_length=1, encoder + decoder]\u001b[39;00m\n\u001b[0;32m---> <a href='vscode-notebook-cell:/Users/depressedcoder/DLNLP/Assignment4/parta/sol.ipynb#X25sZmlsZQ%3D%3D?line=35'>36</a>\u001b[0m out,hidden \u001b[39m=\u001b[39m \u001b[39mself\u001b[39;49m\u001b[39m.\u001b[39;49mrnn(rnn_input,hidden\u001b[39m.\u001b[39;49munsqueeze(\u001b[39m0\u001b[39;49m)) \u001b[39m# consider only a single layer (1.) so unsqueeze(0)\u001b[39;00m\n\u001b[1;32m     <a href='vscode-notebook-cell:/Users/depressedcoder/DLNLP/Assignment4/parta/sol.ipynb#X25sZmlsZQ%3D%3D?line=37'>38</a>\u001b[0m \u001b[39m# out = [batch_size, layers, decoder_hidden_out (bidirectional)]\u001b[39;00m\n\u001b[1;32m     <a href='vscode-notebook-cell:/Users/depressedcoder/DLNLP/Assignment4/parta/sol.ipynb#X25sZmlsZQ%3D%3D?line=38'>39</a>\u001b[0m \u001b[39m# hidden = [D*num_layers,batch_size, decoder_hidden_out]\u001b[39;00m\n\u001b[1;32m     <a href='vscode-notebook-cell:/Users/depressedcoder/DLNLP/Assignment4/parta/sol.ipynb#X25sZmlsZQ%3D%3D?line=41'>42</a>\u001b[0m embedded \u001b[39m=\u001b[39m embedded\u001b[39m.\u001b[39msqueeze(\u001b[39m1\u001b[39m)  \u001b[39m# [batch_size,embed_dim]\u001b[39;00m\n",
      "File \u001b[0;32m~/environments/gymenv/lib/python3.9/site-packages/torch/nn/modules/module.py:1130\u001b[0m, in \u001b[0;36mModule._call_impl\u001b[0;34m(self, *input, **kwargs)\u001b[0m\n\u001b[1;32m   1126\u001b[0m \u001b[39m# If we don't have any hooks, we want to skip the rest of the logic in\u001b[39;00m\n\u001b[1;32m   1127\u001b[0m \u001b[39m# this function, and just call forward.\u001b[39;00m\n\u001b[1;32m   1128\u001b[0m \u001b[39mif\u001b[39;00m \u001b[39mnot\u001b[39;00m (\u001b[39mself\u001b[39m\u001b[39m.\u001b[39m_backward_hooks \u001b[39mor\u001b[39;00m \u001b[39mself\u001b[39m\u001b[39m.\u001b[39m_forward_hooks \u001b[39mor\u001b[39;00m \u001b[39mself\u001b[39m\u001b[39m.\u001b[39m_forward_pre_hooks \u001b[39mor\u001b[39;00m _global_backward_hooks\n\u001b[1;32m   1129\u001b[0m         \u001b[39mor\u001b[39;00m _global_forward_hooks \u001b[39mor\u001b[39;00m _global_forward_pre_hooks):\n\u001b[0;32m-> 1130\u001b[0m     \u001b[39mreturn\u001b[39;00m forward_call(\u001b[39m*\u001b[39;49m\u001b[39minput\u001b[39;49m, \u001b[39m*\u001b[39;49m\u001b[39m*\u001b[39;49mkwargs)\n\u001b[1;32m   1131\u001b[0m \u001b[39m# Do not call functions when jit is used\u001b[39;00m\n\u001b[1;32m   1132\u001b[0m full_backward_hooks, non_full_backward_hooks \u001b[39m=\u001b[39m [], []\n",
      "File \u001b[0;32m~/environments/gymenv/lib/python3.9/site-packages/torch/nn/modules/rnn.py:950\u001b[0m, in \u001b[0;36mGRU.forward\u001b[0;34m(self, input, hx)\u001b[0m\n\u001b[1;32m    948\u001b[0m \u001b[39mself\u001b[39m\u001b[39m.\u001b[39mcheck_forward_args(\u001b[39minput\u001b[39m, hx, batch_sizes)\n\u001b[1;32m    949\u001b[0m \u001b[39mif\u001b[39;00m batch_sizes \u001b[39mis\u001b[39;00m \u001b[39mNone\u001b[39;00m:\n\u001b[0;32m--> 950\u001b[0m     result \u001b[39m=\u001b[39m _VF\u001b[39m.\u001b[39;49mgru(\u001b[39minput\u001b[39;49m, hx, \u001b[39mself\u001b[39;49m\u001b[39m.\u001b[39;49m_flat_weights, \u001b[39mself\u001b[39;49m\u001b[39m.\u001b[39;49mbias, \u001b[39mself\u001b[39;49m\u001b[39m.\u001b[39;49mnum_layers,\n\u001b[1;32m    951\u001b[0m                      \u001b[39mself\u001b[39;49m\u001b[39m.\u001b[39;49mdropout, \u001b[39mself\u001b[39;49m\u001b[39m.\u001b[39;49mtraining, \u001b[39mself\u001b[39;49m\u001b[39m.\u001b[39;49mbidirectional, \u001b[39mself\u001b[39;49m\u001b[39m.\u001b[39;49mbatch_first)\n\u001b[1;32m    952\u001b[0m \u001b[39melse\u001b[39;00m:\n\u001b[1;32m    953\u001b[0m     result \u001b[39m=\u001b[39m _VF\u001b[39m.\u001b[39mgru(\u001b[39minput\u001b[39m, batch_sizes, hx, \u001b[39mself\u001b[39m\u001b[39m.\u001b[39m_flat_weights, \u001b[39mself\u001b[39m\u001b[39m.\u001b[39mbias,\n\u001b[1;32m    954\u001b[0m                      \u001b[39mself\u001b[39m\u001b[39m.\u001b[39mnum_layers, \u001b[39mself\u001b[39m\u001b[39m.\u001b[39mdropout, \u001b[39mself\u001b[39m\u001b[39m.\u001b[39mtraining, \u001b[39mself\u001b[39m\u001b[39m.\u001b[39mbidirectional)\n",
      "\u001b[0;31mKeyboardInterrupt\u001b[0m: "
     ]
    }
   ],
   "source": [
    "t = TranslationModel()\n",
    "t.apply(apply_weights)\n",
    "train_model(t,50,train_dataloader,valid_dataloader,optim.Adam(t.parameters(),lr=0.01),nn.CrossEntropyLoss())"
   ]
  },
  {
   "cell_type": "code",
   "execution_count": null,
   "metadata": {},
   "outputs": [],
   "source": [
    "def translate():\n",
    "    pass\n",
    "\n"
   ]
  },
  {
   "cell_type": "code",
   "execution_count": null,
   "metadata": {},
   "outputs": [],
   "source": []
  },
  {
   "cell_type": "code",
   "execution_count": null,
   "metadata": {},
   "outputs": [],
   "source": []
  },
  {
   "cell_type": "code",
   "execution_count": null,
   "metadata": {},
   "outputs": [],
   "source": []
  },
  {
   "cell_type": "code",
   "execution_count": null,
   "metadata": {},
   "outputs": [],
   "source": []
  },
  {
   "cell_type": "code",
   "execution_count": null,
   "metadata": {},
   "outputs": [],
   "source": [
    "rnn = nn.GRU(100,64, num_layers= 2 ,batch_first= True ,bidirectional=True)\n",
    "inp = torch.randn((2,8,100))\n",
    "outputs,hidden = rnn(inp)"
   ]
  },
  {
   "cell_type": "code",
   "execution_count": null,
   "metadata": {},
   "outputs": [],
   "source": [
    "outputs.shape"
   ]
  },
  {
   "cell_type": "code",
   "execution_count": null,
   "metadata": {},
   "outputs": [],
   "source": [
    "hidden.shape"
   ]
  },
  {
   "cell_type": "code",
   "execution_count": null,
   "metadata": {},
   "outputs": [],
   "source": [
    "inq = torch.cat([hidden[-i , : , :] for i in range(4)],dim=1)\n"
   ]
  },
  {
   "cell_type": "code",
   "execution_count": null,
   "metadata": {},
   "outputs": [],
   "source": [
    "inq.shape"
   ]
  },
  {
   "cell_type": "code",
   "execution_count": null,
   "metadata": {},
   "outputs": [],
   "source": [
    "rnn(inp)[1].shape"
   ]
  },
  {
   "cell_type": "code",
   "execution_count": null,
   "metadata": {},
   "outputs": [],
   "source": [
    "embedding_layer = nn.Embedding(10,30)\n",
    "\n",
    "embedding_layer(torch.tensor([[10,2,3],[4,5,6]])).shape"
   ]
  },
  {
   "cell_type": "code",
   "execution_count": null,
   "metadata": {},
   "outputs": [],
   "source": []
  }
 ],
 "metadata": {
  "kernelspec": {
   "display_name": "Python 3.9.13 ('gymenv')",
   "language": "python",
   "name": "python3"
  },
  "language_info": {
   "codemirror_mode": {
    "name": "ipython",
    "version": 3
   },
   "file_extension": ".py",
   "mimetype": "text/x-python",
   "name": "python",
   "nbconvert_exporter": "python",
   "pygments_lexer": "ipython3",
   "version": "3.9.13"
  },
  "orig_nbformat": 4,
  "vscode": {
   "interpreter": {
    "hash": "d1b0110cf1cb03549be737c5657a86ea4daeeb81469a7991ed915d907f3e629c"
   }
  }
 },
 "nbformat": 4,
 "nbformat_minor": 2
}
