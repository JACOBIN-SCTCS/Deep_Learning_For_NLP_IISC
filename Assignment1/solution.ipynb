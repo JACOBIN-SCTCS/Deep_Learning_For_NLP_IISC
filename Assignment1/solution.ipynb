{
 "cells": [
  {
   "cell_type": "code",
   "execution_count": 1,
   "metadata": {},
   "outputs": [
    {
     "name": "stderr",
     "output_type": "stream",
     "text": [
      "/Users/depressedcoder/environments/gymenv/lib/python3.9/site-packages/tqdm/auto.py:22: TqdmWarning: IProgress not found. Please update jupyter and ipywidgets. See https://ipywidgets.readthedocs.io/en/stable/user_install.html\n",
      "  from .autonotebook import tqdm as notebook_tqdm\n"
     ]
    }
   ],
   "source": [
    "import torch\n",
    "import torch.nn as nn\n",
    "import torch.nn.functional as F\n",
    "from torch import optim\n",
    "from torchtext.vocab import GloVe\n",
    "import spacy\n",
    "import io\n",
    "import jsonlines\n",
    "import json\n",
    "from torch.nn.utils.rnn import pad_sequence\n",
    "from torch.utils.data import random_split\n",
    "\n",
    "\n",
    "EMBED_DIM = 300\n",
    "HIDDEN_LAYER_DIM = 10\n",
    "NUM_EPOCHS = 15"
   ]
  },
  {
   "cell_type": "code",
   "execution_count": 2,
   "metadata": {},
   "outputs": [],
   "source": [
    "nlp = spacy.load(\"en_core_web_sm\")\n",
    "\n",
    "def preprocess_text(text):    \n",
    "    words = nlp(text)\n",
    "    sentence  = \"\".join([token.text_with_ws for token in words]).strip()\n",
    "    return sentence\n",
    "\n",
    "def process_training_data():\n",
    "    negative_reviews = io.open('./Train.neg',encoding='latin-1').readlines()\n",
    "    positive_reviews = io.open('./Train.pos',encoding='latin-1').readlines()\n",
    "    with jsonlines.open('train.jsonl',mode='w') as writer:\n",
    "\n",
    "        for review in positive_reviews:\n",
    "            processed_text = preprocess_text(review)\n",
    "            d = {'text': processed_text , 'sentiment': 1}\n",
    "            writer.write(d)\n",
    "        for review in negative_reviews:\n",
    "            processed_text = preprocess_text(review)\n",
    "            d = {'text': processed_text , 'sentiment': 0}\n",
    "            writer.write(d)\n",
    "process_training_data()\n"
   ]
  },
  {
   "cell_type": "code",
   "execution_count": 34,
   "metadata": {},
   "outputs": [],
   "source": [
    "from torch.utils.data import DataLoader,Dataset\n",
    "\n",
    "class ReviewDataSet(Dataset):\n",
    "\n",
    "    def __init__(self,file):\n",
    "        super().__init__()\n",
    "        \n",
    "        self.file = file\n",
    "        self.data = []\n",
    "        with open(self.file) as f:\n",
    "            for line in f:\n",
    "                sample = json.loads(line)\n",
    "                self.data.append([sample['text'],sample['sentiment']])\n",
    "    \n",
    "    def __len__(self):\n",
    "        return len(self.data)\n",
    "    \n",
    "    def __getitem__(self, index):\n",
    "        return self.data[index]\n",
    "\n",
    "    \n",
    "\n",
    "dataset = ReviewDataSet('train.jsonl') \n",
    "\n",
    "train_size = int(0.8 * len(dataset))\n",
    "test_size = len(dataset) - train_size\n",
    "\n",
    "train_dataset,validation_dataset = random_split(dataset,[train_size,test_size])\n",
    "\n",
    "train_dataloader = DataLoader(train_dataset,batch_size=32,shuffle=True)\n",
    "val_dataloader = DataLoader(validation_dataset,batch_size=32,shuffle=True)\n",
    "glove = GloVe()\n"
   ]
  },
  {
   "cell_type": "code",
   "execution_count": 24,
   "metadata": {},
   "outputs": [],
   "source": [
    "def getWordEmbeddings(batch_data,glove):\n",
    "    \n",
    "    reviews = batch_data[0]\n",
    "    sentiment = batch_data[1]\n",
    "    \n",
    "    reviews_tensor = []\n",
    "    lengths = []\n",
    "\n",
    "    for review in reviews:\n",
    "        words = review.split()\n",
    "        words_tensor = []\n",
    "        lengths.append(len(words))\n",
    "        for word in words:\n",
    "            words_tensor.append(glove.__getitem__(word))\n",
    "        reviews_tensor.append(torch.stack(words_tensor,dim=0))\n",
    "    \n",
    "    mask = torch.zeros((len(lengths),max(lengths)))\n",
    "    for i in range(len(lengths)):\n",
    "        mask[i,:lengths[i]] = 1.0\n",
    "    \n",
    "    return (pad_sequence(reviews_tensor,batch_first=True),mask,sentiment)\n",
    "\n",
    "\n"
   ]
  },
  {
   "cell_type": "code",
   "execution_count": 26,
   "metadata": {},
   "outputs": [
    {
     "data": {
      "text/plain": [
       "\"from gensim import models\\n\\nw = models.KeyedVectors.load_word2vec_format('./GoogleNews-vectors-negative300.bin',binary=True)\\nw.get_vector('rat')\\n\""
      ]
     },
     "execution_count": 26,
     "metadata": {},
     "output_type": "execute_result"
    }
   ],
   "source": [
    "'''from gensim import models\n",
    "\n",
    "w = models.KeyedVectors.load_word2vec_format('./GoogleNews-vectors-negative300.bin',binary=True)\n",
    "w.get_vector('rat')\n",
    "'''"
   ]
  },
  {
   "cell_type": "code",
   "execution_count": 27,
   "metadata": {},
   "outputs": [],
   "source": [
    "class DAN(nn.Module):\n",
    "\n",
    "    def __init__(self,embed_dim=EMBED_DIM,hidden_dim = HIDDEN_LAYER_DIM):\n",
    "        super().__init__()\n",
    "        self.embed_dim = embed_dim\n",
    "        self.hidden_dim = hidden_dim\n",
    "        self.fc1 = nn.Linear(self.embed_dim,self.hidden_dim)\n",
    "        self.fc2 = nn.Linear(self.hidden_dim,1)\n",
    "        self.sigmoid  = nn.Sigmoid()\n",
    "\n",
    "    def forward(self,inp,inp_mask):\n",
    "        \n",
    "        inp_lengths = torch.sum(inp_mask,-1,keepdim=True)\n",
    "        total = torch.sum(inp*(inp_mask.unsqueeze(2)),axis=1)\n",
    "        vector_average = total / inp_lengths\n",
    "        ans = F.relu(self.fc1(vector_average))\n",
    "        ans = self.sigmoid(self.fc2(ans))\n",
    "        return ans\n",
    "    \n"
   ]
  },
  {
   "cell_type": "code",
   "execution_count": 61,
   "metadata": {},
   "outputs": [
    {
     "name": "stdout",
     "output_type": "stream",
     "text": [
      "tensor([[[-0.7277, -0.3738,  0.6601, -0.8360,  0.4285],\n",
      "         [-0.3967, -0.9428,  1.2575,  0.3563, -2.6444],\n",
      "         [-2.6430,  0.6987, -0.0439,  0.9138,  0.2052]],\n",
      "\n",
      "        [[-0.2515, -0.5871,  0.6125, -0.2867, -0.4073],\n",
      "         [ 1.2012,  1.6067,  0.8382,  0.4374, -0.9485],\n",
      "         [ 0.6081, -0.4818,  1.3801, -0.3231, -2.0356]]])\n"
     ]
    }
   ],
   "source": [
    "'''inp = torch.randn((2,3,5))\n",
    "mask = torch.tensor([[1.0,0.0,0.0],[1.0,0.0,1.0]])\n",
    "\n",
    "print(inp)'''"
   ]
  },
  {
   "cell_type": "code",
   "execution_count": 28,
   "metadata": {},
   "outputs": [
    {
     "name": "stdout",
     "output_type": "stream",
     "text": [
      "0.527477594766211   0.3108069509901899\n",
      "0.4702962192290641   0.3055168257114735\n",
      "0.4550522862279669   0.31075330902921394\n",
      "0.457102488805639   0.3142033854222044\n",
      "0.4444233176714562   0.30292312658213555\n",
      "0.4376748577552907   0.32122663273773294\n",
      "0.43630648816519596   0.3029258468366684\n",
      "0.4278222356546432   0.3055676274160121\n",
      "0.4250665230161332   0.3083383796062875\n",
      "0.4229727272499115   0.31551304911362366\n",
      "0.41623802538564864   0.32657083282445337\n",
      "0.4125348765482294   0.30959973072117947\n",
      "0.40747506226947966   0.31230205614516077\n",
      "0.40188099293315666   0.3155527620556507\n",
      "0.3991619037028323   0.32496913054839094\n"
     ]
    }
   ],
   "source": [
    "# Training loop\n",
    "dan = DAN(EMBED_DIM,HIDDEN_LAYER_DIM)\n",
    "criterion = nn.BCELoss()\n",
    "optimizer = optim.Adam(dan.parameters(),lr=0.01)\n",
    "\n",
    "for e in range(NUM_EPOCHS):\n",
    "    training_loss = 0.0\n",
    "    size = 0\n",
    "    dan.train()\n",
    "\n",
    "    for i,data in enumerate(train_dataloader,0):\n",
    "        \n",
    "        optimizer.zero_grad()\n",
    "        \n",
    "        input_reviews , input_mask , output_labels = getWordEmbeddings(data,g)\n",
    "        output = dan(input_reviews,input_mask).squeeze()\n",
    "\n",
    "        loss = criterion(output,output_labels.float())\n",
    "        training_loss += loss.item()\n",
    "        loss.backward()\n",
    "        optimizer.step()\n",
    "        size = max(size,i+1)\n",
    "\n",
    "    dan.eval()\n",
    "    validation_loss = 0.0\n",
    "\n",
    "    val_size = 0\n",
    "    for i,data in enumerate(val_dataloader,0):\n",
    "        input_reviews,input_mask,output_labels = getWordEmbeddings(data,g)\n",
    "        ouput = dan(input_reviews,input_mask).squeeze()\n",
    "        loss = criterion(ouput,output_labels.float())\n",
    "        validation_loss += loss.item()\n",
    "        val_size = max(size,i+1)\n",
    "\n",
    "    print(str(training_loss/size )+ \"   \" + str(validation_loss/val_size))\n"
   ]
  },
  {
   "cell_type": "code",
   "execution_count": null,
   "metadata": {},
   "outputs": [],
   "source": []
  },
  {
   "cell_type": "code",
   "execution_count": null,
   "metadata": {},
   "outputs": [],
   "source": []
  }
 ],
 "metadata": {
  "kernelspec": {
   "display_name": "Python 3 (ipykernel)",
   "language": "python",
   "name": "python3"
  },
  "language_info": {
   "codemirror_mode": {
    "name": "ipython",
    "version": 3
   },
   "file_extension": ".py",
   "mimetype": "text/x-python",
   "name": "python",
   "nbconvert_exporter": "python",
   "pygments_lexer": "ipython3",
   "version": "3.9.13"
  },
  "vscode": {
   "interpreter": {
    "hash": "d1b0110cf1cb03549be737c5657a86ea4daeeb81469a7991ed915d907f3e629c"
   }
  }
 },
 "nbformat": 4,
 "nbformat_minor": 2
}
